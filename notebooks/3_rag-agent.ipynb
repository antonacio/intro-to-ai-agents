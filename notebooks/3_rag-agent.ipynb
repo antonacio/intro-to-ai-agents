{
 "cells": [
  {
   "cell_type": "markdown",
   "id": "b78efe2d",
   "metadata": {},
   "source": [
    "# ReAct Agent + RAG Tool"
   ]
  },
  {
   "cell_type": "markdown",
   "id": "d1b10f58",
   "metadata": {},
   "source": [
    "In this notebook we will build a [ReAct](https://react-lm.github.io/) agent capable of answering questions about specific source information/documents. This agent will use a technique known as [Retrieval Augmented Generation (RAG)](https://python.langchain.com/docs/concepts/rag/).\n",
    "\n",
    "Retrieval Augmented Generation (RAG) is a powerful technique that enhances language models by combining them with external knowledge bases. RAG addresses a key limitation of models: models rely on fixed training datasets, which can lead to outdated or incomplete information.\n",
    "\n",
    "When given a query:\n",
    "1. RAG systems first search a knowledge base for relevant information\n",
    "2. The system then incorporates this retrieved information into the model's prompt\n",
    "3. The model uses the provided context to generate a response to the query.\n",
    "\n",
    "By bridging the gap between vast language models and dynamic, targeted information retrieval, RAG is a powerful technique for building more capable and reliable AI systems.\n",
    "\n",
    "A typical RAG application has two main components:\n",
    "1. **Ingestion** or **Indexing**: a pipeline for ingesting data from a source and indexing it. *This usually happens offline.*\n",
    "2. **Retrieval and generation**: the actual RAG chain, which takes the user query at run time and retrieves the relevant data from the index, then passes that to the model."
   ]
  },
  {
   "cell_type": "code",
   "execution_count": 1,
   "id": "1367c28c",
   "metadata": {},
   "outputs": [
    {
     "data": {
      "text/plain": [
       "True"
      ]
     },
     "execution_count": 1,
     "metadata": {},
     "output_type": "execute_result"
    }
   ],
   "source": [
    "# load the environment variables\n",
    "import os\n",
    "from dotenv import load_dotenv\n",
    "load_dotenv(verbose=True)"
   ]
  },
  {
   "cell_type": "markdown",
   "id": "f6ab04b0",
   "metadata": {},
   "source": [
    "## 1. Ingestion (or Indexing)\n",
    "The ingestion/indexing process follow these steps:\n",
    "1. Load: First we need to load our data. Since we are working with a PDF file, we will use [LangChain's PyPDFLoader](https://python.langchain.com/api_reference/community/document_loaders/langchain_community.document_loaders.pdf.PyPDFLoader.html) to parse the PDF file content.\n",
    "    >If you want to load other file types, you can explore [LangChain's repository of document loaders](https://python.langchain.com/docs/integrations/document_loaders/) or simply use [LangChain's DirectoryLoader](https://python.langchain.com/docs/how_to/document_loader_directory/), which is a simple interface that allows us to load a range of file types out-of-the-box.\n",
    "2. Split: Text splitters break large Documents into smaller chunks. This is useful both for indexing data and passing it into a model, as large chunks are harder to search over and won't fit in a model's finite context window. We will use [LangChain's RecursiveCharacterTextSplitter](https://python.langchain.com/docs/concepts/text_splitters/#text-structured-based) to split the documents.\n",
    "3. Embed and Store: We need somewhere to store and index our splits, so that they can be searched over later. This is often done using a VectorStore and Embeddings model. In this notebook, we will use [Chroma](https://github.com/chroma-core/chroma), a simple and easy-to-use open-source embedding database.\n",
    "\n",
    "![indexing-steps](https://python.langchain.com/assets/images/rag_indexing-8160f90a90a33253d0154659cf7d453f.png)\n",
    "\n",
    "The complete implementations of this process can be found in `src/examples/ingestion/ingest_data.py`"
   ]
  },
  {
   "cell_type": "markdown",
   "id": "828c8712",
   "metadata": {},
   "source": [
    "### Load Documents\n",
    "\n",
    "In this example, we'll load and ingest [Meta's Terms of Service](https://mbasic.facebook.com/legal/terms/plain_text_terms/) so that we can ask questions and better understand a document most of us have probably agreed to but never actually read!"
   ]
  },
  {
   "cell_type": "code",
   "execution_count": 2,
   "id": "d0536a36",
   "metadata": {},
   "outputs": [
    {
     "name": "stdout",
     "output_type": "stream",
     "text": [
      "[1/1] Loading Meta Terms of Service.pdf ... Loaded 12 pages from Meta Terms of Service.pdf\n",
      "Loaded 12 pages from 1 PDF document(s)\n"
     ]
    }
   ],
   "source": [
    "from langchain_community.document_loaders import PyPDFLoader\n",
    "\n",
    "data_directory = \"../data/\"\n",
    "file_names = os.listdir(data_directory)  # get files from data directory\n",
    "\n",
    "# create a list to store all pages from all documents\n",
    "docs_pages = []\n",
    "\n",
    "for i, file_name in enumerate(file_names, start=1):\n",
    "    if file_name.lower().endswith(\".pdf\"):\n",
    "        print(f\"[{i}/{len(file_names)}] Loading {file_name} ... \", end=\"\")\n",
    "        loader = PyPDFLoader(\n",
    "            file_path=os.path.join(data_directory, file_name),\n",
    "            mode=\"page\",\n",
    "            extract_images=False,\n",
    "            extraction_mode=\"plain\",\n",
    "        )\n",
    "        async for page in loader.alazy_load():\n",
    "            docs_pages.append(page)\n",
    "        print(f\"Loaded {len(docs_pages)} pages from {file_name}\")\n",
    "\n",
    "print(f\"Loaded {len(docs_pages)} pages from {len(file_names)} PDF document(s)\")"
   ]
  },
  {
   "cell_type": "code",
   "execution_count": 3,
   "id": "0a95e6a8",
   "metadata": {},
   "outputs": [
    {
     "data": {
      "text/plain": [
       "Document(metadata={'producer': 'Skia/PDF m137', 'creator': 'Mozilla/5.0 (Macintosh; Intel Mac OS X 10_15_7) AppleWebKit/537.36 (KHTML, like Gecko) Chrome/137.0.0.0 Safari/537.36', 'creationdate': '2025-06-23T21:10:36+00:00', 'title': 'Meta Terms of Service', 'moddate': '2025-06-23T21:10:36+00:00', 'source': '../data/Meta Terms of Service.pdf', 'total_pages': 12, 'page': 0, 'page_label': '1'}, page_content='Terms of Service\\nExplore the policy\\nOverview\\n1. The services we provide\\n2. How our services are funded\\n3. Your commitments to Facebook and our community\\n4. Additional provisions\\n5. Other terms and policies that may apply to you\\nOverview\\nEffective January 1, 2025\\nMeta builds technologies and services that enable people to connect with each oth‐\\ner, build communities, and grow businesses. These Terms of Service (the \"Terms\")\\ngovern your access and use of Facebook, Messenger, and the other products, web‐\\nsites, features, apps, services, technologies, and software we offer (the Meta\\nProducts or Products), except where we expressly state that separate terms (and\\nnot these) apply. (For example, your use of Instagram is subject to the Instagram\\nTerms of Use). These Products are provided to you by Meta Platforms, Inc. These\\nTerms therefore constitute an agreement between you and Meta Platforms, Inc. If\\nyou do not agree to these Terms, then do not access or use Facebook or the other\\nproducts and services covered by these Terms.\\nThese Terms (formerly known as the Statement of Rights and Responsibilities)\\nmake up the entire agreement between you and Meta Platforms, Inc. regarding your\\nuse of our Products. They supersede any prior agreements.\\nWe don’t charge you to use Facebook or the other products and services covered\\nby these Terms, unless we state otherwise. Instead, businesses and organizations,\\nand other persons pay us to show you ads for their products and services. By using\\nour Products, you agree that we can show you ads that we think may be relevant to\\nyou and your interests. We use your personal data to help determine which person‐\\nalized ads to show you.\\nWe don’t sell your personal data to advertisers, and we don’t share information that\\ndirectly identiﬁes you (such as your name, email address or other contact informa‐\\ntion) with advertisers unless you give us speciﬁc permission. Instead, advertisers\\ncan tell us things like the kind of audience they want to see their ads, and we show\\nthose ads to people who may be interested. We provide advertisers with reports\\nabout the performance of their ads that help them understand how people are inter‐')"
      ]
     },
     "execution_count": 3,
     "metadata": {},
     "output_type": "execute_result"
    }
   ],
   "source": [
    "docs_pages[0]"
   ]
  },
  {
   "cell_type": "markdown",
   "id": "5e3e6b83",
   "metadata": {},
   "source": [
    "### Split Documents"
   ]
  },
  {
   "cell_type": "code",
   "execution_count": 4,
   "id": "4b771eb3",
   "metadata": {},
   "outputs": [],
   "source": [
    "# filter unnecessary metadata from the loaded documents\n",
    "metadata_to_remove = [\"producer\", \"creator\", \"creationdate\", \"moddate\"]\n",
    "\n",
    "for page in docs_pages:\n",
    "    # remove unnecessary metadata\n",
    "    for metadata_key in metadata_to_remove:\n",
    "        page.metadata.pop(metadata_key, None)\n",
    "    # make page numbers start at 1 (PyPDFLoader indexes pages from 0)\n",
    "    if \"page\" in page.metadata and isinstance(page.metadata[\"page\"], int):\n",
    "        page.metadata[\"page\"] += 1"
   ]
  },
  {
   "cell_type": "code",
   "execution_count": 5,
   "id": "7a361053",
   "metadata": {},
   "outputs": [
    {
     "name": "stdout",
     "output_type": "stream",
     "text": [
      "Split 12 documents into 44 chunks\n"
     ]
    }
   ],
   "source": [
    "from langchain_text_splitters import RecursiveCharacterTextSplitter\n",
    "\n",
    "# split loaded pages into chunks of 1000 characters with 200 characters of overlap\n",
    "text_splitter = RecursiveCharacterTextSplitter(chunk_size=1000, chunk_overlap=200)\n",
    "doc_splits = text_splitter.split_documents(docs_pages)\n",
    "\n",
    "print(f\"Split {len(docs_pages)} documents into {len(doc_splits)} chunks\")"
   ]
  },
  {
   "cell_type": "code",
   "execution_count": 6,
   "id": "d0561c03",
   "metadata": {},
   "outputs": [
    {
     "data": {
      "text/plain": [
       "Document(metadata={'title': 'Meta Terms of Service', 'source': '../data/Meta Terms of Service.pdf', 'total_pages': 12, 'page': 1, 'page_label': '1'}, page_content='Terms of Service\\nExplore the policy\\nOverview\\n1. The services we provide\\n2. How our services are funded\\n3. Your commitments to Facebook and our community\\n4. Additional provisions\\n5. Other terms and policies that may apply to you\\nOverview\\nEffective January 1, 2025\\nMeta builds technologies and services that enable people to connect with each oth‐\\ner, build communities, and grow businesses. These Terms of Service (the \"Terms\")\\ngovern your access and use of Facebook, Messenger, and the other products, web‐\\nsites, features, apps, services, technologies, and software we offer (the Meta\\nProducts or Products), except where we expressly state that separate terms (and\\nnot these) apply. (For example, your use of Instagram is subject to the Instagram\\nTerms of Use). These Products are provided to you by Meta Platforms, Inc. These\\nTerms therefore constitute an agreement between you and Meta Platforms, Inc. If\\nyou do not agree to these Terms, then do not access or use Facebook or the other')"
      ]
     },
     "execution_count": 6,
     "metadata": {},
     "output_type": "execute_result"
    }
   ],
   "source": [
    "doc_splits[0]"
   ]
  },
  {
   "cell_type": "markdown",
   "id": "2ce05a92",
   "metadata": {},
   "source": [
    "### Embed and Store Documents"
   ]
  },
  {
   "cell_type": "code",
   "execution_count": 7,
   "id": "76d6cc82",
   "metadata": {},
   "outputs": [
    {
     "name": "stderr",
     "output_type": "stream",
     "text": [
      "2025-07-12 18:52:09,944 - INFO - examples.config - Using OpenAI model: gpt-4.1\n",
      "2025-07-12 18:52:09,945 - INFO - examples.config - Using OpenAI embedding model: text-embedding-3-small\n"
     ]
    }
   ],
   "source": [
    "from chromadb import PersistentClient\n",
    "from chromadb.config import Settings\n",
    "from examples.config import embedding_model\n",
    "from langchain_chroma import Chroma\n",
    "\n",
    "vector_store_directory = \"../vector_store/\"\n",
    "collection_name = \"meta_terms_of_service\"\n",
    "\n",
    "vector_store_client = PersistentClient(\n",
    "    path=vector_store_directory,\n",
    "    settings=Settings(anonymized_telemetry=False)\n",
    ")\n",
    "\n",
    "vector_store = Chroma(\n",
    "    client=vector_store_client,\n",
    "    collection_name=collection_name,\n",
    "    collection_metadata={\"num_files\": len(file_names), \"file_names\": \", \".join(file_names)},\n",
    "    embedding_function=embedding_model,\n",
    ")"
   ]
  },
  {
   "cell_type": "code",
   "execution_count": 8,
   "id": "48a0a19a",
   "metadata": {},
   "outputs": [
    {
     "name": "stderr",
     "output_type": "stream",
     "text": [
      "2025-07-12 18:52:12,132 - INFO - httpx - HTTP Request: POST https://api.openai.com/v1/embeddings \"HTTP/1.1 200 OK\"\n"
     ]
    }
   ],
   "source": [
    "# Index chunks\n",
    "chunk_indexes = vector_store.add_documents(documents=doc_splits)"
   ]
  },
  {
   "cell_type": "markdown",
   "id": "ee0d1daa",
   "metadata": {},
   "source": [
    "## 2. Retrieval and generation\n",
    "1. Retrieve: Given a user input, relevant splits are retrieved from storage using a [Retriever](https://python.langchain.com/docs/concepts/retrievers/).\n",
    "2. Generate: A ChatModel / LLM produces an answer using a prompt that includes both the question with the retrieved data\n",
    "\n",
    "![retrieval-and-generation](https://python.langchain.com/assets/images/rag_retrieval_generation-1046a4668d6bb08786ef73c56d4f228a.png)\n",
    "\n",
    "To do this, we will use the ReAct agent associated with a RAG tool."
   ]
  },
  {
   "cell_type": "code",
   "execution_count": 9,
   "id": "a048572e",
   "metadata": {},
   "outputs": [
    {
     "data": {
      "text/plain": [
       "{'num_files': 1, 'file_names': 'Meta Terms of Service.pdf'}"
      ]
     },
     "execution_count": 9,
     "metadata": {},
     "output_type": "execute_result"
    }
   ],
   "source": [
    "vector_store._collection_metadata"
   ]
  },
  {
   "cell_type": "code",
   "execution_count": 10,
   "id": "942a120b",
   "metadata": {},
   "outputs": [],
   "source": [
    "from langchain_core.tools import tool\n",
    "from textwrap import dedent\n",
    "\n",
    "retrieval_tool_description = f\"\"\"\\\n",
    "Search and retrieve information from documents to answer a user query.\n",
    "You have access to the following {vector_store._collection_metadata[\"num_files\"]} document(s):\n",
    "{vector_store._collection_metadata[\"file_names\"]}\n",
    "\"\"\"\n",
    "\n",
    "@tool(response_format=\"content_and_artifact\", description=retrieval_tool_description)\n",
    "def retrieve(query: str):\n",
    "    # retrieve documents from the vector store with max marginal relevance\n",
    "    retrieved_chunks = vector_store.max_marginal_relevance_search(query, k=3)\n",
    "    # format the retrieved chunks into a single string\n",
    "    context = \"\\n\\n\".join(\n",
    "        (\n",
    "            f\"## {i}. Retrieved Document Chunk\\n\\n\"\n",
    "            f\"### Chunk Metadata:\\n{doc.metadata}\\n\\n\"\n",
    "            f\"### Chunk Content:\\n{doc.page_content}\"\n",
    "        ) for i, doc in enumerate(retrieved_chunks, start=1)\n",
    "    )\n",
    "    # build message with the context to be used by the LLM\n",
    "    context_message = dedent(\n",
    "        \"\"\"\\\n",
    "        Use the following pieces of context retrieved from the documents to answer the question.\n",
    "        If you don't have enough information to answer the question, say that you can't answer it.\n",
    "\n",
    "        # Context\n",
    "\n",
    "        {context}\n",
    "        \"\"\"\n",
    "    ).format(context=context)\n",
    "    \n",
    "    return context_message, retrieved_chunks"
   ]
  },
  {
   "cell_type": "code",
   "execution_count": 11,
   "id": "a1d39a0a",
   "metadata": {},
   "outputs": [],
   "source": [
    "from examples.agents.react.agent import ReActAgent\n",
    "from examples.config import llm\n",
    "\n",
    "react_rag_agent = ReActAgent(\n",
    "    llm=llm,\n",
    "    tools=[retrieve],\n",
    "    system_prompt=\"You are a helpful assistant for question-answering tasks.\",\n",
    ")"
   ]
  },
  {
   "cell_type": "markdown",
   "id": "98c6673f",
   "metadata": {},
   "source": [
    "### Run ReAct Agent with RAG tool"
   ]
  },
  {
   "cell_type": "code",
   "execution_count": 12,
   "id": "8a75098f",
   "metadata": {},
   "outputs": [
    {
     "name": "stderr",
     "output_type": "stream",
     "text": [
      "2025-07-12 18:52:25,468 - INFO - httpx - HTTP Request: POST https://api.openai.com/v1/chat/completions \"HTTP/1.1 200 OK\"\n",
      "2025-07-12 18:52:25,996 - INFO - httpx - HTTP Request: POST https://api.openai.com/v1/embeddings \"HTTP/1.1 200 OK\"\n",
      "2025-07-12 18:52:30,021 - INFO - httpx - HTTP Request: POST https://api.openai.com/v1/chat/completions \"HTTP/1.1 200 OK\"\n"
     ]
    }
   ],
   "source": [
    "from langchain_core.messages import HumanMessage, ToolMessage\n",
    "\n",
    "# Define the input\n",
    "messages = [\n",
    "    HumanMessage(content=\"What can Meta do with my personal data?\"),\n",
    "]\n",
    "\n",
    "# Run the graph\n",
    "react_output = react_rag_agent.run(input={\"messages\": messages})"
   ]
  },
  {
   "cell_type": "code",
   "execution_count": 13,
   "id": "f88c8fec",
   "metadata": {},
   "outputs": [
    {
     "name": "stdout",
     "output_type": "stream",
     "text": [
      "================================\u001b[1m Human Message \u001b[0m=================================\n",
      "\n",
      "What can Meta do with my personal data?\n",
      "==================================\u001b[1m Ai Message \u001b[0m==================================\n",
      "Tool Calls:\n",
      "  retrieve (call_nfGsblcmYaKaiF31sqwowqc5)\n",
      " Call ID: call_nfGsblcmYaKaiF31sqwowqc5\n",
      "  Args:\n",
      "    query: What can Meta do with my personal data?\n",
      "=================================\u001b[1m Tool Message \u001b[0m=================================\n",
      "Name: retrieve\n",
      "\n",
      "Use the following pieces of context retrieved from the documents to answer the question.\n",
      "If you don't have enough information to answer the question, say that you can't answer it.\n",
      "\n",
      "# Context\n",
      "\n",
      "## 1. Retrieved Document Chunk\n",
      "\n",
      "### Chunk Metadata:\n",
      "{'page': 3, 'page_label': '3', 'title': 'Meta Terms of Service', 'source': '../data/Meta Terms of Service.pdf', 'total_pages': 12}\n",
      "\n",
      "### Chunk Content:\n",
      "entities and develop advanced technical systems to detect potential misuse of our\n",
      "Products, harmful conduct towards others, and situations where we may be able to\n",
      "help support or protect our community, including to respond to user reports of poten‐\n",
      "tially violating content. If we learn of content or conduct like this, we may take appro‐\n",
      "priate action based on our assessment that may include - notifying you, offering\n",
      "help, removing content, removing or restricting access to certain features, disabling\n",
      "an account, or contacting law enforcement. We share data across Meta Companies\n",
      "when we detect misuse or harmful conduct by someone using one of our Products\n",
      "or to help keep Meta Products, users and the community safe. For example, we\n",
      "share information with Meta Companies that provide ﬁnancial products and services\n",
      "to help them promote safety, security and integrity and comply with applicable law.\n",
      "Meta may access, preserve, use and share any information it collects about you\n",
      "\n",
      "## 2. Retrieved Document Chunk\n",
      "\n",
      "### Chunk Metadata:\n",
      "{'page': 4, 'total_pages': 12, 'page_label': '4', 'source': '../data/Meta Terms of Service.pdf', 'title': 'Meta Terms of Service'}\n",
      "\n",
      "### Chunk Content:\n",
      "personalized ads and other commercial and sponsored content that businesses and\n",
      "organizations pay us to promote on and off Meta Company Products. We use your\n",
      "personal data, such as information about your activity and interests, to show you\n",
      "personalized ads and sponsored content that may be more relevant to you.\n",
      "Protecting people's privacy is central to how we've designed our personalized ads\n",
      "system. This means that we can show you relevant and useful ads without telling\n",
      "advertisers who you are. We don't sell your personal data. We allow advertisers to\n",
      "tell us things like their business goal, and the kind of audience they want to see their\n",
      "ads (for example, people between the age of 18-35 who like cycling). We then show\n",
      "their ad to people who we think might be interested.\n",
      "We also provide advertisers with reports about the performance of their ads to help\n",
      "them understand how people are interacting with their content on and off Meta\n",
      "\n",
      "## 3. Retrieved Document Chunk\n",
      "\n",
      "### Chunk Metadata:\n",
      "{'source': '../data/Meta Terms of Service.pdf', 'page': 12, 'title': 'Meta Terms of Service', 'page_label': '12', 'total_pages': 12}\n",
      "\n",
      "### Chunk Content:\n",
      "velop functionality, retrieve data from MetaProducts, or provide data to us.\n",
      "Developer Payment Terms: These terms apply to developers of applications that\n",
      "use Facebook Payments.\n",
      "Meta Brand Resources: These guidelines outline the policies that apply to use of\n",
      "Meta trademarks, logos, and screenshots.\n",
      "Recommendations Guidelines: The Facebook Recommendations Guidelines and\n",
      "Instagram Recommendations Guidelines outline our standards for recommending\n",
      "and not recommending content.\n",
      "Live Policies: These policies apply to all content broadcast to Facebook Live.\n",
      "Avatar Terms: These terms apply to the use of our Avatars and our Avatar fea‐\n",
      "tures, including purchases and acquisitions of Avatar clothing in the Avatar store.\n",
      "Meta AI Terms: These terms govern use of our Generative AI products and\n",
      "features.\n",
      "\n",
      "\n",
      " --> Tool artifact: [Document(id='fdfd69d6-3628-4169-93b7-2e62291ca34a', metadata={'page': 3, 'page_label': '3', 'title': 'Meta Terms of Service', 'source': '../data/Meta Terms of Service.pdf', 'total_pages': 12}, page_content='entities and develop advanced technical systems to detect potential misuse of our\\nProducts, harmful conduct towards others, and situations where we may be able to\\nhelp support or protect our community, including to respond to user reports of poten‐\\ntially violating content. If we learn of content or conduct like this, we may take appro‐\\npriate action based on our assessment that may include - notifying you, offering\\nhelp, removing content, removing or restricting access to certain features, disabling\\nan account, or contacting law enforcement. We share data across Meta Companies\\nwhen we detect misuse or harmful conduct by someone using one of our Products\\nor to help keep Meta Products, users and the community safe. For example, we\\nshare information with Meta Companies that provide ﬁnancial products and services\\nto help them promote safety, security and integrity and comply with applicable law.\\nMeta may access, preserve, use and share any information it collects about you'), Document(id='bc1c9bb2-3dd5-4cac-84ba-68bc002140dd', metadata={'page': 4, 'total_pages': 12, 'page_label': '4', 'source': '../data/Meta Terms of Service.pdf', 'title': 'Meta Terms of Service'}, page_content=\"personalized ads and other commercial and sponsored content that businesses and\\norganizations pay us to promote on and off Meta Company Products. We use your\\npersonal data, such as information about your activity and interests, to show you\\npersonalized ads and sponsored content that may be more relevant to you.\\nProtecting people's privacy is central to how we've designed our personalized ads\\nsystem. This means that we can show you relevant and useful ads without telling\\nadvertisers who you are. We don't sell your personal data. We allow advertisers to\\ntell us things like their business goal, and the kind of audience they want to see their\\nads (for example, people between the age of 18-35 who like cycling). We then show\\ntheir ad to people who we think might be interested.\\nWe also provide advertisers with reports about the performance of their ads to help\\nthem understand how people are interacting with their content on and off Meta\"), Document(id='142c05b0-7091-4a4e-9fa2-edaa97b169e8', metadata={'source': '../data/Meta Terms of Service.pdf', 'page': 12, 'title': 'Meta Terms of Service', 'page_label': '12', 'total_pages': 12}, page_content='velop functionality, retrieve data from MetaProducts, or provide data to us.\\nDeveloper Payment Terms: These terms apply to developers of applications that\\nuse Facebook Payments.\\nMeta Brand Resources: These guidelines outline the policies that apply to use of\\nMeta trademarks, logos, and screenshots.\\nRecommendations Guidelines: The Facebook Recommendations Guidelines and\\nInstagram Recommendations Guidelines outline our standards for recommending\\nand not recommending content.\\nLive Policies: These policies apply to all content broadcast to Facebook Live.\\nAvatar Terms: These terms apply to the use of our Avatars and our Avatar fea‐\\ntures, including purchases and acquisitions of Avatar clothing in the Avatar store.\\nMeta AI Terms: These terms govern use of our Generative AI products and\\nfeatures.')] (type: <class 'list'>)\n",
      "==================================\u001b[1m Ai Message \u001b[0m==================================\n",
      "\n",
      "Meta can do the following with your personal data, according to their Terms of Service:\n",
      "\n",
      "1. Personalized Advertising: Meta uses your personal data, such as your activity and interests, to show you personalized ads and sponsored content that they believe will be more relevant to you. Advertisers can specify what audience they want to reach, but Meta states that it does not sell your personal data to advertisers. Instead, it uses your information to match you with relevant ads without directly telling advertisers who you are.\n",
      "\n",
      "2. Sharing Data for Safety and Security: Meta may access, preserve, use, and share information it collects about you with other Meta companies, especially if there is potential misuse of their products, harmful conduct, or to help keep users and the community safe. This includes responding to reports of violating content, taking actions like removing content or disabling accounts, and sometimes contacting law enforcement.\n",
      "\n",
      "3. Advertiser Reports: Meta provides advertisers with aggregate reports about ad performance to help them understand how people interact with their content, but does not directly share your personal identity in these reports.\n",
      "\n",
      "Meta emphasizes that protecting privacy is central to its advertising system and claims not to sell your personal data.\n",
      "\n",
      "If you need more specific details, such as about your rights or Meta's data retention policies, please let me know!\n"
     ]
    }
   ],
   "source": [
    "# get messages and tool outputs\n",
    "for m in react_output[\"messages\"]:\n",
    "    m.pretty_print()\n",
    "    if isinstance(m, ToolMessage):\n",
    "        print()\n",
    "        print(f\" --> Tool artifact: {m.artifact} (type: {type(m.artifact)})\")"
   ]
  },
  {
   "cell_type": "code",
   "execution_count": 14,
   "id": "3bb2981d",
   "metadata": {},
   "outputs": [
    {
     "name": "stdout",
     "output_type": "stream",
     "text": [
      "Meta can do the following with your personal data, according to their Terms of Service:\n",
      "\n",
      "1. Personalized Advertising: Meta uses your personal data, such as your activity and interests, to show you personalized ads and sponsored content that they believe will be more relevant to you. Advertisers can specify what audience they want to reach, but Meta states that it does not sell your personal data to advertisers. Instead, it uses your information to match you with relevant ads without directly telling advertisers who you are.\n",
      "\n",
      "2. Sharing Data for Safety and Security: Meta may access, preserve, use, and share information it collects about you with other Meta companies, especially if there is potential misuse of their products, harmful conduct, or to help keep users and the community safe. This includes responding to reports of violating content, taking actions like removing content or disabling accounts, and sometimes contacting law enforcement.\n",
      "\n",
      "3. Advertiser Reports: Meta provides advertisers with aggregate reports about ad performance to help them understand how people interact with their content, but does not directly share your personal identity in these reports.\n",
      "\n",
      "Meta emphasizes that protecting privacy is central to its advertising system and claims not to sell your personal data.\n",
      "\n",
      "If you need more specific details, such as about your rights or Meta's data retention policies, please let me know!\n"
     ]
    }
   ],
   "source": [
    "final_message = react_output[\"messages\"][-1]\n",
    "print(final_message.content)"
   ]
  },
  {
   "cell_type": "code",
   "execution_count": null,
   "id": "27cb1f79",
   "metadata": {},
   "outputs": [],
   "source": []
  },
  {
   "cell_type": "markdown",
   "id": "fe415970",
   "metadata": {},
   "source": [
    "### List Ingested Collections"
   ]
  },
  {
   "cell_type": "code",
   "execution_count": 15,
   "id": "5d2ae14d",
   "metadata": {},
   "outputs": [
    {
     "name": "stderr",
     "output_type": "stream",
     "text": [
      "2025-07-12 18:52:48,049 - INFO - examples.ingestion.list_data -   Listing collections and their segment folders...\n",
      "2025-07-12 18:52:48,051 - INFO - examples.ingestion.list_data -   Found 2 collections:\n",
      "2025-07-12 18:52:48,052 - INFO - examples.ingestion.list_data -   Collection: 'meta_terms_of_service' -> ID: 635f6d73-bdb1-43eb-935b-e51d3a8d835d | metadata: {'num_files': 1, 'file_names': 'Meta Terms of Service.pdf'}\n",
      "2025-07-12 18:52:48,053 - INFO - examples.ingestion.list_data -   Found VECTOR segment: da866460-8f85-48a7-8048-564d2ebabcb9 (urn:chroma:segment/vector/hnsw-local-persisted) - has folder\n",
      "2025-07-12 18:52:48,053 - INFO - examples.ingestion.list_data -   Found METADATA segment: 284beb04-7016-4039-937e-4424752d904d (urn:chroma:segment/metadata/sqlite) - no folder\n",
      "2025-07-12 18:52:48,054 - INFO - examples.ingestion.list_data -   Collection has 1 VECTOR segment(s) and 1 METADATA segment(s)\n",
      "2025-07-12 18:52:48,055 - INFO - examples.ingestion.list_data -      VECTOR segment folder: da866460-8f85-48a7-8048-564d2ebabcb9 (Size: 60.0 MB)\n",
      "2025-07-12 18:52:48,055 - INFO - examples.ingestion.list_data -   Total folder size: 60.0 MB\n",
      "2025-07-12 18:52:48,055 - INFO - examples.ingestion.list_data -   Collection: 'rag_collection' -> ID: 9e67ccfb-7eea-4a95-90d4-1eec67014dbd | metadata: {'num_files': 1, 'file_names': 'Meta Terms of Service.pdf'}\n",
      "2025-07-12 18:52:48,056 - INFO - examples.ingestion.list_data -   Found VECTOR segment: 2b4cc1b0-8167-466a-8c99-7f297648f733 (urn:chroma:segment/vector/hnsw-local-persisted) - has folder\n",
      "2025-07-12 18:52:48,056 - INFO - examples.ingestion.list_data -   Found METADATA segment: 8777a79d-1a3c-4c3c-8e1f-d8c78821fe50 (urn:chroma:segment/metadata/sqlite) - no folder\n",
      "2025-07-12 18:52:48,056 - INFO - examples.ingestion.list_data -   Collection has 1 VECTOR segment(s) and 1 METADATA segment(s)\n",
      "2025-07-12 18:52:48,057 - INFO - examples.ingestion.list_data -      VECTOR segment folder: 2b4cc1b0-8167-466a-8c99-7f297648f733 (Size: 60.0 MB)\n",
      "2025-07-12 18:52:48,057 - INFO - examples.ingestion.list_data -   Total folder size: 60.0 MB\n",
      "2025-07-12 18:52:48,057 - INFO - examples.ingestion.list_data -   Total size across all collections: 119.9 MB\n"
     ]
    }
   ],
   "source": [
    "from examples.ingestion import list_collections_and_folders\n",
    "\n",
    "list_collections_and_folders()"
   ]
  },
  {
   "cell_type": "markdown",
   "id": "1bf6a6f3",
   "metadata": {},
   "source": [
    "### Delete Ingested Collection"
   ]
  },
  {
   "cell_type": "code",
   "execution_count": 16,
   "id": "46a7caa2",
   "metadata": {},
   "outputs": [
    {
     "name": "stderr",
     "output_type": "stream",
     "text": [
      "2025-07-12 18:54:44,169 - INFO - examples.ingestion.delete_data - Deleting data for collection 'meta_terms_of_service' from the vector store ...\n",
      "2025-07-12 18:54:44,170 - INFO - examples.ingestion.delete_data - Found collection ID: 635f6d73-bdb1-43eb-935b-e51d3a8d835d\n",
      "2025-07-12 18:54:44,171 - INFO - examples.ingestion.delete_data - Found VECTOR segment: da866460-8f85-48a7-8048-564d2ebabcb9 (urn:chroma:segment/vector/hnsw-local-persisted) - has folder\n",
      "2025-07-12 18:54:44,171 - INFO - examples.ingestion.delete_data - Found METADATA segment: 284beb04-7016-4039-937e-4424752d904d (urn:chroma:segment/metadata/sqlite) - no folder\n",
      "2025-07-12 18:54:44,171 - INFO - examples.ingestion.delete_data - Will delete 1 VECTOR segment folder(s), skipping 1 METADATA segment(s)\n",
      "2025-07-12 18:54:44,185 - INFO - examples.ingestion.delete_data - Collection 'meta_terms_of_service' deleted from ChromaDB client.\n",
      "2025-07-12 18:54:44,187 - INFO - examples.ingestion.delete_data - Removing segment folder: da866460-8f85-48a7-8048-564d2ebabcb9 (Size: 60.0 MB)\n",
      "2025-07-12 18:54:44,188 - INFO - examples.ingestion.delete_data - Successfully removed segment folder: da866460-8f85-48a7-8048-564d2ebabcb9\n",
      "2025-07-12 18:54:44,188 - INFO - examples.ingestion.delete_data - Collection 'meta_terms_of_service' and its VECTOR segment folders deleted successfully.\n"
     ]
    },
    {
     "name": "stdout",
     "output_type": "stream",
     "text": [
      "Deleting ingested data from collection 'meta_terms_of_service'...\n"
     ]
    }
   ],
   "source": [
    "from examples.ingestion import delete_collection_data\n",
    "\n",
    "print(f\"Deleting ingested data from collection '{collection_name}'...\")\n",
    "\n",
    "delete_collection_data(collection_name)"
   ]
  },
  {
   "cell_type": "code",
   "execution_count": null,
   "id": "c79efde0",
   "metadata": {},
   "outputs": [],
   "source": []
  }
 ],
 "metadata": {
  "kernelspec": {
   "display_name": ".venv",
   "language": "python",
   "name": "python3"
  },
  "language_info": {
   "codemirror_mode": {
    "name": "ipython",
    "version": 3
   },
   "file_extension": ".py",
   "mimetype": "text/x-python",
   "name": "python",
   "nbconvert_exporter": "python",
   "pygments_lexer": "ipython3",
   "version": "3.12.9"
  }
 },
 "nbformat": 4,
 "nbformat_minor": 5
}
