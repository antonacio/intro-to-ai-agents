{
 "cells": [
  {
   "cell_type": "markdown",
   "id": "b78efe2d",
   "metadata": {},
   "source": [
    "# ReAct Agent + RAG Tool"
   ]
  },
  {
   "cell_type": "markdown",
   "id": "d1b10f58",
   "metadata": {},
   "source": [
    "In this notebook we will build a [ReAct](https://react-lm.github.io/) agent capable of answering questions about specific source information/documents. This agent will use a technique known as [Retrieval Augmented Generation (RAG)](https://python.langchain.com/docs/concepts/rag/).\n",
    "\n",
    "Retrieval Augmented Generation (RAG) is a powerful technique that enhances language models by combining them with external knowledge bases. RAG addresses a key limitation of models: models rely on fixed training datasets, which can lead to outdated or incomplete information.\n",
    "\n",
    "When given a query:\n",
    "1. RAG systems first search a knowledge base for relevant information\n",
    "2. The system then incorporates this retrieved information into the model's prompt\n",
    "3. The model uses the provided context to generate a response to the query.\n",
    "\n",
    "By bridging the gap between vast language models and dynamic, targeted information retrieval, RAG is a powerful technique for building more capable and reliable AI systems.\n",
    "\n",
    "A typical RAG application has two main components:\n",
    "1. **Indexing**: a pipeline for ingesting data from a source and indexing it. *This usually happens offline.*\n",
    "2. **Retrieval and generation**: the actual RAG chain, which takes the user query at run time and retrieves the relevant data from the index, then passes that to the model."
   ]
  },
  {
   "cell_type": "code",
   "execution_count": 1,
   "id": "1367c28c",
   "metadata": {},
   "outputs": [
    {
     "data": {
      "text/plain": [
       "True"
      ]
     },
     "execution_count": 1,
     "metadata": {},
     "output_type": "execute_result"
    }
   ],
   "source": [
    "# load the environment variables\n",
    "import os\n",
    "from dotenv import load_dotenv\n",
    "load_dotenv(verbose=True)"
   ]
  },
  {
   "cell_type": "markdown",
   "id": "f6ab04b0",
   "metadata": {},
   "source": [
    "## 1. Indexing\n",
    "The indexing process follow these steps:\n",
    "1. Load: First we need to load our data. We will use [LangChain's DirectoryLoader](https://python.langchain.com/docs/how_to/document_loader_directory/), a simple interface that allows us to load a range of file types out-of-the-box.\n",
    "2. Split: Text splitters break large Documents into smaller chunks. This is useful both for indexing data and passing it into a model, as large chunks are harder to search over and won't fit in a model's finite context window. We will use [LangChain's RecursiveCharacterTextSplitter](https://python.langchain.com/docs/concepts/text_splitters/#text-structured-based) to split the documents.\n",
    "3. Embed and Store: We need somewhere to store and index our splits, so that they can be searched over later. This is often done using a VectorStore and Embeddings model. In this notebook, we will use [Chroma](https://github.com/chroma-core/chroma), a simple and easy-to-use open-source embedding database.\n",
    "\n",
    "![indexing-steps](https://python.langchain.com/assets/images/rag_indexing-8160f90a90a33253d0154659cf7d453f.png)\n",
    "\n",
    "The complete implementations of this process can be found in `src/hackathon/index_data.py`"
   ]
  },
  {
   "cell_type": "markdown",
   "id": "828c8712",
   "metadata": {},
   "source": [
    "### Load Documents\n",
    "\n",
    "In this example, we'll load and ingest [Meta's Terms of Service](https://mbasic.facebook.com/legal/terms/plain_text_terms/) so that we can ask questions and better understand a document most of us have probably agreed to but never actually read!"
   ]
  },
  {
   "cell_type": "code",
   "execution_count": 2,
   "id": "aa23b591",
   "metadata": {},
   "outputs": [
    {
     "name": "stderr",
     "output_type": "stream",
     "text": [
      "  0%|          | 0/1 [00:00<?, ?it/s]/Users/pedro/code/_general/intro-to-ai-agents/.venv/lib/python3.12/site-packages/tqdm/auto.py:21: TqdmWarning: IProgress not found. Please update jupyter and ipywidgets. See https://ipywidgets.readthedocs.io/en/stable/user_install.html\n",
      "  from .autonotebook import tqdm as notebook_tqdm\n",
      "100%|██████████| 1/1 [00:06<00:00,  6.15s/it]"
     ]
    },
    {
     "name": "stdout",
     "output_type": "stream",
     "text": [
      "Loaded 1 documents\n"
     ]
    },
    {
     "name": "stderr",
     "output_type": "stream",
     "text": [
      "\n"
     ]
    }
   ],
   "source": [
    "from langchain_community.document_loaders import DirectoryLoader\n",
    "\n",
    "data_directory = \"../data/\"\n",
    "\n",
    "loader = DirectoryLoader(path=data_directory, show_progress=True, use_multithreading=True)\n",
    "\n",
    "documents = loader.load()\n",
    "\n",
    "print(f\"Loaded {len(documents)} documents\")"
   ]
  },
  {
   "cell_type": "markdown",
   "id": "5e3e6b83",
   "metadata": {},
   "source": [
    "### Split Documents"
   ]
  },
  {
   "cell_type": "code",
   "execution_count": 3,
   "id": "7a361053",
   "metadata": {},
   "outputs": [
    {
     "name": "stdout",
     "output_type": "stream",
     "text": [
      "Split 1 documents into 45 chunks\n"
     ]
    }
   ],
   "source": [
    "from langchain_text_splitters import RecursiveCharacterTextSplitter\n",
    "\n",
    "text_splitter = RecursiveCharacterTextSplitter(chunk_size=1000, chunk_overlap=200)\n",
    "doc_splits = text_splitter.split_documents(documents)\n",
    "\n",
    "print(f\"Split {len(documents)} documents into {len(doc_splits)} chunks\")"
   ]
  },
  {
   "cell_type": "code",
   "execution_count": 4,
   "id": "d0561c03",
   "metadata": {},
   "outputs": [
    {
     "data": {
      "text/plain": [
       "[Document(metadata={'source': '../data/Meta Terms of Service.pdf'}, page_content='Terms of Service\\n\\nExplore the policy\\n\\nOverview\\n\\n1. The services we provide\\n\\n2. How our services are funded\\n\\n3. Your commitments to Facebook and our community\\n\\n4. Additional provisions\\n\\n5. Other terms and policies that may apply to you\\n\\nOverview\\n\\nEffective January 1, 2025'),\n",
       " Document(metadata={'source': '../data/Meta Terms of Service.pdf'}, page_content='2. How our services are funded\\n\\n3. Your commitments to Facebook and our community\\n\\n4. Additional provisions\\n\\n5. Other terms and policies that may apply to you\\n\\nOverview\\n\\nEffective January 1, 2025\\n\\nMeta builds technologies and services that enable people to connect with each oth‐ er, build communities, and grow businesses. These Terms of Service (the \"Terms\") govern your access and use of Facebook, Messenger, and the other products, web‐ sites, features, apps, services, technologies, and software we offer (the Meta Products or Products), except where we expressly state that separate terms (and not these) apply. (For example, your use of Instagram is subject to the Instagram Terms of Use). These Products are provided to you by Meta Platforms, Inc. These Terms therefore constitute an agreement between you and Meta Platforms, Inc. If you do not agree to these Terms, then do not access or use Facebook or the other products and services covered by these Terms.'),\n",
       " Document(metadata={'source': '../data/Meta Terms of Service.pdf'}, page_content='These Terms (formerly known as the Statement of Rights and Responsibilities) make up the entire agreement between you and Meta Platforms, Inc. regarding your use of our Products. They supersede any prior agreements.\\n\\nWe don’t charge you to use Facebook or the other products and services covered by these Terms, unless we state otherwise. Instead, businesses and organizations, and other persons pay us to show you ads for their products and services. By using our Products, you agree that we can show you ads that we think may be relevant to you and your interests. We use your personal data to help determine which person‐ alized ads to show you.'),\n",
       " Document(metadata={'source': '../data/Meta Terms of Service.pdf'}, page_content='We don’t sell your personal data to advertisers, and we don’t share information that directly identiﬁes you (such as your name, email address or other contact informa‐ tion) with advertisers unless you give us speciﬁc permission. Instead, advertisers can tell us things like the kind of audience they want to see their ads, and we show those ads to people who may be interested. We provide advertisers with reports about the performance of their ads that help them understand how people are inter‐\\n\\nacting with their content. See Section 2 below to learn more about how personalized advertising under these terms works on the Meta Products.\\n\\nOur Privacy Policy explains how we collect and use your personal data to determine some of the ads you see and provide all of the other services described below. You can also go to your settings pages of the relevant Meta Product at any time to re‐ view the privacy choices you have about how we use your data.\\n\\nWhat Products do these Terms cover?'),\n",
       " Document(metadata={'source': '../data/Meta Terms of Service.pdf'}, page_content=\"What Products do these Terms cover?\\n\\n1. The services we provide\\n\\nOur mission is to give people the power to build community and bring the world clos‐ er together. To help advance this mission, we provide the Products and services de‐ scribed below to you:\\n\\n1.1 Provide a personalized experience for you:\\n\\nYour experience on Facebook is unlike anyone else's: from the posts, stories, events, ads, and other content you see in Facebook Feed or our video platform to the Facebook Pages you follow and other features you might use, such as Facebook Marketplace, and search. For example, we use data about the connec‐ tions you make, the choices and settings you select, and what you share and do on and off our Products - to personalize your experience.\\n\\n1.2 Connect you with people and organizations you care about:\"),\n",
       " Document(metadata={'source': '../data/Meta Terms of Service.pdf'}, page_content='1.2 Connect you with people and organizations you care about:\\n\\nWe help you ﬁnd and connect with people, groups, businesses, organizations, and others that matter to you across the Meta Products you use. We use data to make suggestions for you and others - for example, groups to join, events to attend, Facebook Pages to follow or send a message to, shows to watch, and people you may want to become friends with. Stronger ties make for better communities, and we believe our services are most useful when people are connected to people, groups, and organizations they care about.\\n\\n1.3 Empower you to express yourself and communicate about what matters to you:'),\n",
       " Document(metadata={'source': '../data/Meta Terms of Service.pdf'}, page_content='1.3 Empower you to express yourself and communicate about what matters to you:\\n\\nThere are many ways to express yourself on Facebook to communicate with friends, family, and others about what matters to you - for example, sharing status updates, photos, videos, and stories across the Meta Products (consistent with your settings), sending messages or making voice or video calls to a friend or several people, cre‐ ating events or groups, or adding content to your proﬁle as well as showing you in‐ sights on how others engage with your content. We have also developed, and con‐ tinue to explore, new ways for people to use technology, such as augmented reality and 360 video to create and share more expressive and engaging content on Meta Products.\\n\\n1.4 Help you discover content, products, and services that may interest you:'),\n",
       " Document(metadata={'source': '../data/Meta Terms of Service.pdf'}, page_content='1.4 Help you discover content, products, and services that may interest you:\\n\\nWe show you personalized ads, offers, and other sponsored or commercial content to help you discover content, products, and services that are offered by the many businesses and organizations that use Facebook and other Meta Products. Section 2 below explains this in more detail.\\n\\n1.5 Promote the safety, security, and integrity of our ser‐ vices, combat harmful conduct and keep our community of users safe:'),\n",
       " Document(metadata={'source': '../data/Meta Terms of Service.pdf'}, page_content='People will only build community on Meta Products if they feel safe and secure. We work hard to maintain the security (including the availability, authenticity, integrity, and conﬁdentiality) of our Products and services. We employ dedicated teams around the world, work with external service providers, partners and other relevant entities and develop advanced technical systems to detect potential misuse of our Products, harmful conduct towards others, and situations where we may be able to help support or protect our community, including to respond to user reports of poten‐ tially violating content. If we learn of content or conduct like this, we may take appro‐ priate action based on our assessment that may include - notifying you, offering help, removing content, removing or restricting access to certain features, disabling an account, or contacting law enforcement. We share data across Meta Companies when we detect misuse or harmful conduct by someone using one of our Products or'),\n",
       " Document(metadata={'source': '../data/Meta Terms of Service.pdf'}, page_content='access to certain features, disabling an account, or contacting law enforcement. We share data across Meta Companies when we detect misuse or harmful conduct by someone using one of our Products or to help keep Meta Products, users and the community safe. For example, we share information with Meta Companies that provide ﬁnancial products and services to help them promote safety, security and integrity and comply with applicable law. Meta may access, preserve, use and share any information it collects about you where it has a good faith belief it is required or permitted by law to do so. For more information, please review our Privacy Policy.'),\n",
       " Document(metadata={'source': '../data/Meta Terms of Service.pdf'}, page_content='In some cases, the Oversight Board may review our decisions, subject to its terms and bylaws. Learn more here.\\n\\n1.6 Use and develop advanced technologies to provide safe and functional services for everyone:\\n\\nWe use and develop advanced technologies - such as artiﬁcial intelligence, machine learning systems, and augmented reality - so that people can use our Products safely regardless of physical ability or geographic location. For example, technology like this helps people who have visual impairments understand what or who is in photos or videos shared on Facebook or Instagram. We also build sophisticated net‐ work and communication technology to help more people connect to the internet in areas with limited access. And we develop automated systems to improve our ability to detect and remove abusive and dangerous activity that may harm our community and the integrity of our Products.\\n\\n1.7 Research ways to make our services better:'),\n",
       " Document(metadata={'source': '../data/Meta Terms of Service.pdf'}, page_content='1.7 Research ways to make our services better:\\n\\nWe engage in research to develop, test, and improve our Products. This includes analyzing data we have about our users and understanding how people use our Products, for example by conducting surveys and testing and troubleshooting new features. Our Privacy Policy explains how we use data to support this research for the purposes of developing and improving our services.\\n\\n1.8 Provide consistent and seamless experiences across the Meta Company Products:\\n\\nOur Products help you ﬁnd and connect with people, groups, businesses, organiza‐ tions, and others that are important to you. We design our systems so that your ex‐ perience is consistent and seamless across the different Meta Company Products that you use. For example, we use data about the people you engage with on Facebook to make it easier for you to connect with them on Instagram or Messenger, and we enable you to communicate with a business you follow on Facebook through Messenger.'),\n",
       " Document(metadata={'source': '../data/Meta Terms of Service.pdf'}, page_content='1.9 Ensuring access to our services:\\n\\nTo operate our global services and enable you to connect with people around the world, we need to transfer, store and distribute content and data to our data centers, partners, service providers, vendors and systems around the world, including out‐ side your country of residence. The use of this global infrastructure is necessary and essential to provide our services. This infrastructure may be owned, operated, or controlled by Meta Platforms, Inc., Meta Platforms Ireland Limited, or its afﬁliates.\\n\\n2. How our services are funded'),\n",
       " Document(metadata={'source': '../data/Meta Terms of Service.pdf'}, page_content=\"2. How our services are funded\\n\\nInstead of paying to use Facebook and the other products and services we offer, by using the Meta Products covered by these Terms, you agree that we can show you personalized ads and other commercial and sponsored content that businesses and organizations pay us to promote on and off Meta Company Products. We use your personal data, such as information about your activity and interests, to show you personalized ads and sponsored content that may be more relevant to you.\\n\\nProtecting people's privacy is central to how we've designed our personalized ads system. This means that we can show you relevant and useful ads without telling advertisers who you are. We don't sell your personal data. We allow advertisers to tell us things like their business goal, and the kind of audience they want to see their ads (for example, people between the age of 18-35 who like cycling). We then show their ad to people who we think might be interested.\"),\n",
       " Document(metadata={'source': '../data/Meta Terms of Service.pdf'}, page_content='We also provide advertisers with reports about the performance of their ads to help them understand how people are interacting with their content on and off Meta Products. For example, we provide general demographic and interest information to advertisers to help them better understand their audience, like the fact that women between the ages of 25 and 34 who live in Madrid and like software engineering have seen an ad. We don’t share information that directly identiﬁes you (information such as your name or email address that by itself can be used to contact you or\\n\\nidentiﬁes who you are) unless you give us speciﬁc permission. Learn more about how Meta ads work here.\\n\\nWe collect and use your personal data in order to provide the services described above to you. You can learn about how we collect and use your data in our Privacy Policy. You have controls over the types of ads and advertisers you see, and the types of information we use to determine which ads we show you. Learn more.'),\n",
       " Document(metadata={'source': '../data/Meta Terms of Service.pdf'}, page_content='3. Your commitments to Facebook and our community\\n\\nWe provide these services to you and others to help advance our mission. In ex‐ change, we need you to make the following commitments:\\n\\n3.1 Who can use Facebook\\n\\nWhen people stand behind their opinions and actions, our community is safer and more accountable. For this reason, you must:\\n\\nProvide for your account the same name that you use in everyday life.\\n\\nProvide accurate information about yourself.\\n\\nCreate only one account (your own) and use it for personal purposes.\\n\\nNot share your password, give access to your Facebook account to others, or transfer your account to anyone else (without our permission).\\n\\nWe try to make Facebook broadly available to everyone, but you cannot use Facebook if:\\n\\nYou are under 13 years old.\\n\\nYou are a convicted sex offender.'),\n",
       " Document(metadata={'source': '../data/Meta Terms of Service.pdf'}, page_content=\"We try to make Facebook broadly available to everyone, but you cannot use Facebook if:\\n\\nYou are under 13 years old.\\n\\nYou are a convicted sex offender.\\n\\nWe've previously disabled your account for violations of our Terms, the Community Standards, or other terms and policies that apply to your use of Facebook. If we disable your account for a violation of our Terms, the Community Standards, or other terms and policies, you agree not to create another account without our permission. Receiving permission to create a new account is provided at our sole discretion, and does not mean or imply that the disciplinary action was wrong or without cause.\\n\\nYou are prohibited from receiving our products, services, or software under ap‐ plicable laws.\\n\\n3.2 What you can share and do on Meta Products\"),\n",
       " Document(metadata={'source': '../data/Meta Terms of Service.pdf'}, page_content='You are prohibited from receiving our products, services, or software under ap‐ plicable laws.\\n\\n3.2 What you can share and do on Meta Products\\n\\nWe want people to use Meta Products to express themselves and to share content that is important to them, but not at the expense of the safety and well-being of oth‐ ers or the integrity of our community. You therefore agree not to engage in the con‐ duct described below (or to facilitate or support others in doing so):\\n\\n1. You may not use our Products to do or share anything:\\n\\nThat violates these Terms, the Community Standards, or other terms and poli‐ cies that apply to your use of our Products.\\n\\nThat is unlawful, misleading, discriminatory or fraudulent (or assists someone else in using our Products in such a way).\\n\\nThat you do not own or have the necessary rights to share.'),\n",
       " Document(metadata={'source': '../data/Meta Terms of Service.pdf'}, page_content=\"That is unlawful, misleading, discriminatory or fraudulent (or assists someone else in using our Products in such a way).\\n\\nThat you do not own or have the necessary rights to share.\\n\\nThat infringes or violates someone else's rights, including their intellectual property rights (such as by infringing another’s copyright or trademark, or dis‐ tributing or selling counterfeit or pirated goods), unless an exception or limita‐ tion applies under applicable law.\\n\\n2. You may not upload viruses or malicious code, use the services to send spam, or do anything else that could disable, overburden, interfere with, or impair the prop‐ er working, integrity, operation, or appearance of our services, systems, or Products.\\n\\n3. You may not access or collect data from our Products using automated means\"),\n",
       " Document(metadata={'source': '../data/Meta Terms of Service.pdf'}, page_content='3. You may not access or collect data from our Products using automated means\\n\\n(without our prior permission) or attempt to access data you do not have permis‐ sion to access, regardless of whether such automated access or collection is un‐ dertaken while logged-in to a Facebook account.\\n\\n4. You may not proxy, request, or collect Product usernames or passwords, or mis‐\\n\\nappropriate access tokens.\\n\\n5. Except as provided in the Platform Terms, you may not sell, license, or purchase any data obtained from us or our services, regardless of whether such data was obtained while logged-in to a Facebook account.\\n\\n6. You may not misuse any reporting, ﬂagging, dispute, or appeals channel, such as\\n\\nby making fraudulent, duplicative, or groundless reports or appeals.\\n\\n7. You may not do, or attempt to do, anything to circumvent, bypass, or override any technological measures that Meta uses to control or limit access to our Products or data.'),\n",
       " Document(metadata={'source': '../data/Meta Terms of Service.pdf'}, page_content='7. You may not do, or attempt to do, anything to circumvent, bypass, or override any technological measures that Meta uses to control or limit access to our Products or data.\\n\\nWe can remove or restrict access to content that is in violation of these provisions. We can also suspend or disable your account for conduct that violates these provi‐ sions, as provided in Section 4.2.\\n\\nIf we remove content that you have shared in violation of the Community Standards, we’ll let you know and explain any options you have to request another review, un‐ less you seriously or repeatedly violate these Terms or if doing so may expose us or others to legal liability; harm our community of users; compromise or interfere with the integrity or operation of any of our services, systems or Products; where we are restricted due to technical limitations; or where we are prohibited from doing so for legal reasons. For information on account suspension or termination, see Section 4.2 below.'),\n",
       " Document(metadata={'source': '../data/Meta Terms of Service.pdf'}, page_content='We work with independent fact-checkers in many jurisdictions to combat misinfor‐ mation. When content has been rated by fact-checkers, we may add a notice to pro‐\\n\\nvide additional context. You can ﬁnd more information about fact-checking here.\\n\\nTo help support our community, we encourage you to report content or conduct that you believe violates your rights (including intellectual property rights) or our terms and policies, if this feature exists in your jurisdiction. We also can remove or restrict access to content, features, services, or information if we determine that doing so is reasonably necessary to avoid or mitigate misuse of our services or adverse legal or regulatory impacts to Meta.\\n\\n3.3 The permissions you give us\\n\\nWe need certain permissions from you to provide our services:\\n\\n1. Your content: Some content that you share or upload, such as photos or videos, may be protected by intellectual property laws.'),\n",
       " Document(metadata={'source': '../data/Meta Terms of Service.pdf'}, page_content='We need certain permissions from you to provide our services:\\n\\n1. Your content: Some content that you share or upload, such as photos or videos, may be protected by intellectual property laws.\\n\\nYou retain ownership of the intellectual property rights (things like copyright or trade‐ marks) in any such content that you create and share on Facebook and other Meta Company Products you use. Nothing in these Terms takes away the rights you have to your own content. You are free to share your content with anyone else, wherever you want.\\n\\nHowever, to provide our services we need you to give us some legal permissions (known as a \"license\") to use this content. This is solely for the purposes of provid‐ ing and improving our Products and services as described in Section 1 above.'),\n",
       " Document(metadata={'source': '../data/Meta Terms of Service.pdf'}, page_content='2. Permission to use content you create and share: Speciﬁcally, when you share, post, or upload content that is covered by intellectual property rights on or in con‐ nection with our Products, you grant us a non-exclusive, transferable, sub-licens‐ able, royalty-free, and worldwide license to host, use, distribute, modify, run, copy, publicly perform or display, translate, and create derivative works of your content (consistent with your privacy and application settings). This means, for example, that if you share a photo on Facebook, you give us permission to store, copy, and share it with others (again, consistent with your settings) such as Meta Products or service providers that support those products and services. This license will end when your content is deleted from our systems.'),\n",
       " Document(metadata={'source': '../data/Meta Terms of Service.pdf'}, page_content='3. Deleting Your Content: You can delete individual content you share, post, and upload at any time. In addition, all content posted to your personal account will be deleted if you delete your account. Learn more about how to delete your account. Account deletion does not automatically delete content that you post as an admin of a page or content that you create collectively with other users, such as photos in Shared Albums which may continue to be visible to other album members. It may take up to 90 days to delete content after we begin the account deletion process or receive a content deletion request. If you send content to trash, the dele‐ tion process will automatically begin in 30 days unless you chose to delete the con‐ tent sooner. While the deletion process for such content is being undertaken, the content is no longer visible to other users. After the content is deleted, it may take us up to another 90 days to remove it from backups and disaster recovery systems.'),\n",
       " Document(metadata={'source': '../data/Meta Terms of Service.pdf'}, page_content='Content will not be deleted within 90 days of the account deletion or content deletion process beginning in the following situations:\\n\\nwhere your content has been used by others in accordance with this license and they have not deleted it (in which case this license will continue to apply until that content is deleted);\\n\\nwhere deletion within 90 days is not possible due to technical limitations of our systems, in which case, we will complete the deletion as soon as technically fea‐ sible; or\\n\\nwhere immediate deletion would restrict our ability to:\\n\\ninvestigate or identify illegal activity or violations of our terms and policies (for example, to identify or investigate misuse of our Products or systems);\\n\\nprotect the safety, integrity, and security of our Products, systems, services, our employees, and users, and to defend ourselves;'),\n",
       " Document(metadata={'source': '../data/Meta Terms of Service.pdf'}, page_content='protect the safety, integrity, and security of our Products, systems, services, our employees, and users, and to defend ourselves;\\n\\ncomply with legal obligations for the preservation of evidence, including data Meta Companies providing ﬁnancial products and services preserve to comply with any record keeping obligations required by law; or\\n\\ncomply with a request of a judicial or administrative authority, law enforcement or a government agency;\\n\\nin which case, the content will be retained for no longer than is necessary for the purposes for which it has been retained (the exact duration will vary on a case-by- case basis).\\n\\nIn each of the above cases, this license will continue until the content has been fully deleted.'),\n",
       " Document(metadata={'source': '../data/Meta Terms of Service.pdf'}, page_content=\"In each of the above cases, this license will continue until the content has been fully deleted.\\n\\n4. Permission to use your name, proﬁle picture, and information about your actions with ads and sponsored or commercial content: You give us permission to use your name and proﬁle picture and information about actions you have taken on Facebook next to or in connection with ads, offers, and other sponsored or com‐ mercial content that we display across our Products, without any compensation to you. For example, we may show your friends that you are interested in an adver‐ tised event or have liked a Facebook Page created by a brand that has paid us to display its ads on Facebook. Ads and content like this can be seen only by people who have your permission to see the actions you've taken on Meta Products. You can learn more about your ad settings and preferences.\"),\n",
       " Document(metadata={'source': '../data/Meta Terms of Service.pdf'}, page_content='5. Permission to update software you use or download: If you download or use our software, you give us permission to download and install updates to the soft‐ ware where available.\\n\\n3.4 Limits on using our intellectual property\\n\\nIf you use content covered by intellectual property rights that we have and make available in our Products (for example, images, designs, videos, or sounds we pro‐ vide that you add to content you create or share on Facebook), we retain all rights to'),\n",
       " Document(metadata={'source': '../data/Meta Terms of Service.pdf'}, page_content='that content (but not yours). You can only use our copyrights or trademarks (or any similar marks) as expressly permitted by our Brand Usage Guidelines or with our prior written permission. You must obtain our written permission (or permission un‐ der an open source license) to modify, translate, create derivative works of, decom‐ pile, or reverse engineer our products or their components, or otherwise attempt to extract source code from us, unless an exception or limitation applies under applica‐ ble law or your conduct relates to the Meta Bug Bounty Program. We reserve all rights not expressly granted to you.\\n\\n4. Additional provisions\\n\\n4.1 Updating our Terms'),\n",
       " Document(metadata={'source': '../data/Meta Terms of Service.pdf'}, page_content='4. Additional provisions\\n\\n4.1 Updating our Terms\\n\\nWe work constantly to improve our services and develop new features to make our Products better for you and our community. As a result, we may need to update these Terms from time to time to accurately reﬂect our services and practices, to promote a safe and secure experience on our Products and services, and/or to com‐ ply with applicable law. We will only make any changes if the provisions are no longer appropriate or if they are incomplete, and only if the changes are reasonable and take due account of your interests or if the changes are required for safety and security purposes or to comply with applicable law.'),\n",
       " Document(metadata={'source': '../data/Meta Terms of Service.pdf'}, page_content='We will notify you (for example, by email or through our Products) at least 30 days before we make changes to these Terms and give you an opportunity to review them before they go into effect, unless changes are required by law. Once any up‐ dated Terms are in effect, you will be bound by them if you continue to access or use our Products.\\n\\nWe hope that you will continue using our Products, but if you do not agree to our up‐ dated Terms, or wish to terminate your agreement to this contract, you can delete your account at any time and you must also stop accessing, or using Facebook and the other Meta Products.\\n\\n4.2 Account suspension or termination\\n\\nWe want Facebook to be a place where people feel welcome and safe to express themselves and share their thoughts and ideas.'),\n",
       " Document(metadata={'source': '../data/Meta Terms of Service.pdf'}, page_content='4.2 Account suspension or termination\\n\\nWe want Facebook to be a place where people feel welcome and safe to express themselves and share their thoughts and ideas.\\n\\nIf we determine, in our discretion, that you have clearly, seriously or repeatedly breached our Terms or Policies, including in particular the Community Standards, we may suspend or permanently disable your access to Meta Company Products, and we may permanently disable or delete your account. We may also disable or delete your account if you repeatedly infringe other people’s intellectual property rights or where we are required to do so for legal reasons.\\n\\nWe may disable or delete your account if after registration your account is not con‐ ﬁrmed, your account is unused and remains inactive for an extended period of time, or if we detect someone may have used it without your permission and we are un‐ able to conﬁrm your ownership of the account. Learn more about how we disable and delete accounts.'),\n",
       " Document(metadata={'source': '../data/Meta Terms of Service.pdf'}, page_content='Where we take such action we’ll let you know and explain any options you have to request a review, unless doing so may expose us or others to legal liability; harm our community of users; compromise or interfere with the integrity or operation of any of our services, systems or Products; where we are restricted due to technical limitations; or where we are prohibited from doing so for legal reasons.\\n\\nYou can learn more about what you can do if your account has been disabled and how to contact us if you think we have disabled your account by mistake.\\n\\nIf you delete or we disable or delete your account, and you stop accessing, using, or visiting Facebook and the other Meta Products, or if this contract is otherwise termi‐ nated, then these Terms shall terminate as an agreement between you and us, ex‐ cept for the following provisions, which will remain in place: (3, 4.2-4.5).\\n\\n4.3 Limits on liability'),\n",
       " Document(metadata={'source': '../data/Meta Terms of Service.pdf'}, page_content='4.3 Limits on liability\\n\\nWe work hard to provide the best Products we can and to specify clear guidelines for everyone who uses them. Our Products, however, are provided \"as is,\" and to the extent permissible by law, we make no guarantees that they always will be safe, secure, or error-free, or that they will function without disruptions, delays, or imper‐ fections. To the extent permitted by law, we also DISCLAIM ALL WARRANTIES, WHETHER EXPRESS OR IMPLIED, INCLUDING THE IMPLIED WARRANTIES OF MERCHANTABILITY, FITNESS FOR A PARTICULAR PURPOSE, TITLE, AND NON-INFRINGEMENT. We do not control or direct what people and others do or say, and we are not responsible for their actions or conduct (whether online or off‐ line) or any content they share (including offensive, inappropriate, obscene, unlaw‐ ful, and other objectionable content).'),\n",
       " Document(metadata={'source': '../data/Meta Terms of Service.pdf'}, page_content=\"We cannot predict when issues might arise with our Products. Accordingly, our liabil‐ ity shall be limited to the fullest extent permitted by applicable law. To the fullest ex‐ tent permitted by applicable law under no circumstance will we be liable to you for any lost proﬁts, revenues, information, or data, or consequential, special, indirect, exemplary, punitive, or incidental damages arising out of or related to these Terms or the Meta Products (however caused and on any theory of liability, including negli‐ gence), even if we have been advised of the possibility of such damages.\\n\\n4.4 Disputes\\n\\nWe try to provide clear rules so that we can limit or hopefully avoid disputes be‐ tween you and us. If a dispute does arise, however, it's useful to know up front where it can be resolved and what laws will apply.\"),\n",
       " Document(metadata={'source': '../data/Meta Terms of Service.pdf'}, page_content='If you are a consumer, or where required by applicable law, the laws of the country in which you reside will apply to any claim, cause of action, or dispute you have against us that arises out of or relates to these Terms or the Meta Products, and you may resolve your claim in any competent court in that country that has jurisdiction over the claim. In all other cases, and for any claim, cause of action, or dispute that Meta ﬁles against you, you and Meta agree that any such claim, cause of action or dispute must be resolved exclusively in the U.S. District Court for the Northern District of California or a state court located in San Mateo County. You also agree that you submit to the personal jurisdiction of either of these courts for the purpose'),\n",
       " Document(metadata={'source': '../data/Meta Terms of Service.pdf'}, page_content='of litigating any such claim, and that the laws of the State of California will govern these Terms and any claim, cause of action, or dispute without regard to conﬂict of law provisions. Without prejudice to the foregoing, you agree that, in its sole discre‐ tion, Meta may bring any claim, cause of action, or dispute we have against you in any competent court in the country in which you reside that has jurisdiction over the claim.\\n\\n4.5 Miscellaneous'),\n",
       " Document(metadata={'source': '../data/Meta Terms of Service.pdf'}, page_content='4.5 Miscellaneous\\n\\n1. Supplemental Terms: Some of the Products we offer are also governed by sup‐ plemental terms. If you use any of those Products, supplemental terms will be made available and will become part of our agreement with you. For instance, if you access or use our Products for commercial or business purposes, such as buying ads, selling products, developing apps, managing a group or Page for your business, or using our measurement services, you must agree to our Commercial Terms. If you post or share content containing music, you must com‐ ply with our Music Guidelines. If you use Avatars, then the Avatar Terms also ap‐ ply. If you use our AI products and features, the Meta AI Terms also apply. To the extent any supplemental terms conﬂict with these Terms, the supplemental terms shall govern to the extent of the conﬂict.\\n\\n2. Severability: If any portion of these Terms is found to be unenforceable, the un‐'),\n",
       " Document(metadata={'source': '../data/Meta Terms of Service.pdf'}, page_content='2. Severability: If any portion of these Terms is found to be unenforceable, the un‐\\n\\nenforceable portion will be deemed amended to the minimum extent necessary to make it enforceable, and if it can’t be made enforceable, then it will be severed and the remaining portion will remain in full force and effect. If we fail to enforce any of these Terms, it will not be considered a waiver. Any amendment to or waiv‐ er of these Terms must be made in writing and signed by us.\\n\\n3. No Transfer: You will not transfer any of your rights or obligations under these\\n\\nTerms to anyone else without our consent.'),\n",
       " Document(metadata={'source': '../data/Meta Terms of Service.pdf'}, page_content='3. No Transfer: You will not transfer any of your rights or obligations under these\\n\\nTerms to anyone else without our consent.\\n\\n4. Legacy Contact: You may designate a person (called a legacy contact) to man‐ age your account if it is memorialized. If you enable it in your settings, only your legacy contact or a person who you have identiﬁed in a valid will or similar legal document expressing clear consent to disclose your content to that person upon death or incapacity will be able to seek limited disclosure of information from your account after it is memorialized.\\n\\n5. No Third-party Beneﬁciaries Terms: These Terms do not confer any third-party beneﬁciary rights. All of our rights and obligations under these Terms are freely assignable by us in connection with a merger, acquisition, or sale of assets, or by operation of law or otherwise.\\n\\n6. User Name Change: We may change the username for your account in certain'),\n",
       " Document(metadata={'source': '../data/Meta Terms of Service.pdf'}, page_content='6. User Name Change: We may change the username for your account in certain\\n\\ncircumstances (for example, if someone else claims the username and it appears unrelated to the name you use in everyday life).\\n\\n7. Feedback: We always appreciate your feedback and other suggestions about our products and services. But we may use feedback and other suggestions without any restriction or obligation to compensate you, and we are under no obligation to keep them conﬁdential.\\n\\n5. Other terms and policies that may apply to you\\n\\nCommunity Standards: These guidelines outline our standards regarding the con‐ tent you post to Facebook and your activity on Facebook and other Meta Products.\\n\\nCommercial Terms: These terms apply if you also access or use our Products for any commercial or business purpose, including advertising, operating an app on our Platform, using our measurement services, managing a group or a Page for a business, or selling goods or services.'),\n",
       " Document(metadata={'source': '../data/Meta Terms of Service.pdf'}, page_content='Community Payment Terms: These terms apply to payments made on or through Meta Products.\\n\\nCommerce Policies: These guidelines outline the policies that apply when you of‐ fer products or services for sale on Facebook, Instagram, and WhatsApp.\\n\\nMusic Guidelines: These guidelines outline the policies that apply if you post or share content containing music on any Meta Products.\\n\\nAdvertising Policies: These policies apply to partners who advertise across the Meta Products and specify what types of ad content are allowed by partners who advertise across the Meta Products.\\n\\nSelf-Serve Ad Terms: These terms apply when you use self-serve advertising in‐ terfaces to create, submit, or deliver advertising or other commercial or spon‐ sored activity or content.\\n\\nFacebook Pages, Groups and Events Policy: These guidelines apply if you create or administer a Facebook Page, group, or event, or if you use Facebook to com‐ municate or administer a promotion.'),\n",
       " Document(metadata={'source': '../data/Meta Terms of Service.pdf'}, page_content='Facebook Pages, Groups and Events Policy: These guidelines apply if you create or administer a Facebook Page, group, or event, or if you use Facebook to com‐ municate or administer a promotion.\\n\\nMeta Platform Policy: These terms apply to the use of the set of APIs, SDKs, tools, plugins, code, technology, content, and services that enables others to de‐ velop functionality, retrieve data from MetaProducts, or provide data to us.\\n\\nDeveloper Payment Terms: These terms apply to developers of applications that use Facebook Payments.\\n\\nMeta Brand Resources: These guidelines outline the policies that apply to use of Meta trademarks, logos, and screenshots.\\n\\nRecommendations Guidelines: The Facebook Recommendations Guidelines and Instagram Recommendations Guidelines outline our standards for recommending and not recommending content.\\n\\nLive Policies: These policies apply to all content broadcast to Facebook Live.'),\n",
       " Document(metadata={'source': '../data/Meta Terms of Service.pdf'}, page_content='Live Policies: These policies apply to all content broadcast to Facebook Live.\\n\\nAvatar Terms: These terms apply to the use of our Avatars and our Avatar fea‐ tures, including purchases and acquisitions of Avatar clothing in the Avatar store.\\n\\nMeta AI Terms: These terms govern use of our Generative AI products and features.')]"
      ]
     },
     "execution_count": 4,
     "metadata": {},
     "output_type": "execute_result"
    }
   ],
   "source": [
    "doc_splits"
   ]
  },
  {
   "cell_type": "markdown",
   "id": "2ce05a92",
   "metadata": {},
   "source": [
    "### Embed and Store Documents"
   ]
  },
  {
   "cell_type": "code",
   "execution_count": 5,
   "id": "76d6cc82",
   "metadata": {},
   "outputs": [],
   "source": [
    "from hackathon.config import embedding_model\n",
    "from langchain_chroma import Chroma\n",
    "\n",
    "vector_store_directory = \"../vector_store/\"\n",
    "\n",
    "vector_store = Chroma(\n",
    "    collection_name=\"meta_terms_of_service\",\n",
    "    embedding_function=embedding_model,\n",
    "    persist_directory=vector_store_directory,\n",
    ")"
   ]
  },
  {
   "cell_type": "code",
   "execution_count": 6,
   "id": "48a0a19a",
   "metadata": {},
   "outputs": [],
   "source": [
    "# Index chunks\n",
    "chunk_indexes = vector_store.add_documents(documents=doc_splits)"
   ]
  },
  {
   "cell_type": "markdown",
   "id": "ee0d1daa",
   "metadata": {},
   "source": [
    "## 2. Retrieval and generation\n",
    "1. Retrieve: Given a user input, relevant splits are retrieved from storage using a [Retriever](https://python.langchain.com/docs/concepts/retrievers/).\n",
    "2. Generate: A ChatModel / LLM produces an answer using a prompt that includes both the question with the retrieved data\n",
    "\n",
    "![retrieval-and-generation](https://python.langchain.com/assets/images/rag_retrieval_generation-1046a4668d6bb08786ef73c56d4f228a.png)\n",
    "\n",
    "To do this, we will use the ReAct agent associated with a RAG tool."
   ]
  },
  {
   "cell_type": "code",
   "execution_count": 7,
   "id": "942a120b",
   "metadata": {},
   "outputs": [],
   "source": [
    "from langchain_core.tools import tool\n",
    "\n",
    "@tool(response_format=\"content_and_artifact\")\n",
    "def retrieve(query: str):\n",
    "    \"\"\"Retrieve information related to a query.\"\"\"\n",
    "    retrieved_docs = vector_store.similarity_search(query, k=3)\n",
    "    serialized = (\n",
    "        (\n",
    "            \"Use the following pieces of retrieved context to answer the question. \"\n",
    "            \"If you don't know the answer, say that you don't know. \"\n",
    "            \"Use three sentences maximum and keep the answer concise.\\n\\n\"\n",
    "        ) + \"\\n\\n\".join(\n",
    "            (f\"Source: {doc.metadata}\\n\" f\"Content: {doc.page_content}\")\n",
    "            for doc in retrieved_docs\n",
    "        )\n",
    "    )\n",
    "    return serialized, retrieved_docs"
   ]
  },
  {
   "cell_type": "code",
   "execution_count": 8,
   "id": "a1d39a0a",
   "metadata": {},
   "outputs": [],
   "source": [
    "from hackathon.agents.react.agent import ReActAgent\n",
    "from hackathon.config import llm\n",
    "\n",
    "react_rag_agent = ReActAgent(\n",
    "    llm=llm,\n",
    "    tools=[retrieve],\n",
    "    system_prompt=\"You are a helpful assistant for question-answering tasks.\",\n",
    ")"
   ]
  },
  {
   "cell_type": "markdown",
   "id": "98c6673f",
   "metadata": {},
   "source": [
    "### Run ReAct Agent with RAG tool"
   ]
  },
  {
   "cell_type": "code",
   "execution_count": 9,
   "id": "8a75098f",
   "metadata": {},
   "outputs": [],
   "source": [
    "from langchain_core.messages import HumanMessage, ToolMessage\n",
    "\n",
    "# Define the input\n",
    "messages = [\n",
    "    HumanMessage(content=\"What can Meta do with my personal data?\"),\n",
    "]\n",
    "\n",
    "# Run the graph\n",
    "react_output = react_rag_agent.run(input={\"messages\": messages})"
   ]
  },
  {
   "cell_type": "code",
   "execution_count": 10,
   "id": "f88c8fec",
   "metadata": {},
   "outputs": [
    {
     "name": "stdout",
     "output_type": "stream",
     "text": [
      "================================\u001b[1m Human Message \u001b[0m=================================\n",
      "\n",
      "What can Meta do with my personal data?\n",
      "==================================\u001b[1m Ai Message \u001b[0m==================================\n",
      "Tool Calls:\n",
      "  retrieve (call_JR9bqXDg43adcaYP9nptCF3A)\n",
      " Call ID: call_JR9bqXDg43adcaYP9nptCF3A\n",
      "  Args:\n",
      "    query: What can Meta (Facebook) do with my personal data?\n",
      "=================================\u001b[1m Tool Message \u001b[0m=================================\n",
      "Name: retrieve\n",
      "\n",
      "Use the following pieces of retrieved context to answer the question. If you don't know the answer, say that you don't know. Use three sentences maximum and keep the answer concise.\n",
      "\n",
      "Source: {'source': '../data/Meta Terms of Service.pdf'}\n",
      "Content: access to certain features, disabling an account, or contacting law enforcement. We share data across Meta Companies when we detect misuse or harmful conduct by someone using one of our Products or to help keep Meta Products, users and the community safe. For example, we share information with Meta Companies that provide ﬁnancial products and services to help them promote safety, security and integrity and comply with applicable law. Meta may access, preserve, use and share any information it collects about you where it has a good faith belief it is required or permitted by law to do so. For more information, please review our Privacy Policy.\n",
      "\n",
      "Source: {'source': '../data/Meta Terms of Service.pdf'}\n",
      "Content: access to certain features, disabling an account, or contacting law enforcement. We share data across Meta Companies when we detect misuse or harmful conduct by someone using one of our Products or to help keep Meta Products, users and the community safe. For example, we share information with Meta Companies that provide ﬁnancial products and services to help them promote safety, security and integrity and comply with applicable law. Meta may access, preserve, use and share any information it collects about you where it has a good faith belief it is required or permitted by law to do so. For more information, please review our Privacy Policy.\n",
      "\n",
      "Source: {'source': '../data/Meta Terms of Service.pdf'}\n",
      "Content: access to certain features, disabling an account, or contacting law enforcement. We share data across Meta Companies when we detect misuse or harmful conduct by someone using one of our Products or to help keep Meta Products, users and the community safe. For example, we share information with Meta Companies that provide ﬁnancial products and services to help them promote safety, security and integrity and comply with applicable law. Meta may access, preserve, use and share any information it collects about you where it has a good faith belief it is required or permitted by law to do so. For more information, please review our Privacy Policy.\n",
      "\n",
      " --> Tool artifact: [Document(id='b24bb704-ad05-4099-8205-94de32af3757', metadata={'source': '../data/Meta Terms of Service.pdf'}, page_content='access to certain features, disabling an account, or contacting law enforcement. We share data across Meta Companies when we detect misuse or harmful conduct by someone using one of our Products or to help keep Meta Products, users and the community safe. For example, we share information with Meta Companies that provide ﬁnancial products and services to help them promote safety, security and integrity and comply with applicable law. Meta may access, preserve, use and share any information it collects about you where it has a good faith belief it is required or permitted by law to do so. For more information, please review our Privacy Policy.'), Document(id='c380b6ee-c9a6-48ce-9b6e-8b571f593694', metadata={'source': '../data/Meta Terms of Service.pdf'}, page_content='access to certain features, disabling an account, or contacting law enforcement. We share data across Meta Companies when we detect misuse or harmful conduct by someone using one of our Products or to help keep Meta Products, users and the community safe. For example, we share information with Meta Companies that provide ﬁnancial products and services to help them promote safety, security and integrity and comply with applicable law. Meta may access, preserve, use and share any information it collects about you where it has a good faith belief it is required or permitted by law to do so. For more information, please review our Privacy Policy.'), Document(id='7845f125-80b3-48b6-8368-75632b63c2b1', metadata={'source': '../data/Meta Terms of Service.pdf'}, page_content='access to certain features, disabling an account, or contacting law enforcement. We share data across Meta Companies when we detect misuse or harmful conduct by someone using one of our Products or to help keep Meta Products, users and the community safe. For example, we share information with Meta Companies that provide ﬁnancial products and services to help them promote safety, security and integrity and comply with applicable law. Meta may access, preserve, use and share any information it collects about you where it has a good faith belief it is required or permitted by law to do so. For more information, please review our Privacy Policy.')] (type: <class 'list'>)\n",
      "==================================\u001b[1m Ai Message \u001b[0m==================================\n",
      "\n",
      "Meta can access, preserve, use, and share your personal data when it believes it is required or permitted by law, or to keep its products, users, and the community safe. It shares information across Meta Companies, for example, when preventing misuse or promoting safety and compliance with the law. For more details, you should review Meta's Privacy Policy.\n"
     ]
    }
   ],
   "source": [
    "# get messages and tool outputs\n",
    "for m in react_output[\"messages\"]:\n",
    "    m.pretty_print()\n",
    "    if isinstance(m, ToolMessage):\n",
    "        print()\n",
    "        print(f\" --> Tool artifact: {m.artifact} (type: {type(m.artifact)})\")"
   ]
  },
  {
   "cell_type": "code",
   "execution_count": 11,
   "id": "3bb2981d",
   "metadata": {},
   "outputs": [
    {
     "name": "stdout",
     "output_type": "stream",
     "text": [
      "Meta can access, preserve, use, and share your personal data when it believes it is required or permitted by law, or to keep its products, users, and the community safe. It shares information across Meta Companies, for example, when preventing misuse or promoting safety and compliance with the law. For more details, you should review Meta's Privacy Policy.\n"
     ]
    }
   ],
   "source": [
    "final_message = react_output[\"messages\"][-1]\n",
    "print(final_message.content)"
   ]
  },
  {
   "cell_type": "code",
   "execution_count": null,
   "id": "27cb1f79",
   "metadata": {},
   "outputs": [],
   "source": []
  }
 ],
 "metadata": {
  "kernelspec": {
   "display_name": ".venv",
   "language": "python",
   "name": "python3"
  },
  "language_info": {
   "codemirror_mode": {
    "name": "ipython",
    "version": 3
   },
   "file_extension": ".py",
   "mimetype": "text/x-python",
   "name": "python",
   "nbconvert_exporter": "python",
   "pygments_lexer": "ipython3",
   "version": "3.12.9"
  }
 },
 "nbformat": 4,
 "nbformat_minor": 5
}
