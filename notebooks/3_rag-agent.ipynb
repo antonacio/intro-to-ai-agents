{
 "cells": [
  {
   "cell_type": "markdown",
   "id": "b78efe2d",
   "metadata": {},
   "source": [
    "# ReAct Agent + RAG Tool"
   ]
  },
  {
   "cell_type": "markdown",
   "id": "d1b10f58",
   "metadata": {},
   "source": [
    "In this notebook we will build a [ReAct](https://react-lm.github.io/) agent capable of answering questions about specific source information/documents. This agent will use a technique known as [Retrieval Augmented Generation (RAG)](https://python.langchain.com/docs/concepts/rag/).\n",
    "\n",
    "Retrieval Augmented Generation (RAG) is a powerful technique that enhances language models by combining them with external knowledge bases. RAG addresses a key limitation of models: models rely on fixed training datasets, which can lead to outdated or incomplete information.\n",
    "\n",
    "When given a query:\n",
    "1. RAG systems first search a knowledge base for relevant information\n",
    "2. The system then incorporates this retrieved information into the model's prompt\n",
    "3. The model uses the provided context to generate a response to the query.\n",
    "\n",
    "By bridging the gap between vast language models and dynamic, targeted information retrieval, RAG is a powerful technique for building more capable and reliable AI systems.\n",
    "\n",
    "A typical RAG application has two main components:\n",
    "1. **Indexing**: a pipeline for ingesting data from a source and indexing it. *This usually happens offline.*\n",
    "2. **Retrieval and generation**: the actual RAG chain, which takes the user query at run time and retrieves the relevant data from the index, then passes that to the model."
   ]
  },
  {
   "cell_type": "code",
   "execution_count": 1,
   "id": "1367c28c",
   "metadata": {},
   "outputs": [
    {
     "data": {
      "text/plain": [
       "True"
      ]
     },
     "execution_count": 1,
     "metadata": {},
     "output_type": "execute_result"
    }
   ],
   "source": [
    "# load the environment variables\n",
    "import os\n",
    "from dotenv import load_dotenv\n",
    "load_dotenv(verbose=True)"
   ]
  },
  {
   "cell_type": "markdown",
   "id": "f6ab04b0",
   "metadata": {},
   "source": [
    "## 1. Indexing\n",
    "The indexing process follow these steps:\n",
    "1. Load: First we need to load our data. Since we are working with a PDF file, we will use [LangChain's PyPDFLoader](https://python.langchain.com/api_reference/community/document_loaders/langchain_community.document_loaders.pdf.PyPDFLoader.html) to parse the PDF file content.\n",
    "    >If you want to load other file types, you can explore [LangChain's repository of document loaders](https://python.langchain.com/docs/integrations/document_loaders/) or simply use [LangChain's DirectoryLoader](https://python.langchain.com/docs/how_to/document_loader_directory/), which is a simple interface that allows us to load a range of file types out-of-the-box.\n",
    "2. Split: Text splitters break large Documents into smaller chunks. This is useful both for indexing data and passing it into a model, as large chunks are harder to search over and won't fit in a model's finite context window. We will use [LangChain's RecursiveCharacterTextSplitter](https://python.langchain.com/docs/concepts/text_splitters/#text-structured-based) to split the documents.\n",
    "3. Embed and Store: We need somewhere to store and index our splits, so that they can be searched over later. This is often done using a VectorStore and Embeddings model. In this notebook, we will use [Chroma](https://github.com/chroma-core/chroma), a simple and easy-to-use open-source embedding database.\n",
    "\n",
    "![indexing-steps](https://python.langchain.com/assets/images/rag_indexing-8160f90a90a33253d0154659cf7d453f.png)\n",
    "\n",
    "The complete implementations of this process can be found in `src/examples/index_data.py`"
   ]
  },
  {
   "cell_type": "markdown",
   "id": "828c8712",
   "metadata": {},
   "source": [
    "### Load Documents\n",
    "\n",
    "In this example, we'll load and ingest [Meta's Terms of Service](https://mbasic.facebook.com/legal/terms/plain_text_terms/) so that we can ask questions and better understand a document most of us have probably agreed to but never actually read!"
   ]
  },
  {
   "cell_type": "code",
   "execution_count": 2,
   "id": "d0536a36",
   "metadata": {},
   "outputs": [
    {
     "name": "stdout",
     "output_type": "stream",
     "text": [
      "[1/1] Loading Meta Terms of Service.pdf ... Loaded 12 pages from Meta Terms of Service.pdf\n",
      "Loaded 12 pages from 1 PDF document(s)\n"
     ]
    }
   ],
   "source": [
    "from langchain_community.document_loaders import PyPDFLoader\n",
    "\n",
    "data_directory = \"../data/\"\n",
    "file_names = os.listdir(data_directory)  # get files from data directory\n",
    "\n",
    "# create a list to store all pages from all documents\n",
    "docs_pages = []\n",
    "\n",
    "for i, file_name in enumerate(file_names, start=1):\n",
    "    if file_name.lower().endswith(\".pdf\"):\n",
    "        print(f\"[{i}/{len(file_names)}] Loading {file_name} ... \", end=\"\")\n",
    "        loader = PyPDFLoader(\n",
    "            file_path=os.path.join(data_directory, file_name),\n",
    "            mode=\"page\",\n",
    "            extract_images=False,\n",
    "            extraction_mode=\"plain\",\n",
    "        )\n",
    "        async for page in loader.alazy_load():\n",
    "            docs_pages.append(page)\n",
    "        print(f\"Loaded {len(docs_pages)} pages from {file_name}\")\n",
    "\n",
    "print(f\"Loaded {len(docs_pages)} pages from {len(file_names)} PDF document(s)\")"
   ]
  },
  {
   "cell_type": "code",
   "execution_count": 3,
   "id": "0a95e6a8",
   "metadata": {},
   "outputs": [
    {
     "data": {
      "text/plain": [
       "[Document(metadata={'producer': 'Skia/PDF m137', 'creator': 'Mozilla/5.0 (Macintosh; Intel Mac OS X 10_15_7) AppleWebKit/537.36 (KHTML, like Gecko) Chrome/137.0.0.0 Safari/537.36', 'creationdate': '2025-06-23T21:10:36+00:00', 'title': 'Meta Terms of Service', 'moddate': '2025-06-23T21:10:36+00:00', 'source': '../data/Meta Terms of Service.pdf', 'total_pages': 12, 'page': 0, 'page_label': '1'}, page_content='Terms of Service\\nExplore the policy\\nOverview\\n1. The services we provide\\n2. How our services are funded\\n3. Your commitments to Facebook and our community\\n4. Additional provisions\\n5. Other terms and policies that may apply to you\\nOverview\\nEffective January 1, 2025\\nMeta builds technologies and services that enable people to connect with each oth‐\\ner, build communities, and grow businesses. These Terms of Service (the \"Terms\")\\ngovern your access and use of Facebook, Messenger, and the other products, web‐\\nsites, features, apps, services, technologies, and software we offer (the Meta\\nProducts or Products), except where we expressly state that separate terms (and\\nnot these) apply. (For example, your use of Instagram is subject to the Instagram\\nTerms of Use). These Products are provided to you by Meta Platforms, Inc. These\\nTerms therefore constitute an agreement between you and Meta Platforms, Inc. If\\nyou do not agree to these Terms, then do not access or use Facebook or the other\\nproducts and services covered by these Terms.\\nThese Terms (formerly known as the Statement of Rights and Responsibilities)\\nmake up the entire agreement between you and Meta Platforms, Inc. regarding your\\nuse of our Products. They supersede any prior agreements.\\nWe don’t charge you to use Facebook or the other products and services covered\\nby these Terms, unless we state otherwise. Instead, businesses and organizations,\\nand other persons pay us to show you ads for their products and services. By using\\nour Products, you agree that we can show you ads that we think may be relevant to\\nyou and your interests. We use your personal data to help determine which person‐\\nalized ads to show you.\\nWe don’t sell your personal data to advertisers, and we don’t share information that\\ndirectly identiﬁes you (such as your name, email address or other contact informa‐\\ntion) with advertisers unless you give us speciﬁc permission. Instead, advertisers\\ncan tell us things like the kind of audience they want to see their ads, and we show\\nthose ads to people who may be interested. We provide advertisers with reports\\nabout the performance of their ads that help them understand how people are inter‐'),\n",
       " Document(metadata={'producer': 'Skia/PDF m137', 'creator': 'Mozilla/5.0 (Macintosh; Intel Mac OS X 10_15_7) AppleWebKit/537.36 (KHTML, like Gecko) Chrome/137.0.0.0 Safari/537.36', 'creationdate': '2025-06-23T21:10:36+00:00', 'title': 'Meta Terms of Service', 'moddate': '2025-06-23T21:10:36+00:00', 'source': '../data/Meta Terms of Service.pdf', 'total_pages': 12, 'page': 1, 'page_label': '2'}, page_content=\"acting with their content. See Section 2 below to learn more about how personalized\\nadvertising under these terms works on the Meta Products.\\nOur Privacy Policy explains how we collect and use your personal data to determine\\nsome of the ads you see and provide all of the other services described below. You\\ncan also go to your settings pages of the relevant Meta Product at any time to re‐\\nview the privacy choices you have about how we use your data.\\nWhat Products do these Terms cover?\\n1. The services we provide\\nOur mission is to give people the power to build community and bring the world clos‐\\ner together. To help advance this mission, we provide the Products and services de‐\\nscribed below to you:\\n1.1 Provide a personalized experience for you:\\nYour experience on Facebook is unlike anyone else's: from the posts, stories,\\nevents, ads, and other content you see in Facebook Feed or our video platform to\\nthe Facebook Pages you follow and other features you might use, such as\\nFacebook Marketplace, and search. For example, we use data about the connec‐\\ntions you make, the choices and settings you select, and what you share and do on\\nand off our Products - to personalize your experience.\\n1.2 Connect you with people and organizations you care\\nabout:\\nWe help you ﬁnd and connect with people, groups, businesses, organizations, and\\nothers that matter to you across the Meta Products you use. We use data to make\\nsuggestions for you and others - for example, groups to join, events to attend,\\nFacebook Pages to follow or send a message to, shows to watch, and people you\\nmay want to become friends with. Stronger ties make for better communities, and\\nwe believe our services are most useful when people are connected to people,\\ngroups, and organizations they care about.\\n1.3 Empower you to express yourself and communicate\\nabout what matters to you:\\nThere are many ways to express yourself on Facebook to communicate with friends,\\nfamily, and others about what matters to you - for example, sharing status updates,\\nphotos, videos, and stories across the Meta Products (consistent with your settings),\\nsending messages or making voice or video calls to a friend or several people, cre‐\\nating events or groups, or adding content to your proﬁle as well as showing you in‐\\nsights on how others engage with your content. We have also developed, and con‐\\ntinue to explore, new ways for people to use technology, such as augmented reality\\nand 360 video to create and share more expressive and engaging content on Meta\\nProducts.\"),\n",
       " Document(metadata={'producer': 'Skia/PDF m137', 'creator': 'Mozilla/5.0 (Macintosh; Intel Mac OS X 10_15_7) AppleWebKit/537.36 (KHTML, like Gecko) Chrome/137.0.0.0 Safari/537.36', 'creationdate': '2025-06-23T21:10:36+00:00', 'title': 'Meta Terms of Service', 'moddate': '2025-06-23T21:10:36+00:00', 'source': '../data/Meta Terms of Service.pdf', 'total_pages': 12, 'page': 2, 'page_label': '3'}, page_content='1.4 Help you discover content, products, and services that\\nmay interest you:\\nWe show you personalized ads, offers, and other sponsored or commercial content\\nto help you discover content, products, and services that are offered by the many\\nbusinesses and organizations that use Facebook and other Meta Products. Section\\n2 below explains this in more detail.\\n1.5 Promote the safety, security, and integrity of our ser‐\\nvices, combat harmful conduct and keep our community of\\nusers safe:\\nPeople will only build community on Meta Products if they feel safe and secure. We\\nwork hard to maintain the security (including the availability, authenticity, integrity,\\nand conﬁdentiality) of our Products and services. We employ dedicated teams\\naround the world, work with external service providers, partners and other relevant\\nentities and develop advanced technical systems to detect potential misuse of our\\nProducts, harmful conduct towards others, and situations where we may be able to\\nhelp support or protect our community, including to respond to user reports of poten‐\\ntially violating content. If we learn of content or conduct like this, we may take appro‐\\npriate action based on our assessment that may include - notifying you, offering\\nhelp, removing content, removing or restricting access to certain features, disabling\\nan account, or contacting law enforcement. We share data across Meta Companies\\nwhen we detect misuse or harmful conduct by someone using one of our Products\\nor to help keep Meta Products, users and the community safe. For example, we\\nshare information with Meta Companies that provide ﬁnancial products and services\\nto help them promote safety, security and integrity and comply with applicable law.\\nMeta may access, preserve, use and share any information it collects about you\\nwhere it has a good faith belief it is required or permitted by law to do so. For more\\ninformation, please review our Privacy Policy.\\nIn some cases, the Oversight Board may review our decisions, subject to its terms\\nand bylaws. Learn more here.\\n1.6 Use and develop advanced technologies to provide safe\\nand functional services for everyone:\\nWe use and develop advanced technologies - such as artiﬁcial intelligence, machine\\nlearning systems, and augmented reality - so that people can use our Products\\nsafely regardless of physical ability or geographic location. For example, technology\\nlike this helps people who have visual impairments understand what or who is in\\nphotos or videos shared on Facebook or Instagram. We also build sophisticated net‐\\nwork and communication technology to help more people connect to the internet in\\nareas with limited access. And we develop automated systems to improve our ability\\nto detect and remove abusive and dangerous activity that may harm our community\\nand the integrity of our Products.\\n1.7 Research ways to make our services better:'),\n",
       " Document(metadata={'producer': 'Skia/PDF m137', 'creator': 'Mozilla/5.0 (Macintosh; Intel Mac OS X 10_15_7) AppleWebKit/537.36 (KHTML, like Gecko) Chrome/137.0.0.0 Safari/537.36', 'creationdate': '2025-06-23T21:10:36+00:00', 'title': 'Meta Terms of Service', 'moddate': '2025-06-23T21:10:36+00:00', 'source': '../data/Meta Terms of Service.pdf', 'total_pages': 12, 'page': 3, 'page_label': '4'}, page_content=\"We engage in research to develop, test, and improve our Products. This includes\\nanalyzing data we have about our users and understanding how people use our\\nProducts, for example by conducting surveys and testing and troubleshooting new\\nfeatures. Our Privacy Policy explains how we use data to support this research for\\nthe purposes of developing and improving our services.\\n1.8 Provide consistent and seamless experiences across\\nthe Meta Company Products:\\nOur Products help you ﬁnd and connect with people, groups, businesses, organiza‐\\ntions, and others that are important to you. We design our systems so that your ex‐\\nperience is consistent and seamless across the different Meta Company Products\\nthat you use. For example, we use data about the people you engage with on\\nFacebook to make it easier for you to connect with them on Instagram or\\nMessenger, and we enable you to communicate with a business you follow on\\nFacebook through Messenger.\\n1.9 Ensuring access to our services:\\nTo operate our global services and enable you to connect with people around the\\nworld, we need to transfer, store and distribute content and data to our data centers,\\npartners, service providers, vendors and systems around the world, including out‐\\nside your country of residence. The use of this global infrastructure is necessary and\\nessential to provide our services. This infrastructure may be owned, operated, or\\ncontrolled by Meta Platforms, Inc., Meta Platforms Ireland Limited, or its afﬁliates.\\n2. How our services are funded\\nInstead of paying to use Facebook and the other products and services we offer, by\\nusing the Meta Products covered by these Terms, you agree that we can show you\\npersonalized ads and other commercial and sponsored content that businesses and\\norganizations pay us to promote on and off Meta Company Products. We use your\\npersonal data, such as information about your activity and interests, to show you\\npersonalized ads and sponsored content that may be more relevant to you.\\nProtecting people's privacy is central to how we've designed our personalized ads\\nsystem. This means that we can show you relevant and useful ads without telling\\nadvertisers who you are. We don't sell your personal data. We allow advertisers to\\ntell us things like their business goal, and the kind of audience they want to see their\\nads (for example, people between the age of 18-35 who like cycling). We then show\\ntheir ad to people who we think might be interested.\\nWe also provide advertisers with reports about the performance of their ads to help\\nthem understand how people are interacting with their content on and off Meta\\nProducts. For example, we provide general demographic and interest information to\\nadvertisers to help them better understand their audience, like the fact that women\\nbetween the ages of 25 and 34 who live in Madrid and like software engineering\\nhave seen an ad. We don’t share information that directly identiﬁes you (information\\nsuch as your name or email address that by itself can be used to contact you or\"),\n",
       " Document(metadata={'producer': 'Skia/PDF m137', 'creator': 'Mozilla/5.0 (Macintosh; Intel Mac OS X 10_15_7) AppleWebKit/537.36 (KHTML, like Gecko) Chrome/137.0.0.0 Safari/537.36', 'creationdate': '2025-06-23T21:10:36+00:00', 'title': 'Meta Terms of Service', 'moddate': '2025-06-23T21:10:36+00:00', 'source': '../data/Meta Terms of Service.pdf', 'total_pages': 12, 'page': 4, 'page_label': '5'}, page_content=\"identiﬁes who you are) unless you give us speciﬁc permission. Learn more about\\nhow Meta ads work here.\\nWe collect and use your personal data in order to provide the services described\\nabove to you. You can learn about how we collect and use your data in our Privacy\\nPolicy. You have controls over the types of ads and advertisers you see, and the\\ntypes of information we use to determine which ads we show you. Learn more.\\n3. Your commitments to Facebook and our\\ncommunity\\nWe provide these services to you and others to help advance our mission. In ex‐\\nchange, we need you to make the following commitments:\\n3.1 Who can use Facebook\\nWhen people stand behind their opinions and actions, our community is safer and\\nmore accountable. For this reason, you must:\\nProvide for your account the same name that you use in everyday life.\\nProvide accurate information about yourself.\\nCreate only one account (your own) and use it for personal purposes.\\nNot share your password, give access to your Facebook account to others, or\\ntransfer your account to anyone else (without our permission).\\nWe try to make Facebook broadly available to everyone, but you cannot use\\nFacebook if:\\nYou are under 13 years old.\\nYou are a convicted sex offender.\\nWe've previously disabled your account for violations of our Terms, the\\nCommunity Standards, or other terms and policies that apply to your use of\\nFacebook. If we disable your account for a violation of our Terms, the Community\\nStandards, or other terms and policies, you agree not to create another account\\nwithout our permission. Receiving permission to create a new account is provided\\nat our sole discretion, and does not mean or imply that the disciplinary action was\\nwrong or without cause.\\nYou are prohibited from receiving our products, services, or software under ap‐\\nplicable laws.\\n3.2 What you can share and do on Meta Products\\nWe want people to use Meta Products to express themselves and to share content\\nthat is important to them, but not at the expense of the safety and well-being of oth‐\\ners or the integrity of our community. You therefore agree not to engage in the con‐\\nduct described below (or to facilitate or support others in doing so):\"),\n",
       " Document(metadata={'producer': 'Skia/PDF m137', 'creator': 'Mozilla/5.0 (Macintosh; Intel Mac OS X 10_15_7) AppleWebKit/537.36 (KHTML, like Gecko) Chrome/137.0.0.0 Safari/537.36', 'creationdate': '2025-06-23T21:10:36+00:00', 'title': 'Meta Terms of Service', 'moddate': '2025-06-23T21:10:36+00:00', 'source': '../data/Meta Terms of Service.pdf', 'total_pages': 12, 'page': 5, 'page_label': '6'}, page_content=\"1. You may not use our Products to do or share anything:\\nThat violates these Terms, the Community Standards, or other terms and poli‐\\ncies that apply to your use of our Products.\\nThat is unlawful, misleading, discriminatory or fraudulent (or assists someone\\nelse in using our Products in such a way).\\nThat you do not own or have the necessary rights to share.\\nThat infringes or violates someone else's rights, including their intellectual\\nproperty rights (such as by infringing another’s copyright or trademark, or dis‐\\ntributing or selling counterfeit or pirated goods), unless an exception or limita‐\\ntion applies under applicable law.\\n2. You may not upload viruses or malicious code, use the services to send spam, or\\ndo anything else that could disable, overburden, interfere with, or impair the prop‐\\ner working, integrity, operation, or appearance of our services, systems, or\\nProducts.\\n3. You may not access or collect data from our Products using automated means\\n(without our prior permission) or attempt to access data you do not have permis‐\\nsion to access, regardless of whether such automated access or collection is un‐\\ndertaken while logged-in to a Facebook account.\\n4. You may not proxy, request, or collect Product usernames or passwords, or mis‐\\nappropriate access tokens.\\n5. Except as provided in the Platform Terms, you may not sell, license, or purchase\\nany data obtained from us or our services, regardless of whether such data was\\nobtained while logged-in to a Facebook account.\\n6. You may not misuse any reporting, ﬂagging, dispute, or appeals channel, such as\\nby making fraudulent, duplicative, or groundless reports or appeals.\\n7. You may not do, or attempt to do, anything to circumvent, bypass, or override any\\ntechnological measures that Meta uses to control or limit access to our Products\\nor data.\\nWe can remove or restrict access to content that is in violation of these provisions.\\nWe can also suspend or disable your account for conduct that violates these provi‐\\nsions, as provided in Section 4.2.\\nIf we remove content that you have shared in violation of the Community Standards,\\nwe’ll let you know and explain any options you have to request another review, un‐\\nless you seriously or repeatedly violate these Terms or if doing so may expose us or\\nothers to legal liability; harm our community of users; compromise or interfere with\\nthe integrity or operation of any of our services, systems or Products; where we are\\nrestricted due to technical limitations; or where we are prohibited from doing so for\\nlegal reasons. For information on account suspension or termination, see Section\\n4.2 below.\\nWe work with independent fact-checkers in many jurisdictions to combat misinfor‐\\nmation. When content has been rated by fact-checkers, we may add a notice to pro‐\"),\n",
       " Document(metadata={'producer': 'Skia/PDF m137', 'creator': 'Mozilla/5.0 (Macintosh; Intel Mac OS X 10_15_7) AppleWebKit/537.36 (KHTML, like Gecko) Chrome/137.0.0.0 Safari/537.36', 'creationdate': '2025-06-23T21:10:36+00:00', 'title': 'Meta Terms of Service', 'moddate': '2025-06-23T21:10:36+00:00', 'source': '../data/Meta Terms of Service.pdf', 'total_pages': 12, 'page': 6, 'page_label': '7'}, page_content='vide additional context. You can ﬁnd more information about fact-checking here.\\nTo help support our community, we encourage you to report content or conduct that\\nyou believe violates your rights (including intellectual property rights) or our terms\\nand policies, if this feature exists in your jurisdiction. We also can remove or restrict\\naccess to content, features, services, or information if we determine that doing so is\\nreasonably necessary to avoid or mitigate misuse of our services or adverse legal or\\nregulatory impacts to Meta.\\n3.3 The permissions you give us\\nWe need certain permissions from you to provide our services:\\n1. Your content: Some content that you share or upload, such as photos or videos,\\nmay be protected by intellectual property laws.\\nYou retain ownership of the intellectual property rights (things like copyright or trade‐\\nmarks) in any such content that you create and share on Facebook and other Meta\\nCompany Products you use. Nothing in these Terms takes away the rights you have\\nto your own content. You are free to share your content with anyone else, wherever\\nyou want.\\nHowever, to provide our services we need you to give us some legal permissions\\n(known as a \"license\") to use this content. This is solely for the purposes of provid‐\\ning and improving our Products and services as described in Section 1 above.\\n2. Permission to use content you create and share: Speciﬁcally, when you share,\\npost, or upload content that is covered by intellectual property rights on or in con‐\\nnection with our Products, you grant us a non-exclusive, transferable, sub-licens‐\\nable, royalty-free, and worldwide license to host, use, distribute, modify, run, copy,\\npublicly perform or display, translate, and create derivative works of your content\\n(consistent with your privacy and application settings). This means, for example, that\\nif you share a photo on Facebook, you give us permission to store, copy, and share\\nit with others (again, consistent with your settings) such as Meta Products or service\\nproviders that support those products and services. This license will end when your\\ncontent is deleted from our systems.\\n3. Deleting Your Content: You can delete individual content you share, post, and\\nupload at any time. In addition, all content posted to your personal account will be\\ndeleted if you delete your account. Learn more about how to delete your account.\\nAccount deletion does not automatically delete content that you post as an admin of\\na page or content that you create collectively with other users, such as photos in\\nShared Albums which may continue to be visible to other album members.\\nIt may take up to 90 days to delete content after we begin the account deletion\\nprocess or receive a content deletion request. If you send content to trash, the dele‐\\ntion process will automatically begin in 30 days unless you chose to delete the con‐\\ntent sooner. While the deletion process for such content is being undertaken, the\\ncontent is no longer visible to other users. After the content is deleted, it may take us\\nup to another 90 days to remove it from backups and disaster recovery systems.'),\n",
       " Document(metadata={'producer': 'Skia/PDF m137', 'creator': 'Mozilla/5.0 (Macintosh; Intel Mac OS X 10_15_7) AppleWebKit/537.36 (KHTML, like Gecko) Chrome/137.0.0.0 Safari/537.36', 'creationdate': '2025-06-23T21:10:36+00:00', 'title': 'Meta Terms of Service', 'moddate': '2025-06-23T21:10:36+00:00', 'source': '../data/Meta Terms of Service.pdf', 'total_pages': 12, 'page': 7, 'page_label': '8'}, page_content=\"Content will not be deleted within 90 days of the account deletion or content deletion\\nprocess beginning in the following situations:\\nwhere your content has been used by others in accordance with this license and\\nthey have not deleted it (in which case this license will continue to apply until that\\ncontent is deleted);\\nwhere deletion within 90 days is not possible due to technical limitations of our\\nsystems, in which case, we will complete the deletion as soon as technically fea‐\\nsible; or\\nwhere immediate deletion would restrict our ability to:\\ninvestigate or identify illegal activity or violations of our terms and policies (for\\nexample, to identify or investigate misuse of our Products or systems);\\nprotect the safety, integrity, and security of our Products, systems, services, our\\nemployees, and users, and to defend ourselves;\\ncomply with legal obligations for the preservation of evidence, including data\\nMeta Companies providing ﬁnancial products and services preserve to comply\\nwith any record keeping obligations required by law; or\\ncomply with a request of a judicial or administrative authority, law enforcement\\nor a government agency;\\nin which case, the content will be retained for no longer than is necessary for the\\npurposes for which it has been retained (the exact duration will vary on a case-by-\\ncase basis).\\nIn each of the above cases, this license will continue until the content has been fully\\ndeleted.\\n4. Permission to use your name, proﬁle picture, and information about your\\nactions with ads and sponsored or commercial content: You give us permission\\nto use your name and proﬁle picture and information about actions you have taken\\non Facebook next to or in connection with ads, offers, and other sponsored or com‐\\nmercial content that we display across our Products, without any compensation to\\nyou. For example, we may show your friends that you are interested in an adver‐\\ntised event or have liked a Facebook Page created by a brand that has paid us to\\ndisplay its ads on Facebook. Ads and content like this can be seen only by people\\nwho have your permission to see the actions you've taken on Meta Products. You\\ncan learn more about your ad settings and preferences.\\n5. Permission to update software you use or download: If you download or use\\nour software, you give us permission to download and install updates to the soft‐\\nware where available.\\n3.4 Limits on using our intellectual property\\nIf you use content covered by intellectual property rights that we have and make\\navailable in our Products (for example, images, designs, videos, or sounds we pro‐\\nvide that you add to content you create or share on Facebook), we retain all rights to\"),\n",
       " Document(metadata={'producer': 'Skia/PDF m137', 'creator': 'Mozilla/5.0 (Macintosh; Intel Mac OS X 10_15_7) AppleWebKit/537.36 (KHTML, like Gecko) Chrome/137.0.0.0 Safari/537.36', 'creationdate': '2025-06-23T21:10:36+00:00', 'title': 'Meta Terms of Service', 'moddate': '2025-06-23T21:10:36+00:00', 'source': '../data/Meta Terms of Service.pdf', 'total_pages': 12, 'page': 8, 'page_label': '9'}, page_content='that content (but not yours). You can only use our copyrights or trademarks (or any\\nsimilar marks) as expressly permitted by our Brand Usage Guidelines or with our\\nprior written permission. You must obtain our written permission (or permission un‐\\nder an open source license) to modify, translate, create derivative works of, decom‐\\npile, or reverse engineer our products or their components, or otherwise attempt to\\nextract source code from us, unless an exception or limitation applies under applica‐\\nble law or your conduct relates to the Meta Bug Bounty Program. We reserve all\\nrights not expressly granted to you.\\n4. Additional provisions\\n4.1 Updating our Terms\\nWe work constantly to improve our services and develop new features to make our\\nProducts better for you and our community. As a result, we may need to update\\nthese Terms from time to time to accurately reﬂect our services and practices, to\\npromote a safe and secure experience on our Products and services, and/or to com‐\\nply with applicable law. We will only make any changes if the provisions are no\\nlonger appropriate or if they are incomplete, and only if the changes are reasonable\\nand take due account of your interests or if the changes are required for safety and\\nsecurity purposes or to comply with applicable law.\\nWe will notify you (for example, by email or through our Products) at least 30 days\\nbefore we make changes to these Terms and give you an opportunity to review\\nthem before they go into effect, unless changes are required by law. Once any up‐\\ndated Terms are in effect, you will be bound by them if you continue to access or\\nuse our Products.\\nWe hope that you will continue using our Products, but if you do not agree to our up‐\\ndated Terms, or wish to terminate your agreement to this contract, you can delete\\nyour account at any time and you must also stop accessing, or using Facebook and\\nthe other Meta Products.\\n4.2 Account suspension or termination\\nWe want Facebook to be a place where people feel welcome and safe to express\\nthemselves and share their thoughts and ideas.\\nIf we determine, in our discretion, that you have clearly, seriously or repeatedly\\nbreached our Terms or Policies, including in particular the Community Standards,\\nwe may suspend or permanently disable your access to Meta Company Products,\\nand we may permanently disable or delete your account. We may also disable or\\ndelete your account if you repeatedly infringe other people’s intellectual property\\nrights or where we are required to do so for legal reasons.\\nWe may disable or delete your account if after registration your account is not con‐\\nﬁrmed, your account is unused and remains inactive for an extended period of time,\\nor if we detect someone may have used it without your permission and we are un‐\\nable to conﬁrm your ownership of the account. Learn more about how we disable\\nand delete accounts.'),\n",
       " Document(metadata={'producer': 'Skia/PDF m137', 'creator': 'Mozilla/5.0 (Macintosh; Intel Mac OS X 10_15_7) AppleWebKit/537.36 (KHTML, like Gecko) Chrome/137.0.0.0 Safari/537.36', 'creationdate': '2025-06-23T21:10:36+00:00', 'title': 'Meta Terms of Service', 'moddate': '2025-06-23T21:10:36+00:00', 'source': '../data/Meta Terms of Service.pdf', 'total_pages': 12, 'page': 9, 'page_label': '10'}, page_content='Where we take such action we’ll let you know and explain any options you have to\\nrequest a review, unless doing so may expose us or others to legal liability; harm\\nour community of users; compromise or interfere with the integrity or operation of\\nany of our services, systems or Products; where we are restricted due to technical\\nlimitations; or where we are prohibited from doing so for legal reasons.\\nYou can learn more about what you can do if your account has been disabled and\\nhow to contact us if you think we have disabled your account by mistake.\\nIf you delete or we disable or delete your account, and you stop accessing, using, or\\nvisiting Facebook and the other Meta Products, or if this contract is otherwise termi‐\\nnated, then these Terms shall terminate as an agreement between you and us, ex‐\\ncept for the following provisions, which will remain in place: (3, 4.2-4.5).\\n4.3 Limits on liability\\nWe work hard to provide the best Products we can and to specify clear guidelines\\nfor everyone who uses them. Our Products, however, are provided \"as is,\" and to\\nthe extent permissible by law, we make no guarantees that they always will be safe,\\nsecure, or error-free, or that they will function without disruptions, delays, or imper‐\\nfections. To the extent permitted by law, we also DISCLAIM ALL WARRANTIES,\\nWHETHER EXPRESS OR IMPLIED, INCLUDING THE IMPLIED WARRANTIES OF\\nMERCHANTABILITY, FITNESS FOR A PARTICULAR PURPOSE, TITLE, AND\\nNON-INFRINGEMENT. We do not control or direct what people and others do or\\nsay, and we are not responsible for their actions or conduct (whether online or off‐\\nline) or any content they share (including offensive, inappropriate, obscene, unlaw‐\\nful, and other objectionable content).\\nWe cannot predict when issues might arise with our Products. Accordingly, our liabil‐\\nity shall be limited to the fullest extent permitted by applicable law. To the fullest ex‐\\ntent permitted by applicable law under no circumstance will we be liable to you for\\nany lost proﬁts, revenues, information, or data, or consequential, special, indirect,\\nexemplary, punitive, or incidental damages arising out of or related to these Terms\\nor the Meta Products (however caused and on any theory of liability, including negli‐\\ngence), even if we have been advised of the possibility of such damages.\\n4.4 Disputes\\nWe try to provide clear rules so that we can limit or hopefully avoid disputes be‐\\ntween you and us. If a dispute does arise, however, it\\'s useful to know up front\\nwhere it can be resolved and what laws will apply.\\nIf you are a consumer, or where required by applicable law, the laws of the country\\nin which you reside will apply to any claim, cause of action, or dispute you have\\nagainst us that arises out of or relates to these Terms or the Meta Products, and you\\nmay resolve your claim in any competent court in that country that has jurisdiction\\nover the claim. In all other cases, and for any claim, cause of action, or dispute that\\nMeta ﬁles against you, you and Meta agree that any such claim, cause of action or\\ndispute must be resolved exclusively in the U.S. District Court for the Northern\\nDistrict of California or a state court located in San Mateo County. You also agree\\nthat you submit to the personal jurisdiction of either of these courts for the purpose'),\n",
       " Document(metadata={'producer': 'Skia/PDF m137', 'creator': 'Mozilla/5.0 (Macintosh; Intel Mac OS X 10_15_7) AppleWebKit/537.36 (KHTML, like Gecko) Chrome/137.0.0.0 Safari/537.36', 'creationdate': '2025-06-23T21:10:36+00:00', 'title': 'Meta Terms of Service', 'moddate': '2025-06-23T21:10:36+00:00', 'source': '../data/Meta Terms of Service.pdf', 'total_pages': 12, 'page': 10, 'page_label': '11'}, page_content='of litigating any such claim, and that the laws of the State of California will govern\\nthese Terms and any claim, cause of action, or dispute without regard to conﬂict of\\nlaw provisions. Without prejudice to the foregoing, you agree that, in its sole discre‐\\ntion, Meta may bring any claim, cause of action, or dispute we have against you in\\nany competent court in the country in which you reside that has jurisdiction over the\\nclaim.\\n4.5 Miscellaneous\\n1. Supplemental Terms: Some of the Products we offer are also governed by sup‐\\nplemental terms. If you use any of those Products, supplemental terms will be\\nmade available and will become part of our agreement with you. For instance, if\\nyou access or use our Products for commercial or business purposes, such as\\nbuying ads, selling products, developing apps, managing a group or Page for\\nyour business, or using our measurement services, you must agree to our\\nCommercial Terms. If you post or share content containing music, you must com‐\\nply with our Music Guidelines. If you use Avatars, then the Avatar Terms also ap‐\\nply. If you use our AI products and features, the Meta AI Terms also apply. To the\\nextent any supplemental terms conﬂict with these Terms, the supplemental terms\\nshall govern to the extent of the conﬂict.\\n2. Severability: If any portion of these Terms is found to be unenforceable, the un‐\\nenforceable portion will be deemed amended to the minimum extent necessary to\\nmake it enforceable, and if it can’t be made enforceable, then it will be severed\\nand the remaining portion will remain in full force and effect. If we fail to enforce\\nany of these Terms, it will not be considered a waiver. Any amendment to or waiv‐\\ner of these Terms must be made in writing and signed by us.\\n3. No Transfer: You will not transfer any of your rights or obligations under these\\nTerms to anyone else without our consent.\\n4. Legacy Contact: You may designate a person (called a legacy contact) to man‐\\nage your account if it is memorialized. If you enable it in your settings, only your\\nlegacy contact or a person who you have identiﬁed in a valid will or similar legal\\ndocument expressing clear consent to disclose your content to that person upon\\ndeath or incapacity will be able to seek limited disclosure of information from your\\naccount after it is memorialized.\\n5. No Third-party Beneﬁciaries Terms: These Terms do not confer any third-party\\nbeneﬁciary rights. All of our rights and obligations under these Terms are freely\\nassignable by us in connection with a merger, acquisition, or sale of assets, or by\\noperation of law or otherwise.\\n6. User Name Change: We may change the username for your account in certain\\ncircumstances (for example, if someone else claims the username and it appears\\nunrelated to the name you use in everyday life).\\n7. Feedback: We always appreciate your feedback and other suggestions about our\\nproducts and services. But we may use feedback and other suggestions without\\nany restriction or obligation to compensate you, and we are under no obligation to\\nkeep them conﬁdential.'),\n",
       " Document(metadata={'producer': 'Skia/PDF m137', 'creator': 'Mozilla/5.0 (Macintosh; Intel Mac OS X 10_15_7) AppleWebKit/537.36 (KHTML, like Gecko) Chrome/137.0.0.0 Safari/537.36', 'creationdate': '2025-06-23T21:10:36+00:00', 'title': 'Meta Terms of Service', 'moddate': '2025-06-23T21:10:36+00:00', 'source': '../data/Meta Terms of Service.pdf', 'total_pages': 12, 'page': 11, 'page_label': '12'}, page_content='5. Other terms and policies that may apply to you\\nCommunity Standards: These guidelines outline our standards regarding the con‐\\ntent you post to Facebook and your activity on Facebook and other Meta\\nProducts.\\nCommercial Terms: These terms apply if you also access or use our Products for\\nany commercial or business purpose, including advertising, operating an app on\\nour Platform, using our measurement services, managing a group or a Page for a\\nbusiness, or selling goods or services.\\nCommunity Payment Terms: These terms apply to payments made on or through\\nMeta Products.\\nCommerce Policies: These guidelines outline the policies that apply when you of‐\\nfer products or services for sale on Facebook, Instagram, and WhatsApp.\\nMusic Guidelines: These guidelines outline the policies that apply if you post or\\nshare content containing music on any Meta Products.\\nAdvertising Policies: These policies apply to partners who advertise across the\\nMeta Products and specify what types of ad content are allowed by partners who\\nadvertise across the Meta Products.\\nSelf-Serve Ad Terms: These terms apply when you use self-serve advertising in‐\\nterfaces to create, submit, or deliver advertising or other commercial or spon‐\\nsored activity or content.\\nFacebook Pages, Groups and Events Policy: These guidelines apply if you create\\nor administer a Facebook Page, group, or event, or if you use Facebook to com‐\\nmunicate or administer a promotion.\\nMeta Platform Policy: These terms apply to the use of the set of APIs, SDKs,\\ntools, plugins, code, technology, content, and services that enables others to de‐\\nvelop functionality, retrieve data from MetaProducts, or provide data to us.\\nDeveloper Payment Terms: These terms apply to developers of applications that\\nuse Facebook Payments.\\nMeta Brand Resources: These guidelines outline the policies that apply to use of\\nMeta trademarks, logos, and screenshots.\\nRecommendations Guidelines: The Facebook Recommendations Guidelines and\\nInstagram Recommendations Guidelines outline our standards for recommending\\nand not recommending content.\\nLive Policies: These policies apply to all content broadcast to Facebook Live.\\nAvatar Terms: These terms apply to the use of our Avatars and our Avatar fea‐\\ntures, including purchases and acquisitions of Avatar clothing in the Avatar store.\\nMeta AI Terms: These terms govern use of our Generative AI products and\\nfeatures.')]"
      ]
     },
     "execution_count": 3,
     "metadata": {},
     "output_type": "execute_result"
    }
   ],
   "source": [
    "docs_pages"
   ]
  },
  {
   "cell_type": "markdown",
   "id": "5e3e6b83",
   "metadata": {},
   "source": [
    "### Split Documents"
   ]
  },
  {
   "cell_type": "code",
   "execution_count": 4,
   "id": "4b771eb3",
   "metadata": {},
   "outputs": [],
   "source": [
    "# filter unnecessary metadata from the loaded documents\n",
    "metadata_to_remove = [\"producer\", \"creator\", \"creationdate\", \"moddate\"]\n",
    "\n",
    "for page in docs_pages:\n",
    "    # remove unnecessary metadata\n",
    "    for metadata_key in metadata_to_remove:\n",
    "        page.metadata.pop(metadata_key, None)\n",
    "    # make page numbers start at 1 (PyPDFLoader indexes pages from 0)\n",
    "    if \"page\" in page.metadata and isinstance(page.metadata[\"page\"], int):\n",
    "        page.metadata[\"page\"] += 1"
   ]
  },
  {
   "cell_type": "code",
   "execution_count": 5,
   "id": "7a361053",
   "metadata": {},
   "outputs": [
    {
     "name": "stdout",
     "output_type": "stream",
     "text": [
      "Split 12 documents into 44 chunks\n"
     ]
    }
   ],
   "source": [
    "from langchain_text_splitters import RecursiveCharacterTextSplitter\n",
    "\n",
    "# split loaded pages into chunks of 1000 characters with 200 characters of overlap\n",
    "text_splitter = RecursiveCharacterTextSplitter(chunk_size=1000, chunk_overlap=200)\n",
    "doc_splits = text_splitter.split_documents(docs_pages)\n",
    "\n",
    "print(f\"Split {len(docs_pages)} documents into {len(doc_splits)} chunks\")"
   ]
  },
  {
   "cell_type": "code",
   "execution_count": 6,
   "id": "d0561c03",
   "metadata": {},
   "outputs": [
    {
     "data": {
      "text/plain": [
       "[Document(metadata={'title': 'Meta Terms of Service', 'source': '../data/Meta Terms of Service.pdf', 'total_pages': 12, 'page': 1, 'page_label': '1'}, page_content='Terms of Service\\nExplore the policy\\nOverview\\n1. The services we provide\\n2. How our services are funded\\n3. Your commitments to Facebook and our community\\n4. Additional provisions\\n5. Other terms and policies that may apply to you\\nOverview\\nEffective January 1, 2025\\nMeta builds technologies and services that enable people to connect with each oth‐\\ner, build communities, and grow businesses. These Terms of Service (the \"Terms\")\\ngovern your access and use of Facebook, Messenger, and the other products, web‐\\nsites, features, apps, services, technologies, and software we offer (the Meta\\nProducts or Products), except where we expressly state that separate terms (and\\nnot these) apply. (For example, your use of Instagram is subject to the Instagram\\nTerms of Use). These Products are provided to you by Meta Platforms, Inc. These\\nTerms therefore constitute an agreement between you and Meta Platforms, Inc. If\\nyou do not agree to these Terms, then do not access or use Facebook or the other'),\n",
       " Document(metadata={'title': 'Meta Terms of Service', 'source': '../data/Meta Terms of Service.pdf', 'total_pages': 12, 'page': 1, 'page_label': '1'}, page_content='Terms therefore constitute an agreement between you and Meta Platforms, Inc. If\\nyou do not agree to these Terms, then do not access or use Facebook or the other\\nproducts and services covered by these Terms.\\nThese Terms (formerly known as the Statement of Rights and Responsibilities)\\nmake up the entire agreement between you and Meta Platforms, Inc. regarding your\\nuse of our Products. They supersede any prior agreements.\\nWe don’t charge you to use Facebook or the other products and services covered\\nby these Terms, unless we state otherwise. Instead, businesses and organizations,\\nand other persons pay us to show you ads for their products and services. By using\\nour Products, you agree that we can show you ads that we think may be relevant to\\nyou and your interests. We use your personal data to help determine which person‐\\nalized ads to show you.\\nWe don’t sell your personal data to advertisers, and we don’t share information that'),\n",
       " Document(metadata={'title': 'Meta Terms of Service', 'source': '../data/Meta Terms of Service.pdf', 'total_pages': 12, 'page': 1, 'page_label': '1'}, page_content='you and your interests. We use your personal data to help determine which person‐\\nalized ads to show you.\\nWe don’t sell your personal data to advertisers, and we don’t share information that\\ndirectly identiﬁes you (such as your name, email address or other contact informa‐\\ntion) with advertisers unless you give us speciﬁc permission. Instead, advertisers\\ncan tell us things like the kind of audience they want to see their ads, and we show\\nthose ads to people who may be interested. We provide advertisers with reports\\nabout the performance of their ads that help them understand how people are inter‐'),\n",
       " Document(metadata={'title': 'Meta Terms of Service', 'source': '../data/Meta Terms of Service.pdf', 'total_pages': 12, 'page': 2, 'page_label': '2'}, page_content=\"acting with their content. See Section 2 below to learn more about how personalized\\nadvertising under these terms works on the Meta Products.\\nOur Privacy Policy explains how we collect and use your personal data to determine\\nsome of the ads you see and provide all of the other services described below. You\\ncan also go to your settings pages of the relevant Meta Product at any time to re‐\\nview the privacy choices you have about how we use your data.\\nWhat Products do these Terms cover?\\n1. The services we provide\\nOur mission is to give people the power to build community and bring the world clos‐\\ner together. To help advance this mission, we provide the Products and services de‐\\nscribed below to you:\\n1.1 Provide a personalized experience for you:\\nYour experience on Facebook is unlike anyone else's: from the posts, stories,\\nevents, ads, and other content you see in Facebook Feed or our video platform to\\nthe Facebook Pages you follow and other features you might use, such as\"),\n",
       " Document(metadata={'title': 'Meta Terms of Service', 'source': '../data/Meta Terms of Service.pdf', 'total_pages': 12, 'page': 2, 'page_label': '2'}, page_content='events, ads, and other content you see in Facebook Feed or our video platform to\\nthe Facebook Pages you follow and other features you might use, such as\\nFacebook Marketplace, and search. For example, we use data about the connec‐\\ntions you make, the choices and settings you select, and what you share and do on\\nand off our Products - to personalize your experience.\\n1.2 Connect you with people and organizations you care\\nabout:\\nWe help you ﬁnd and connect with people, groups, businesses, organizations, and\\nothers that matter to you across the Meta Products you use. We use data to make\\nsuggestions for you and others - for example, groups to join, events to attend,\\nFacebook Pages to follow or send a message to, shows to watch, and people you\\nmay want to become friends with. Stronger ties make for better communities, and\\nwe believe our services are most useful when people are connected to people,\\ngroups, and organizations they care about.\\n1.3 Empower you to express yourself and communicate'),\n",
       " Document(metadata={'title': 'Meta Terms of Service', 'source': '../data/Meta Terms of Service.pdf', 'total_pages': 12, 'page': 2, 'page_label': '2'}, page_content='we believe our services are most useful when people are connected to people,\\ngroups, and organizations they care about.\\n1.3 Empower you to express yourself and communicate\\nabout what matters to you:\\nThere are many ways to express yourself on Facebook to communicate with friends,\\nfamily, and others about what matters to you - for example, sharing status updates,\\nphotos, videos, and stories across the Meta Products (consistent with your settings),\\nsending messages or making voice or video calls to a friend or several people, cre‐\\nating events or groups, or adding content to your proﬁle as well as showing you in‐\\nsights on how others engage with your content. We have also developed, and con‐\\ntinue to explore, new ways for people to use technology, such as augmented reality\\nand 360 video to create and share more expressive and engaging content on Meta\\nProducts.'),\n",
       " Document(metadata={'title': 'Meta Terms of Service', 'source': '../data/Meta Terms of Service.pdf', 'total_pages': 12, 'page': 3, 'page_label': '3'}, page_content='1.4 Help you discover content, products, and services that\\nmay interest you:\\nWe show you personalized ads, offers, and other sponsored or commercial content\\nto help you discover content, products, and services that are offered by the many\\nbusinesses and organizations that use Facebook and other Meta Products. Section\\n2 below explains this in more detail.\\n1.5 Promote the safety, security, and integrity of our ser‐\\nvices, combat harmful conduct and keep our community of\\nusers safe:\\nPeople will only build community on Meta Products if they feel safe and secure. We\\nwork hard to maintain the security (including the availability, authenticity, integrity,\\nand conﬁdentiality) of our Products and services. We employ dedicated teams\\naround the world, work with external service providers, partners and other relevant\\nentities and develop advanced technical systems to detect potential misuse of our\\nProducts, harmful conduct towards others, and situations where we may be able to'),\n",
       " Document(metadata={'title': 'Meta Terms of Service', 'source': '../data/Meta Terms of Service.pdf', 'total_pages': 12, 'page': 3, 'page_label': '3'}, page_content='entities and develop advanced technical systems to detect potential misuse of our\\nProducts, harmful conduct towards others, and situations where we may be able to\\nhelp support or protect our community, including to respond to user reports of poten‐\\ntially violating content. If we learn of content or conduct like this, we may take appro‐\\npriate action based on our assessment that may include - notifying you, offering\\nhelp, removing content, removing or restricting access to certain features, disabling\\nan account, or contacting law enforcement. We share data across Meta Companies\\nwhen we detect misuse or harmful conduct by someone using one of our Products\\nor to help keep Meta Products, users and the community safe. For example, we\\nshare information with Meta Companies that provide ﬁnancial products and services\\nto help them promote safety, security and integrity and comply with applicable law.\\nMeta may access, preserve, use and share any information it collects about you'),\n",
       " Document(metadata={'title': 'Meta Terms of Service', 'source': '../data/Meta Terms of Service.pdf', 'total_pages': 12, 'page': 3, 'page_label': '3'}, page_content='to help them promote safety, security and integrity and comply with applicable law.\\nMeta may access, preserve, use and share any information it collects about you\\nwhere it has a good faith belief it is required or permitted by law to do so. For more\\ninformation, please review our Privacy Policy.\\nIn some cases, the Oversight Board may review our decisions, subject to its terms\\nand bylaws. Learn more here.\\n1.6 Use and develop advanced technologies to provide safe\\nand functional services for everyone:\\nWe use and develop advanced technologies - such as artiﬁcial intelligence, machine\\nlearning systems, and augmented reality - so that people can use our Products\\nsafely regardless of physical ability or geographic location. For example, technology\\nlike this helps people who have visual impairments understand what or who is in\\nphotos or videos shared on Facebook or Instagram. We also build sophisticated net‐\\nwork and communication technology to help more people connect to the internet in'),\n",
       " Document(metadata={'title': 'Meta Terms of Service', 'source': '../data/Meta Terms of Service.pdf', 'total_pages': 12, 'page': 3, 'page_label': '3'}, page_content='photos or videos shared on Facebook or Instagram. We also build sophisticated net‐\\nwork and communication technology to help more people connect to the internet in\\nareas with limited access. And we develop automated systems to improve our ability\\nto detect and remove abusive and dangerous activity that may harm our community\\nand the integrity of our Products.\\n1.7 Research ways to make our services better:'),\n",
       " Document(metadata={'title': 'Meta Terms of Service', 'source': '../data/Meta Terms of Service.pdf', 'total_pages': 12, 'page': 4, 'page_label': '4'}, page_content='We engage in research to develop, test, and improve our Products. This includes\\nanalyzing data we have about our users and understanding how people use our\\nProducts, for example by conducting surveys and testing and troubleshooting new\\nfeatures. Our Privacy Policy explains how we use data to support this research for\\nthe purposes of developing and improving our services.\\n1.8 Provide consistent and seamless experiences across\\nthe Meta Company Products:\\nOur Products help you ﬁnd and connect with people, groups, businesses, organiza‐\\ntions, and others that are important to you. We design our systems so that your ex‐\\nperience is consistent and seamless across the different Meta Company Products\\nthat you use. For example, we use data about the people you engage with on\\nFacebook to make it easier for you to connect with them on Instagram or\\nMessenger, and we enable you to communicate with a business you follow on\\nFacebook through Messenger.\\n1.9 Ensuring access to our services:'),\n",
       " Document(metadata={'title': 'Meta Terms of Service', 'source': '../data/Meta Terms of Service.pdf', 'total_pages': 12, 'page': 4, 'page_label': '4'}, page_content='Messenger, and we enable you to communicate with a business you follow on\\nFacebook through Messenger.\\n1.9 Ensuring access to our services:\\nTo operate our global services and enable you to connect with people around the\\nworld, we need to transfer, store and distribute content and data to our data centers,\\npartners, service providers, vendors and systems around the world, including out‐\\nside your country of residence. The use of this global infrastructure is necessary and\\nessential to provide our services. This infrastructure may be owned, operated, or\\ncontrolled by Meta Platforms, Inc., Meta Platforms Ireland Limited, or its afﬁliates.\\n2. How our services are funded\\nInstead of paying to use Facebook and the other products and services we offer, by\\nusing the Meta Products covered by these Terms, you agree that we can show you\\npersonalized ads and other commercial and sponsored content that businesses and\\norganizations pay us to promote on and off Meta Company Products. We use your'),\n",
       " Document(metadata={'title': 'Meta Terms of Service', 'source': '../data/Meta Terms of Service.pdf', 'total_pages': 12, 'page': 4, 'page_label': '4'}, page_content=\"personalized ads and other commercial and sponsored content that businesses and\\norganizations pay us to promote on and off Meta Company Products. We use your\\npersonal data, such as information about your activity and interests, to show you\\npersonalized ads and sponsored content that may be more relevant to you.\\nProtecting people's privacy is central to how we've designed our personalized ads\\nsystem. This means that we can show you relevant and useful ads without telling\\nadvertisers who you are. We don't sell your personal data. We allow advertisers to\\ntell us things like their business goal, and the kind of audience they want to see their\\nads (for example, people between the age of 18-35 who like cycling). We then show\\ntheir ad to people who we think might be interested.\\nWe also provide advertisers with reports about the performance of their ads to help\\nthem understand how people are interacting with their content on and off Meta\"),\n",
       " Document(metadata={'title': 'Meta Terms of Service', 'source': '../data/Meta Terms of Service.pdf', 'total_pages': 12, 'page': 4, 'page_label': '4'}, page_content='We also provide advertisers with reports about the performance of their ads to help\\nthem understand how people are interacting with their content on and off Meta\\nProducts. For example, we provide general demographic and interest information to\\nadvertisers to help them better understand their audience, like the fact that women\\nbetween the ages of 25 and 34 who live in Madrid and like software engineering\\nhave seen an ad. We don’t share information that directly identiﬁes you (information\\nsuch as your name or email address that by itself can be used to contact you or'),\n",
       " Document(metadata={'title': 'Meta Terms of Service', 'source': '../data/Meta Terms of Service.pdf', 'total_pages': 12, 'page': 5, 'page_label': '5'}, page_content='identiﬁes who you are) unless you give us speciﬁc permission. Learn more about\\nhow Meta ads work here.\\nWe collect and use your personal data in order to provide the services described\\nabove to you. You can learn about how we collect and use your data in our Privacy\\nPolicy. You have controls over the types of ads and advertisers you see, and the\\ntypes of information we use to determine which ads we show you. Learn more.\\n3. Your commitments to Facebook and our\\ncommunity\\nWe provide these services to you and others to help advance our mission. In ex‐\\nchange, we need you to make the following commitments:\\n3.1 Who can use Facebook\\nWhen people stand behind their opinions and actions, our community is safer and\\nmore accountable. For this reason, you must:\\nProvide for your account the same name that you use in everyday life.\\nProvide accurate information about yourself.\\nCreate only one account (your own) and use it for personal purposes.'),\n",
       " Document(metadata={'title': 'Meta Terms of Service', 'source': '../data/Meta Terms of Service.pdf', 'total_pages': 12, 'page': 5, 'page_label': '5'}, page_content=\"Provide for your account the same name that you use in everyday life.\\nProvide accurate information about yourself.\\nCreate only one account (your own) and use it for personal purposes.\\nNot share your password, give access to your Facebook account to others, or\\ntransfer your account to anyone else (without our permission).\\nWe try to make Facebook broadly available to everyone, but you cannot use\\nFacebook if:\\nYou are under 13 years old.\\nYou are a convicted sex offender.\\nWe've previously disabled your account for violations of our Terms, the\\nCommunity Standards, or other terms and policies that apply to your use of\\nFacebook. If we disable your account for a violation of our Terms, the Community\\nStandards, or other terms and policies, you agree not to create another account\\nwithout our permission. Receiving permission to create a new account is provided\\nat our sole discretion, and does not mean or imply that the disciplinary action was\\nwrong or without cause.\"),\n",
       " Document(metadata={'title': 'Meta Terms of Service', 'source': '../data/Meta Terms of Service.pdf', 'total_pages': 12, 'page': 5, 'page_label': '5'}, page_content='without our permission. Receiving permission to create a new account is provided\\nat our sole discretion, and does not mean or imply that the disciplinary action was\\nwrong or without cause.\\nYou are prohibited from receiving our products, services, or software under ap‐\\nplicable laws.\\n3.2 What you can share and do on Meta Products\\nWe want people to use Meta Products to express themselves and to share content\\nthat is important to them, but not at the expense of the safety and well-being of oth‐\\ners or the integrity of our community. You therefore agree not to engage in the con‐\\nduct described below (or to facilitate or support others in doing so):'),\n",
       " Document(metadata={'title': 'Meta Terms of Service', 'source': '../data/Meta Terms of Service.pdf', 'total_pages': 12, 'page': 6, 'page_label': '6'}, page_content=\"1. You may not use our Products to do or share anything:\\nThat violates these Terms, the Community Standards, or other terms and poli‐\\ncies that apply to your use of our Products.\\nThat is unlawful, misleading, discriminatory or fraudulent (or assists someone\\nelse in using our Products in such a way).\\nThat you do not own or have the necessary rights to share.\\nThat infringes or violates someone else's rights, including their intellectual\\nproperty rights (such as by infringing another’s copyright or trademark, or dis‐\\ntributing or selling counterfeit or pirated goods), unless an exception or limita‐\\ntion applies under applicable law.\\n2. You may not upload viruses or malicious code, use the services to send spam, or\\ndo anything else that could disable, overburden, interfere with, or impair the prop‐\\ner working, integrity, operation, or appearance of our services, systems, or\\nProducts.\\n3. You may not access or collect data from our Products using automated means\"),\n",
       " Document(metadata={'title': 'Meta Terms of Service', 'source': '../data/Meta Terms of Service.pdf', 'total_pages': 12, 'page': 6, 'page_label': '6'}, page_content='er working, integrity, operation, or appearance of our services, systems, or\\nProducts.\\n3. You may not access or collect data from our Products using automated means\\n(without our prior permission) or attempt to access data you do not have permis‐\\nsion to access, regardless of whether such automated access or collection is un‐\\ndertaken while logged-in to a Facebook account.\\n4. You may not proxy, request, or collect Product usernames or passwords, or mis‐\\nappropriate access tokens.\\n5. Except as provided in the Platform Terms, you may not sell, license, or purchase\\nany data obtained from us or our services, regardless of whether such data was\\nobtained while logged-in to a Facebook account.\\n6. You may not misuse any reporting, ﬂagging, dispute, or appeals channel, such as\\nby making fraudulent, duplicative, or groundless reports or appeals.\\n7. You may not do, or attempt to do, anything to circumvent, bypass, or override any'),\n",
       " Document(metadata={'title': 'Meta Terms of Service', 'source': '../data/Meta Terms of Service.pdf', 'total_pages': 12, 'page': 6, 'page_label': '6'}, page_content='by making fraudulent, duplicative, or groundless reports or appeals.\\n7. You may not do, or attempt to do, anything to circumvent, bypass, or override any\\ntechnological measures that Meta uses to control or limit access to our Products\\nor data.\\nWe can remove or restrict access to content that is in violation of these provisions.\\nWe can also suspend or disable your account for conduct that violates these provi‐\\nsions, as provided in Section 4.2.\\nIf we remove content that you have shared in violation of the Community Standards,\\nwe’ll let you know and explain any options you have to request another review, un‐\\nless you seriously or repeatedly violate these Terms or if doing so may expose us or\\nothers to legal liability; harm our community of users; compromise or interfere with\\nthe integrity or operation of any of our services, systems or Products; where we are\\nrestricted due to technical limitations; or where we are prohibited from doing so for'),\n",
       " Document(metadata={'title': 'Meta Terms of Service', 'source': '../data/Meta Terms of Service.pdf', 'total_pages': 12, 'page': 6, 'page_label': '6'}, page_content='the integrity or operation of any of our services, systems or Products; where we are\\nrestricted due to technical limitations; or where we are prohibited from doing so for\\nlegal reasons. For information on account suspension or termination, see Section\\n4.2 below.\\nWe work with independent fact-checkers in many jurisdictions to combat misinfor‐\\nmation. When content has been rated by fact-checkers, we may add a notice to pro‐'),\n",
       " Document(metadata={'title': 'Meta Terms of Service', 'source': '../data/Meta Terms of Service.pdf', 'total_pages': 12, 'page': 7, 'page_label': '7'}, page_content='vide additional context. You can ﬁnd more information about fact-checking here.\\nTo help support our community, we encourage you to report content or conduct that\\nyou believe violates your rights (including intellectual property rights) or our terms\\nand policies, if this feature exists in your jurisdiction. We also can remove or restrict\\naccess to content, features, services, or information if we determine that doing so is\\nreasonably necessary to avoid or mitigate misuse of our services or adverse legal or\\nregulatory impacts to Meta.\\n3.3 The permissions you give us\\nWe need certain permissions from you to provide our services:\\n1. Your content: Some content that you share or upload, such as photos or videos,\\nmay be protected by intellectual property laws.\\nYou retain ownership of the intellectual property rights (things like copyright or trade‐\\nmarks) in any such content that you create and share on Facebook and other Meta'),\n",
       " Document(metadata={'title': 'Meta Terms of Service', 'source': '../data/Meta Terms of Service.pdf', 'total_pages': 12, 'page': 7, 'page_label': '7'}, page_content='You retain ownership of the intellectual property rights (things like copyright or trade‐\\nmarks) in any such content that you create and share on Facebook and other Meta\\nCompany Products you use. Nothing in these Terms takes away the rights you have\\nto your own content. You are free to share your content with anyone else, wherever\\nyou want.\\nHowever, to provide our services we need you to give us some legal permissions\\n(known as a \"license\") to use this content. This is solely for the purposes of provid‐\\ning and improving our Products and services as described in Section 1 above.\\n2. Permission to use content you create and share: Speciﬁcally, when you share,\\npost, or upload content that is covered by intellectual property rights on or in con‐\\nnection with our Products, you grant us a non-exclusive, transferable, sub-licens‐\\nable, royalty-free, and worldwide license to host, use, distribute, modify, run, copy,'),\n",
       " Document(metadata={'title': 'Meta Terms of Service', 'source': '../data/Meta Terms of Service.pdf', 'total_pages': 12, 'page': 7, 'page_label': '7'}, page_content='nection with our Products, you grant us a non-exclusive, transferable, sub-licens‐\\nable, royalty-free, and worldwide license to host, use, distribute, modify, run, copy,\\npublicly perform or display, translate, and create derivative works of your content\\n(consistent with your privacy and application settings). This means, for example, that\\nif you share a photo on Facebook, you give us permission to store, copy, and share\\nit with others (again, consistent with your settings) such as Meta Products or service\\nproviders that support those products and services. This license will end when your\\ncontent is deleted from our systems.\\n3. Deleting Your Content: You can delete individual content you share, post, and\\nupload at any time. In addition, all content posted to your personal account will be\\ndeleted if you delete your account. Learn more about how to delete your account.\\nAccount deletion does not automatically delete content that you post as an admin of'),\n",
       " Document(metadata={'title': 'Meta Terms of Service', 'source': '../data/Meta Terms of Service.pdf', 'total_pages': 12, 'page': 7, 'page_label': '7'}, page_content='deleted if you delete your account. Learn more about how to delete your account.\\nAccount deletion does not automatically delete content that you post as an admin of\\na page or content that you create collectively with other users, such as photos in\\nShared Albums which may continue to be visible to other album members.\\nIt may take up to 90 days to delete content after we begin the account deletion\\nprocess or receive a content deletion request. If you send content to trash, the dele‐\\ntion process will automatically begin in 30 days unless you chose to delete the con‐\\ntent sooner. While the deletion process for such content is being undertaken, the\\ncontent is no longer visible to other users. After the content is deleted, it may take us\\nup to another 90 days to remove it from backups and disaster recovery systems.'),\n",
       " Document(metadata={'title': 'Meta Terms of Service', 'source': '../data/Meta Terms of Service.pdf', 'total_pages': 12, 'page': 8, 'page_label': '8'}, page_content='Content will not be deleted within 90 days of the account deletion or content deletion\\nprocess beginning in the following situations:\\nwhere your content has been used by others in accordance with this license and\\nthey have not deleted it (in which case this license will continue to apply until that\\ncontent is deleted);\\nwhere deletion within 90 days is not possible due to technical limitations of our\\nsystems, in which case, we will complete the deletion as soon as technically fea‐\\nsible; or\\nwhere immediate deletion would restrict our ability to:\\ninvestigate or identify illegal activity or violations of our terms and policies (for\\nexample, to identify or investigate misuse of our Products or systems);\\nprotect the safety, integrity, and security of our Products, systems, services, our\\nemployees, and users, and to defend ourselves;\\ncomply with legal obligations for the preservation of evidence, including data\\nMeta Companies providing ﬁnancial products and services preserve to comply'),\n",
       " Document(metadata={'title': 'Meta Terms of Service', 'source': '../data/Meta Terms of Service.pdf', 'total_pages': 12, 'page': 8, 'page_label': '8'}, page_content='comply with legal obligations for the preservation of evidence, including data\\nMeta Companies providing ﬁnancial products and services preserve to comply\\nwith any record keeping obligations required by law; or\\ncomply with a request of a judicial or administrative authority, law enforcement\\nor a government agency;\\nin which case, the content will be retained for no longer than is necessary for the\\npurposes for which it has been retained (the exact duration will vary on a case-by-\\ncase basis).\\nIn each of the above cases, this license will continue until the content has been fully\\ndeleted.\\n4. Permission to use your name, proﬁle picture, and information about your\\nactions with ads and sponsored or commercial content: You give us permission\\nto use your name and proﬁle picture and information about actions you have taken\\non Facebook next to or in connection with ads, offers, and other sponsored or com‐\\nmercial content that we display across our Products, without any compensation to'),\n",
       " Document(metadata={'title': 'Meta Terms of Service', 'source': '../data/Meta Terms of Service.pdf', 'total_pages': 12, 'page': 8, 'page_label': '8'}, page_content=\"on Facebook next to or in connection with ads, offers, and other sponsored or com‐\\nmercial content that we display across our Products, without any compensation to\\nyou. For example, we may show your friends that you are interested in an adver‐\\ntised event or have liked a Facebook Page created by a brand that has paid us to\\ndisplay its ads on Facebook. Ads and content like this can be seen only by people\\nwho have your permission to see the actions you've taken on Meta Products. You\\ncan learn more about your ad settings and preferences.\\n5. Permission to update software you use or download: If you download or use\\nour software, you give us permission to download and install updates to the soft‐\\nware where available.\\n3.4 Limits on using our intellectual property\\nIf you use content covered by intellectual property rights that we have and make\\navailable in our Products (for example, images, designs, videos, or sounds we pro‐\"),\n",
       " Document(metadata={'title': 'Meta Terms of Service', 'source': '../data/Meta Terms of Service.pdf', 'total_pages': 12, 'page': 8, 'page_label': '8'}, page_content='If you use content covered by intellectual property rights that we have and make\\navailable in our Products (for example, images, designs, videos, or sounds we pro‐\\nvide that you add to content you create or share on Facebook), we retain all rights to'),\n",
       " Document(metadata={'title': 'Meta Terms of Service', 'source': '../data/Meta Terms of Service.pdf', 'total_pages': 12, 'page': 9, 'page_label': '9'}, page_content='that content (but not yours). You can only use our copyrights or trademarks (or any\\nsimilar marks) as expressly permitted by our Brand Usage Guidelines or with our\\nprior written permission. You must obtain our written permission (or permission un‐\\nder an open source license) to modify, translate, create derivative works of, decom‐\\npile, or reverse engineer our products or their components, or otherwise attempt to\\nextract source code from us, unless an exception or limitation applies under applica‐\\nble law or your conduct relates to the Meta Bug Bounty Program. We reserve all\\nrights not expressly granted to you.\\n4. Additional provisions\\n4.1 Updating our Terms\\nWe work constantly to improve our services and develop new features to make our\\nProducts better for you and our community. As a result, we may need to update\\nthese Terms from time to time to accurately reﬂect our services and practices, to\\npromote a safe and secure experience on our Products and services, and/or to com‐'),\n",
       " Document(metadata={'title': 'Meta Terms of Service', 'source': '../data/Meta Terms of Service.pdf', 'total_pages': 12, 'page': 9, 'page_label': '9'}, page_content='these Terms from time to time to accurately reﬂect our services and practices, to\\npromote a safe and secure experience on our Products and services, and/or to com‐\\nply with applicable law. We will only make any changes if the provisions are no\\nlonger appropriate or if they are incomplete, and only if the changes are reasonable\\nand take due account of your interests or if the changes are required for safety and\\nsecurity purposes or to comply with applicable law.\\nWe will notify you (for example, by email or through our Products) at least 30 days\\nbefore we make changes to these Terms and give you an opportunity to review\\nthem before they go into effect, unless changes are required by law. Once any up‐\\ndated Terms are in effect, you will be bound by them if you continue to access or\\nuse our Products.\\nWe hope that you will continue using our Products, but if you do not agree to our up‐\\ndated Terms, or wish to terminate your agreement to this contract, you can delete'),\n",
       " Document(metadata={'title': 'Meta Terms of Service', 'source': '../data/Meta Terms of Service.pdf', 'total_pages': 12, 'page': 9, 'page_label': '9'}, page_content='use our Products.\\nWe hope that you will continue using our Products, but if you do not agree to our up‐\\ndated Terms, or wish to terminate your agreement to this contract, you can delete\\nyour account at any time and you must also stop accessing, or using Facebook and\\nthe other Meta Products.\\n4.2 Account suspension or termination\\nWe want Facebook to be a place where people feel welcome and safe to express\\nthemselves and share their thoughts and ideas.\\nIf we determine, in our discretion, that you have clearly, seriously or repeatedly\\nbreached our Terms or Policies, including in particular the Community Standards,\\nwe may suspend or permanently disable your access to Meta Company Products,\\nand we may permanently disable or delete your account. We may also disable or\\ndelete your account if you repeatedly infringe other people’s intellectual property\\nrights or where we are required to do so for legal reasons.'),\n",
       " Document(metadata={'title': 'Meta Terms of Service', 'source': '../data/Meta Terms of Service.pdf', 'total_pages': 12, 'page': 9, 'page_label': '9'}, page_content='delete your account if you repeatedly infringe other people’s intellectual property\\nrights or where we are required to do so for legal reasons.\\nWe may disable or delete your account if after registration your account is not con‐\\nﬁrmed, your account is unused and remains inactive for an extended period of time,\\nor if we detect someone may have used it without your permission and we are un‐\\nable to conﬁrm your ownership of the account. Learn more about how we disable\\nand delete accounts.'),\n",
       " Document(metadata={'title': 'Meta Terms of Service', 'source': '../data/Meta Terms of Service.pdf', 'total_pages': 12, 'page': 10, 'page_label': '10'}, page_content='Where we take such action we’ll let you know and explain any options you have to\\nrequest a review, unless doing so may expose us or others to legal liability; harm\\nour community of users; compromise or interfere with the integrity or operation of\\nany of our services, systems or Products; where we are restricted due to technical\\nlimitations; or where we are prohibited from doing so for legal reasons.\\nYou can learn more about what you can do if your account has been disabled and\\nhow to contact us if you think we have disabled your account by mistake.\\nIf you delete or we disable or delete your account, and you stop accessing, using, or\\nvisiting Facebook and the other Meta Products, or if this contract is otherwise termi‐\\nnated, then these Terms shall terminate as an agreement between you and us, ex‐\\ncept for the following provisions, which will remain in place: (3, 4.2-4.5).\\n4.3 Limits on liability\\nWe work hard to provide the best Products we can and to specify clear guidelines'),\n",
       " Document(metadata={'title': 'Meta Terms of Service', 'source': '../data/Meta Terms of Service.pdf', 'total_pages': 12, 'page': 10, 'page_label': '10'}, page_content='cept for the following provisions, which will remain in place: (3, 4.2-4.5).\\n4.3 Limits on liability\\nWe work hard to provide the best Products we can and to specify clear guidelines\\nfor everyone who uses them. Our Products, however, are provided \"as is,\" and to\\nthe extent permissible by law, we make no guarantees that they always will be safe,\\nsecure, or error-free, or that they will function without disruptions, delays, or imper‐\\nfections. To the extent permitted by law, we also DISCLAIM ALL WARRANTIES,\\nWHETHER EXPRESS OR IMPLIED, INCLUDING THE IMPLIED WARRANTIES OF\\nMERCHANTABILITY, FITNESS FOR A PARTICULAR PURPOSE, TITLE, AND\\nNON-INFRINGEMENT. We do not control or direct what people and others do or\\nsay, and we are not responsible for their actions or conduct (whether online or off‐\\nline) or any content they share (including offensive, inappropriate, obscene, unlaw‐\\nful, and other objectionable content).'),\n",
       " Document(metadata={'title': 'Meta Terms of Service', 'source': '../data/Meta Terms of Service.pdf', 'total_pages': 12, 'page': 10, 'page_label': '10'}, page_content=\"line) or any content they share (including offensive, inappropriate, obscene, unlaw‐\\nful, and other objectionable content).\\nWe cannot predict when issues might arise with our Products. Accordingly, our liabil‐\\nity shall be limited to the fullest extent permitted by applicable law. To the fullest ex‐\\ntent permitted by applicable law under no circumstance will we be liable to you for\\nany lost proﬁts, revenues, information, or data, or consequential, special, indirect,\\nexemplary, punitive, or incidental damages arising out of or related to these Terms\\nor the Meta Products (however caused and on any theory of liability, including negli‐\\ngence), even if we have been advised of the possibility of such damages.\\n4.4 Disputes\\nWe try to provide clear rules so that we can limit or hopefully avoid disputes be‐\\ntween you and us. If a dispute does arise, however, it's useful to know up front\\nwhere it can be resolved and what laws will apply.\"),\n",
       " Document(metadata={'title': 'Meta Terms of Service', 'source': '../data/Meta Terms of Service.pdf', 'total_pages': 12, 'page': 10, 'page_label': '10'}, page_content=\"tween you and us. If a dispute does arise, however, it's useful to know up front\\nwhere it can be resolved and what laws will apply.\\nIf you are a consumer, or where required by applicable law, the laws of the country\\nin which you reside will apply to any claim, cause of action, or dispute you have\\nagainst us that arises out of or relates to these Terms or the Meta Products, and you\\nmay resolve your claim in any competent court in that country that has jurisdiction\\nover the claim. In all other cases, and for any claim, cause of action, or dispute that\\nMeta ﬁles against you, you and Meta agree that any such claim, cause of action or\\ndispute must be resolved exclusively in the U.S. District Court for the Northern\\nDistrict of California or a state court located in San Mateo County. You also agree\\nthat you submit to the personal jurisdiction of either of these courts for the purpose\"),\n",
       " Document(metadata={'title': 'Meta Terms of Service', 'source': '../data/Meta Terms of Service.pdf', 'total_pages': 12, 'page': 11, 'page_label': '11'}, page_content='of litigating any such claim, and that the laws of the State of California will govern\\nthese Terms and any claim, cause of action, or dispute without regard to conﬂict of\\nlaw provisions. Without prejudice to the foregoing, you agree that, in its sole discre‐\\ntion, Meta may bring any claim, cause of action, or dispute we have against you in\\nany competent court in the country in which you reside that has jurisdiction over the\\nclaim.\\n4.5 Miscellaneous\\n1. Supplemental Terms: Some of the Products we offer are also governed by sup‐\\nplemental terms. If you use any of those Products, supplemental terms will be\\nmade available and will become part of our agreement with you. For instance, if\\nyou access or use our Products for commercial or business purposes, such as\\nbuying ads, selling products, developing apps, managing a group or Page for\\nyour business, or using our measurement services, you must agree to our\\nCommercial Terms. If you post or share content containing music, you must com‐'),\n",
       " Document(metadata={'title': 'Meta Terms of Service', 'source': '../data/Meta Terms of Service.pdf', 'total_pages': 12, 'page': 11, 'page_label': '11'}, page_content='your business, or using our measurement services, you must agree to our\\nCommercial Terms. If you post or share content containing music, you must com‐\\nply with our Music Guidelines. If you use Avatars, then the Avatar Terms also ap‐\\nply. If you use our AI products and features, the Meta AI Terms also apply. To the\\nextent any supplemental terms conﬂict with these Terms, the supplemental terms\\nshall govern to the extent of the conﬂict.\\n2. Severability: If any portion of these Terms is found to be unenforceable, the un‐\\nenforceable portion will be deemed amended to the minimum extent necessary to\\nmake it enforceable, and if it can’t be made enforceable, then it will be severed\\nand the remaining portion will remain in full force and effect. If we fail to enforce\\nany of these Terms, it will not be considered a waiver. Any amendment to or waiv‐\\ner of these Terms must be made in writing and signed by us.\\n3. No Transfer: You will not transfer any of your rights or obligations under these'),\n",
       " Document(metadata={'title': 'Meta Terms of Service', 'source': '../data/Meta Terms of Service.pdf', 'total_pages': 12, 'page': 11, 'page_label': '11'}, page_content='er of these Terms must be made in writing and signed by us.\\n3. No Transfer: You will not transfer any of your rights or obligations under these\\nTerms to anyone else without our consent.\\n4. Legacy Contact: You may designate a person (called a legacy contact) to man‐\\nage your account if it is memorialized. If you enable it in your settings, only your\\nlegacy contact or a person who you have identiﬁed in a valid will or similar legal\\ndocument expressing clear consent to disclose your content to that person upon\\ndeath or incapacity will be able to seek limited disclosure of information from your\\naccount after it is memorialized.\\n5. No Third-party Beneﬁciaries Terms: These Terms do not confer any third-party\\nbeneﬁciary rights. All of our rights and obligations under these Terms are freely\\nassignable by us in connection with a merger, acquisition, or sale of assets, or by\\noperation of law or otherwise.\\n6. User Name Change: We may change the username for your account in certain'),\n",
       " Document(metadata={'title': 'Meta Terms of Service', 'source': '../data/Meta Terms of Service.pdf', 'total_pages': 12, 'page': 11, 'page_label': '11'}, page_content='assignable by us in connection with a merger, acquisition, or sale of assets, or by\\noperation of law or otherwise.\\n6. User Name Change: We may change the username for your account in certain\\ncircumstances (for example, if someone else claims the username and it appears\\nunrelated to the name you use in everyday life).\\n7. Feedback: We always appreciate your feedback and other suggestions about our\\nproducts and services. But we may use feedback and other suggestions without\\nany restriction or obligation to compensate you, and we are under no obligation to\\nkeep them conﬁdential.'),\n",
       " Document(metadata={'title': 'Meta Terms of Service', 'source': '../data/Meta Terms of Service.pdf', 'total_pages': 12, 'page': 12, 'page_label': '12'}, page_content='5. Other terms and policies that may apply to you\\nCommunity Standards: These guidelines outline our standards regarding the con‐\\ntent you post to Facebook and your activity on Facebook and other Meta\\nProducts.\\nCommercial Terms: These terms apply if you also access or use our Products for\\nany commercial or business purpose, including advertising, operating an app on\\nour Platform, using our measurement services, managing a group or a Page for a\\nbusiness, or selling goods or services.\\nCommunity Payment Terms: These terms apply to payments made on or through\\nMeta Products.\\nCommerce Policies: These guidelines outline the policies that apply when you of‐\\nfer products or services for sale on Facebook, Instagram, and WhatsApp.\\nMusic Guidelines: These guidelines outline the policies that apply if you post or\\nshare content containing music on any Meta Products.\\nAdvertising Policies: These policies apply to partners who advertise across the'),\n",
       " Document(metadata={'title': 'Meta Terms of Service', 'source': '../data/Meta Terms of Service.pdf', 'total_pages': 12, 'page': 12, 'page_label': '12'}, page_content='share content containing music on any Meta Products.\\nAdvertising Policies: These policies apply to partners who advertise across the\\nMeta Products and specify what types of ad content are allowed by partners who\\nadvertise across the Meta Products.\\nSelf-Serve Ad Terms: These terms apply when you use self-serve advertising in‐\\nterfaces to create, submit, or deliver advertising or other commercial or spon‐\\nsored activity or content.\\nFacebook Pages, Groups and Events Policy: These guidelines apply if you create\\nor administer a Facebook Page, group, or event, or if you use Facebook to com‐\\nmunicate or administer a promotion.\\nMeta Platform Policy: These terms apply to the use of the set of APIs, SDKs,\\ntools, plugins, code, technology, content, and services that enables others to de‐\\nvelop functionality, retrieve data from MetaProducts, or provide data to us.\\nDeveloper Payment Terms: These terms apply to developers of applications that\\nuse Facebook Payments.'),\n",
       " Document(metadata={'title': 'Meta Terms of Service', 'source': '../data/Meta Terms of Service.pdf', 'total_pages': 12, 'page': 12, 'page_label': '12'}, page_content='velop functionality, retrieve data from MetaProducts, or provide data to us.\\nDeveloper Payment Terms: These terms apply to developers of applications that\\nuse Facebook Payments.\\nMeta Brand Resources: These guidelines outline the policies that apply to use of\\nMeta trademarks, logos, and screenshots.\\nRecommendations Guidelines: The Facebook Recommendations Guidelines and\\nInstagram Recommendations Guidelines outline our standards for recommending\\nand not recommending content.\\nLive Policies: These policies apply to all content broadcast to Facebook Live.\\nAvatar Terms: These terms apply to the use of our Avatars and our Avatar fea‐\\ntures, including purchases and acquisitions of Avatar clothing in the Avatar store.\\nMeta AI Terms: These terms govern use of our Generative AI products and\\nfeatures.')]"
      ]
     },
     "execution_count": 6,
     "metadata": {},
     "output_type": "execute_result"
    }
   ],
   "source": [
    "doc_splits"
   ]
  },
  {
   "cell_type": "markdown",
   "id": "2ce05a92",
   "metadata": {},
   "source": [
    "### Embed and Store Documents"
   ]
  },
  {
   "cell_type": "code",
   "execution_count": 7,
   "id": "76d6cc82",
   "metadata": {},
   "outputs": [
    {
     "name": "stderr",
     "output_type": "stream",
     "text": [
      "2025-07-04 02:31:27,863 - INFO - Using OpenAI model: gpt-4.1\n",
      "2025-07-04 02:31:27,863 - INFO - Using OpenAI embedding model: text-embedding-3-small\n"
     ]
    }
   ],
   "source": [
    "import chromadb\n",
    "from examples.config import embedding_model\n",
    "from langchain_chroma import Chroma\n",
    "\n",
    "vector_store_directory = \"../vector_store/\"\n",
    "\n",
    "vector_store_client = chromadb.PersistentClient(\n",
    "    path=vector_store_directory,\n",
    "    settings=chromadb.config.Settings(anonymized_telemetry=False)\n",
    ")\n",
    "\n",
    "vector_store = Chroma(\n",
    "    client=vector_store_client,\n",
    "    collection_name=\"meta_terms_of_service\",\n",
    "    collection_metadata={\"num_files\": len(file_names), \"file_names\": \", \".join(file_names)},\n",
    "    embedding_function=embedding_model,\n",
    ")"
   ]
  },
  {
   "cell_type": "code",
   "execution_count": 8,
   "id": "48a0a19a",
   "metadata": {},
   "outputs": [
    {
     "name": "stderr",
     "output_type": "stream",
     "text": [
      "2025-07-04 02:31:30,526 - INFO - HTTP Request: POST https://openai.prod.ai-gateway.quantumblack.com/34ca3d88-8504-44c0-a9bc-cc9eb3ab18de/v1/embeddings \"HTTP/1.1 200 OK\"\n"
     ]
    }
   ],
   "source": [
    "# Index chunks\n",
    "chunk_indexes = vector_store.add_documents(documents=doc_splits)"
   ]
  },
  {
   "cell_type": "markdown",
   "id": "ee0d1daa",
   "metadata": {},
   "source": [
    "## 2. Retrieval and generation\n",
    "1. Retrieve: Given a user input, relevant splits are retrieved from storage using a [Retriever](https://python.langchain.com/docs/concepts/retrievers/).\n",
    "2. Generate: A ChatModel / LLM produces an answer using a prompt that includes both the question with the retrieved data\n",
    "\n",
    "![retrieval-and-generation](https://python.langchain.com/assets/images/rag_retrieval_generation-1046a4668d6bb08786ef73c56d4f228a.png)\n",
    "\n",
    "To do this, we will use the ReAct agent associated with a RAG tool."
   ]
  },
  {
   "cell_type": "code",
   "execution_count": 9,
   "id": "a048572e",
   "metadata": {},
   "outputs": [
    {
     "data": {
      "text/plain": [
       "{'num_files': 1, 'file_names': 'Meta Terms of Service.pdf'}"
      ]
     },
     "execution_count": 9,
     "metadata": {},
     "output_type": "execute_result"
    }
   ],
   "source": [
    "vector_store._collection_metadata"
   ]
  },
  {
   "cell_type": "code",
   "execution_count": 10,
   "id": "942a120b",
   "metadata": {},
   "outputs": [],
   "source": [
    "from langchain_core.tools import tool\n",
    "from textwrap import dedent\n",
    "\n",
    "retrieval_tool_description = f\"\"\"\\\n",
    "Search and retrieve information from documents to answer a user query.\n",
    "You have access to the following {vector_store._collection_metadata[\"num_files\"]} document(s):\n",
    "{vector_store._collection_metadata[\"file_names\"]}\n",
    "\"\"\"\n",
    "\n",
    "@tool(response_format=\"content_and_artifact\", description=retrieval_tool_description)\n",
    "def retrieve(query: str):\n",
    "    # retrieve documents from the vector store with max marginal relevance\n",
    "    retrieved_chunks = vector_store.max_marginal_relevance_search(query, k=3)\n",
    "    # format the retrieved chunks into a single string\n",
    "    context = \"\\n\\n\".join(\n",
    "        (\n",
    "            f\"## {i}. Retrieved Document Chunk\\n\\n\"\n",
    "            f\"### Chunk Metadata:\\n{doc.metadata}\\n\\n\"\n",
    "            f\"### Chunk Content:\\n{doc.page_content}\"\n",
    "        ) for i, doc in enumerate(retrieved_chunks, start=1)\n",
    "    )\n",
    "    # build message with the context to be used by the LLM\n",
    "    context_message = dedent(\n",
    "        \"\"\"\\\n",
    "        Use the following pieces of context retrieved from the documents to answer the question.\n",
    "        If you don't have enough information to answer the question, say that you can't answer it.\n",
    "\n",
    "        # Context\n",
    "\n",
    "        {context}\n",
    "        \"\"\"\n",
    "    ).format(context=context)\n",
    "    \n",
    "    return context_message, retrieved_chunks"
   ]
  },
  {
   "cell_type": "code",
   "execution_count": 11,
   "id": "a1d39a0a",
   "metadata": {},
   "outputs": [],
   "source": [
    "from examples.agents.react.agent import ReActAgent\n",
    "from examples.config import llm\n",
    "\n",
    "react_rag_agent = ReActAgent(\n",
    "    llm=llm,\n",
    "    tools=[retrieve],\n",
    "    system_prompt=\"You are a helpful assistant for question-answering tasks.\",\n",
    ")"
   ]
  },
  {
   "cell_type": "markdown",
   "id": "98c6673f",
   "metadata": {},
   "source": [
    "### Run ReAct Agent with RAG tool"
   ]
  },
  {
   "cell_type": "code",
   "execution_count": 14,
   "id": "8a75098f",
   "metadata": {},
   "outputs": [
    {
     "name": "stderr",
     "output_type": "stream",
     "text": [
      "2025-07-04 02:32:05,066 - INFO - HTTP Request: POST https://openai.prod.ai-gateway.quantumblack.com/34ca3d88-8504-44c0-a9bc-cc9eb3ab18de/v1/chat/completions \"HTTP/1.1 200 OK\"\n",
      "2025-07-04 02:32:05,697 - INFO - HTTP Request: POST https://openai.prod.ai-gateway.quantumblack.com/34ca3d88-8504-44c0-a9bc-cc9eb3ab18de/v1/embeddings \"HTTP/1.1 200 OK\"\n",
      "2025-07-04 02:32:09,774 - INFO - HTTP Request: POST https://openai.prod.ai-gateway.quantumblack.com/34ca3d88-8504-44c0-a9bc-cc9eb3ab18de/v1/chat/completions \"HTTP/1.1 200 OK\"\n"
     ]
    }
   ],
   "source": [
    "from langchain_core.messages import HumanMessage, ToolMessage\n",
    "\n",
    "# Define the input\n",
    "messages = [\n",
    "    HumanMessage(content=\"What can Meta do with my personal data?\"),\n",
    "]\n",
    "\n",
    "# Run the graph\n",
    "react_output = react_rag_agent.run(input={\"messages\": messages})"
   ]
  },
  {
   "cell_type": "code",
   "execution_count": 15,
   "id": "f88c8fec",
   "metadata": {},
   "outputs": [
    {
     "name": "stdout",
     "output_type": "stream",
     "text": [
      "================================\u001b[1m Human Message \u001b[0m=================================\n",
      "\n",
      "What can Meta do with my personal data?\n",
      "==================================\u001b[1m Ai Message \u001b[0m==================================\n",
      "Tool Calls:\n",
      "  retrieve (call_tXeZqQAv2kANQ3maEIyha60x)\n",
      " Call ID: call_tXeZqQAv2kANQ3maEIyha60x\n",
      "  Args:\n",
      "    query: What can Meta do with my personal data?\n",
      "=================================\u001b[1m Tool Message \u001b[0m=================================\n",
      "Name: retrieve\n",
      "\n",
      "Use the following pieces of context retrieved from the documents to answer the question.\n",
      "If you don't have enough information to answer the question, say that you can't answer it.\n",
      "\n",
      "# Context\n",
      "\n",
      "## 1. Retrieved Document Chunk\n",
      "\n",
      "### Chunk Metadata:\n",
      "{'page': 3, 'page_label': '3', 'total_pages': 12, 'source': '../data/Meta Terms of Service.pdf', 'title': 'Meta Terms of Service'}\n",
      "\n",
      "### Chunk Content:\n",
      "entities and develop advanced technical systems to detect potential misuse of our\n",
      "Products, harmful conduct towards others, and situations where we may be able to\n",
      "help support or protect our community, including to respond to user reports of poten‐\n",
      "tially violating content. If we learn of content or conduct like this, we may take appro‐\n",
      "priate action based on our assessment that may include - notifying you, offering\n",
      "help, removing content, removing or restricting access to certain features, disabling\n",
      "an account, or contacting law enforcement. We share data across Meta Companies\n",
      "when we detect misuse or harmful conduct by someone using one of our Products\n",
      "or to help keep Meta Products, users and the community safe. For example, we\n",
      "share information with Meta Companies that provide ﬁnancial products and services\n",
      "to help them promote safety, security and integrity and comply with applicable law.\n",
      "Meta may access, preserve, use and share any information it collects about you\n",
      "\n",
      "## 2. Retrieved Document Chunk\n",
      "\n",
      "### Chunk Metadata:\n",
      "{'total_pages': 12, 'title': 'Meta Terms of Service', 'page_label': '4', 'page': 4, 'source': '../data/Meta Terms of Service.pdf'}\n",
      "\n",
      "### Chunk Content:\n",
      "personalized ads and other commercial and sponsored content that businesses and\n",
      "organizations pay us to promote on and off Meta Company Products. We use your\n",
      "personal data, such as information about your activity and interests, to show you\n",
      "personalized ads and sponsored content that may be more relevant to you.\n",
      "Protecting people's privacy is central to how we've designed our personalized ads\n",
      "system. This means that we can show you relevant and useful ads without telling\n",
      "advertisers who you are. We don't sell your personal data. We allow advertisers to\n",
      "tell us things like their business goal, and the kind of audience they want to see their\n",
      "ads (for example, people between the age of 18-35 who like cycling). We then show\n",
      "their ad to people who we think might be interested.\n",
      "We also provide advertisers with reports about the performance of their ads to help\n",
      "them understand how people are interacting with their content on and off Meta\n",
      "\n",
      "## 3. Retrieved Document Chunk\n",
      "\n",
      "### Chunk Metadata:\n",
      "{'source': '../data/Meta Terms of Service.pdf', 'page_label': '12', 'total_pages': 12, 'title': 'Meta Terms of Service', 'page': 12}\n",
      "\n",
      "### Chunk Content:\n",
      "velop functionality, retrieve data from MetaProducts, or provide data to us.\n",
      "Developer Payment Terms: These terms apply to developers of applications that\n",
      "use Facebook Payments.\n",
      "Meta Brand Resources: These guidelines outline the policies that apply to use of\n",
      "Meta trademarks, logos, and screenshots.\n",
      "Recommendations Guidelines: The Facebook Recommendations Guidelines and\n",
      "Instagram Recommendations Guidelines outline our standards for recommending\n",
      "and not recommending content.\n",
      "Live Policies: These policies apply to all content broadcast to Facebook Live.\n",
      "Avatar Terms: These terms apply to the use of our Avatars and our Avatar fea‐\n",
      "tures, including purchases and acquisitions of Avatar clothing in the Avatar store.\n",
      "Meta AI Terms: These terms govern use of our Generative AI products and\n",
      "features.\n",
      "\n",
      "\n",
      " --> Tool artifact: [Document(id='5f9277bd-9204-44e1-bd1d-3484a9b920ac', metadata={'page': 3, 'page_label': '3', 'total_pages': 12, 'source': '../data/Meta Terms of Service.pdf', 'title': 'Meta Terms of Service'}, page_content='entities and develop advanced technical systems to detect potential misuse of our\\nProducts, harmful conduct towards others, and situations where we may be able to\\nhelp support or protect our community, including to respond to user reports of poten‐\\ntially violating content. If we learn of content or conduct like this, we may take appro‐\\npriate action based on our assessment that may include - notifying you, offering\\nhelp, removing content, removing or restricting access to certain features, disabling\\nan account, or contacting law enforcement. We share data across Meta Companies\\nwhen we detect misuse or harmful conduct by someone using one of our Products\\nor to help keep Meta Products, users and the community safe. For example, we\\nshare information with Meta Companies that provide ﬁnancial products and services\\nto help them promote safety, security and integrity and comply with applicable law.\\nMeta may access, preserve, use and share any information it collects about you'), Document(id='b2503385-0e7e-4f0f-83de-f0cc984e80b4', metadata={'total_pages': 12, 'title': 'Meta Terms of Service', 'page_label': '4', 'page': 4, 'source': '../data/Meta Terms of Service.pdf'}, page_content=\"personalized ads and other commercial and sponsored content that businesses and\\norganizations pay us to promote on and off Meta Company Products. We use your\\npersonal data, such as information about your activity and interests, to show you\\npersonalized ads and sponsored content that may be more relevant to you.\\nProtecting people's privacy is central to how we've designed our personalized ads\\nsystem. This means that we can show you relevant and useful ads without telling\\nadvertisers who you are. We don't sell your personal data. We allow advertisers to\\ntell us things like their business goal, and the kind of audience they want to see their\\nads (for example, people between the age of 18-35 who like cycling). We then show\\ntheir ad to people who we think might be interested.\\nWe also provide advertisers with reports about the performance of their ads to help\\nthem understand how people are interacting with their content on and off Meta\"), Document(id='dd08da1f-34a8-4741-a3cb-2cb7dae660c4', metadata={'source': '../data/Meta Terms of Service.pdf', 'page_label': '12', 'total_pages': 12, 'title': 'Meta Terms of Service', 'page': 12}, page_content='velop functionality, retrieve data from MetaProducts, or provide data to us.\\nDeveloper Payment Terms: These terms apply to developers of applications that\\nuse Facebook Payments.\\nMeta Brand Resources: These guidelines outline the policies that apply to use of\\nMeta trademarks, logos, and screenshots.\\nRecommendations Guidelines: The Facebook Recommendations Guidelines and\\nInstagram Recommendations Guidelines outline our standards for recommending\\nand not recommending content.\\nLive Policies: These policies apply to all content broadcast to Facebook Live.\\nAvatar Terms: These terms apply to the use of our Avatars and our Avatar fea‐\\ntures, including purchases and acquisitions of Avatar clothing in the Avatar store.\\nMeta AI Terms: These terms govern use of our Generative AI products and\\nfeatures.')] (type: <class 'list'>)\n",
      "==================================\u001b[1m Ai Message \u001b[0m==================================\n",
      "\n",
      "Based on Meta’s Terms of Service, here’s what Meta can do with your personal data:\n",
      "\n",
      "1. Provide Personalized Ads: Meta uses your personal data (such as your activity and interests) to show you personalized ads and sponsored content that are more relevant to you. Advertisers do not receive your personal information directly; Meta determines which ads you see based on your profile and activity.\n",
      "\n",
      "2. Maintain Safety and Security: Meta may access, preserve, use, and share your information to detect misuse, address harmful conduct, and help protect the community. This can include removing content, restricting access, disabling accounts, or involving law enforcement in response to violations or threats.\n",
      "\n",
      "3. Share Data Across Meta Companies: Meta shares your data with its affiliated companies to improve safety, security, and integrity, and to comply with applicable law, especially where financial products and services are involved.\n",
      "\n",
      "4. Provide Reports to Advertisers: Meta gives advertisers aggregated performance reports (not your personal data) to help them understand how people interact with their ads.\n",
      "\n",
      "Meta states that they do not sell your personal data but use it for the above purposes. If you want more specific details or have further questions about how your data is managed, please let me know!\n"
     ]
    }
   ],
   "source": [
    "# get messages and tool outputs\n",
    "for m in react_output[\"messages\"]:\n",
    "    m.pretty_print()\n",
    "    if isinstance(m, ToolMessage):\n",
    "        print()\n",
    "        print(f\" --> Tool artifact: {m.artifact} (type: {type(m.artifact)})\")"
   ]
  },
  {
   "cell_type": "code",
   "execution_count": 16,
   "id": "3bb2981d",
   "metadata": {},
   "outputs": [
    {
     "name": "stdout",
     "output_type": "stream",
     "text": [
      "Based on Meta’s Terms of Service, here’s what Meta can do with your personal data:\n",
      "\n",
      "1. Provide Personalized Ads: Meta uses your personal data (such as your activity and interests) to show you personalized ads and sponsored content that are more relevant to you. Advertisers do not receive your personal information directly; Meta determines which ads you see based on your profile and activity.\n",
      "\n",
      "2. Maintain Safety and Security: Meta may access, preserve, use, and share your information to detect misuse, address harmful conduct, and help protect the community. This can include removing content, restricting access, disabling accounts, or involving law enforcement in response to violations or threats.\n",
      "\n",
      "3. Share Data Across Meta Companies: Meta shares your data with its affiliated companies to improve safety, security, and integrity, and to comply with applicable law, especially where financial products and services are involved.\n",
      "\n",
      "4. Provide Reports to Advertisers: Meta gives advertisers aggregated performance reports (not your personal data) to help them understand how people interact with their ads.\n",
      "\n",
      "Meta states that they do not sell your personal data but use it for the above purposes. If you want more specific details or have further questions about how your data is managed, please let me know!\n"
     ]
    }
   ],
   "source": [
    "final_message = react_output[\"messages\"][-1]\n",
    "print(final_message.content)"
   ]
  },
  {
   "cell_type": "code",
   "execution_count": null,
   "id": "27cb1f79",
   "metadata": {},
   "outputs": [],
   "source": []
  }
 ],
 "metadata": {
  "kernelspec": {
   "display_name": "ai-agents",
   "language": "python",
   "name": "python3"
  },
  "language_info": {
   "codemirror_mode": {
    "name": "ipython",
    "version": 3
   },
   "file_extension": ".py",
   "mimetype": "text/x-python",
   "name": "python",
   "nbconvert_exporter": "python",
   "pygments_lexer": "ipython3",
   "version": "3.12.11"
  }
 },
 "nbformat": 4,
 "nbformat_minor": 5
}
