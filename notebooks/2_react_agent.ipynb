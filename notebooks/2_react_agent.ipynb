{
 "cells": [
  {
   "cell_type": "markdown",
   "id": "b78efe2d",
   "metadata": {},
   "source": [
    "# ReAct Agent"
   ]
  },
  {
   "cell_type": "markdown",
   "id": "d1b10f58",
   "metadata": {},
   "source": [
    "In this notebook we will build a [ReAct](https://react-lm.github.io/) agent, a general tool-calling agent architecture that:\n",
    "- lets the model call specific tools\n",
    "- passes the tool output back to the model\n",
    "- lets the model reason about the tool output to decide what to do next (e.g., call another tool or just respond directly)\n",
    "\n",
    "This [general purpose architecture](https://blog.langchain.dev/planning-for-agents/) can be applied to many types of tools. \n",
    "\n",
    "![ReAct architecture](https://substackcdn.com/image/fetch/f_auto,q_auto:good,fl_progressive:steep/https%3A%2F%2Fsubstack-post-media.s3.amazonaws.com%2Fpublic%2Fimages%2F06f2cf46-df40-48f9-a798-931222b0f70a_590x592.png)\n",
    "\n",
    "The complete implementation of the ReAct agent can be found on `src/hackathon/agents/react/agent.py`"
   ]
  },
  {
   "cell_type": "code",
   "execution_count": 1,
   "id": "1367c28c",
   "metadata": {},
   "outputs": [
    {
     "data": {
      "text/plain": [
       "True"
      ]
     },
     "execution_count": 1,
     "metadata": {},
     "output_type": "execute_result"
    }
   ],
   "source": [
    "# load the environment variables\n",
    "import os\n",
    "from dotenv import load_dotenv\n",
    "load_dotenv(verbose=True)"
   ]
  },
  {
   "cell_type": "markdown",
   "id": "4f5a5f34",
   "metadata": {},
   "source": [
    "## State"
   ]
  },
  {
   "cell_type": "code",
   "execution_count": 2,
   "id": "34964478",
   "metadata": {},
   "outputs": [],
   "source": [
    "from typing_extensions import TypedDict\n",
    "from typing import Annotated, Any\n",
    "from operator import add\n",
    "from langchain_core.messages import AnyMessage\n",
    "from langgraph.graph.message import add_messages\n",
    "\n",
    "# define the state\n",
    "class ReActState(TypedDict):\n",
    "    messages: Annotated[list[AnyMessage], add_messages]  # same as in langgraph.graph.MessagesState"
   ]
  },
  {
   "cell_type": "markdown",
   "id": "684f78b2",
   "metadata": {},
   "source": [
    "## Tools\n",
    "\n",
    "Here we define the tools using the `@tool` decorator. We set `response_format=\"content_and_artifact\"` to save the artifacts of a tool's execution that we want to make accessible to downstream components of the graph or backend APIs. \"For example if a tool returns a custom object, a dataframe or an image, we may want to pass some metadata about this output to the model without passing the actual output to the model. At the same time, we may want to be able to access this full output elsewhere, for example in downstream tools.\" ([see docs](https://python.langchain.com/docs/how_to/tool_artifacts/))\n",
    "\n",
    "This way, we distinguish between the parts of the tool output meant for the model (this is the ToolMessage.content) and those parts which are meant for use outside the model (ToolMessage.artifact)."
   ]
  },
  {
   "cell_type": "code",
   "execution_count": 3,
   "id": "ca9f8643",
   "metadata": {},
   "outputs": [],
   "source": [
    "from langchain_core.tools import tool\n",
    "from hackathon.config import llm, ModelProviders\n",
    "\n",
    "@tool(response_format=\"content_and_artifact\", parse_docstring=True)\n",
    "def add(a: int, b: int) -> tuple[str, int]:\n",
    "    \"\"\"Adds a and b.\n",
    "\n",
    "    Args:\n",
    "        a: first int\n",
    "        b: second int\n",
    "    \"\"\"\n",
    "    result = a + b\n",
    "    message = f\"Adding {a} and {b} gives {result}\"\n",
    "    return message, result\n",
    "\n",
    "@tool(response_format=\"content_and_artifact\", parse_docstring=True)\n",
    "def multiply(a: int, b: int) -> tuple[str, int]:\n",
    "    \"\"\"Multiply a and b.\n",
    "\n",
    "    Args:\n",
    "        a: first int\n",
    "        b: second int\n",
    "    \"\"\"\n",
    "    result = a * b\n",
    "    message = f\"Multiplying {a} and {b} gives {result}\"\n",
    "    return message, result\n",
    "\n",
    "@tool(response_format=\"content_and_artifact\", parse_docstring=True)\n",
    "def divide(a: int, b: int) -> tuple[str, float]:\n",
    "    \"\"\"Divide a and b.\n",
    "\n",
    "    Args:\n",
    "        a: first int\n",
    "        b: second int\n",
    "    \"\"\"\n",
    "    if b == 0:\n",
    "        raise ValueError(\"Cannot divide by zero\")\n",
    "    result = a / b\n",
    "    message = f\"Dividing {a} by {b} gives {result}\"\n",
    "    return message, result"
   ]
  },
  {
   "cell_type": "code",
   "execution_count": 4,
   "id": "c1a220d0",
   "metadata": {},
   "outputs": [],
   "source": [
    "tools = [add, multiply, divide]\n",
    "\n",
    "if os.getenv(\"MODEL_PROVIDER\") == ModelProviders.OPENAI:\n",
    "    # we set parallel tool calling to false as math generally is done sequentially\n",
    "    bind_math_tools_kwargs = {\"parallel_tool_calls\": False}\n",
    "else:\n",
    "    # Ollama chat model does not support the parallel tool calling feature\n",
    "    bind_math_tools_kwargs = {}\n",
    "\n",
    "# Bind tools to the LLM\n",
    "llm_with_tools = llm.bind_tools(tools, **bind_math_tools_kwargs)"
   ]
  },
  {
   "cell_type": "markdown",
   "id": "89a18817",
   "metadata": {},
   "source": [
    "## ReAct agent"
   ]
  },
  {
   "cell_type": "markdown",
   "id": "81deb700",
   "metadata": {},
   "source": [
    "### Nodes\n",
    "\n",
    "[`ToolNode`](https://langchain-ai.github.io/langgraph/reference/agents/#langgraph.prebuilt.tool_node.ToolNode) is a useful shortcut if you want to create a node to execute tools.\n",
    "\n",
    "The `ToolNode` is roughly analogous to:\n",
    "\n",
    "```python\n",
    "tools_by_name = {tool.name: tool for tool in tools}\n",
    "def tool_node(state: dict):\n",
    "    result = []\n",
    "    for tool_call in state[\"messages\"][-1].tool_calls:\n",
    "        tool = tools_by_name[tool_call[\"name\"]]\n",
    "        observation = tool.invoke(tool_call[\"args\"])\n",
    "        result.append(ToolMessage(content=observation, tool_call_id=tool_call[\"id\"]))\n",
    "    return {\"messages\": result}\n",
    "```\n",
    "\n",
    "the [`tools_condition`](https://langchain-ai.github.io/langgraph/reference/agents/#langgraph.prebuilt.tool_node.tools_condition) is a simple router used to build the ReAct's conditional edge:\n",
    "- If the latest message from assistant is a tool call -> tools_condition routes to `\"tools\"` (we need to make sure to name the tool node as `\"tools\"`)\n",
    "- If the latest message from assistant is a not a tool call -> tools_condition routes to `END`"
   ]
  },
  {
   "cell_type": "markdown",
   "id": "56018a47",
   "metadata": {},
   "source": [
    "### Graph"
   ]
  },
  {
   "cell_type": "code",
   "execution_count": 5,
   "id": "ae9cfea9",
   "metadata": {},
   "outputs": [],
   "source": [
    "from langgraph.graph import START, END, StateGraph\n",
    "from langchain_core.messages import HumanMessage, SystemMessage, AIMessage, ToolMessage\n",
    "from langgraph.prebuilt import ToolNode, tools_condition\n",
    "from IPython.display import Image, display\n",
    "\n",
    "# System message\n",
    "sys_msg = SystemMessage(content=\"You are a helpful assistant tasked with performing arithmetic on a set of inputs.\")\n",
    "\n",
    "# Nodes\n",
    "def llm_node(state: ReActState):\n",
    "   return {\"messages\": [llm_with_tools.invoke([sys_msg] + state[\"messages\"])]}\n",
    "\n",
    "tool_node = ToolNode(tools)\n",
    "\n",
    "# Graph\n",
    "react_builder = StateGraph(ReActState)\n",
    "\n",
    "# Define nodes\n",
    "react_builder.add_node(\"llm\", llm_node)\n",
    "react_builder.add_node(\"tools\", tool_node)\n",
    "\n",
    "# Define edges\n",
    "react_builder.add_edge(START, \"llm\")\n",
    "react_builder.add_conditional_edges(\"llm\", tools_condition)  # routes to \"tools\" or \"__end__\"\n",
    "react_builder.add_edge(\"tools\", \"llm\")\n",
    "\n",
    "# Compile the graph\n",
    "react_graph = react_builder.compile()"
   ]
  },
  {
   "cell_type": "code",
   "execution_count": 6,
   "id": "08efc4f1",
   "metadata": {},
   "outputs": [
    {
     "data": {
      "image/png": "[encoded data removed]",
      "text/plain": [
       "<IPython.core.display.Image object>"
      ]
     },
     "metadata": {},
     "output_type": "display_data"
    }
   ],
   "source": [
    "# Show Graph\n",
    "display(Image(react_graph.get_graph(xray=True).draw_mermaid_png()))"
   ]
  },
  {
   "cell_type": "markdown",
   "id": "1b98c300",
   "metadata": {},
   "source": [
    "### Run ReAct Agent"
   ]
  },
  {
   "cell_type": "code",
   "execution_count": 7,
   "id": "9f2a9b64",
   "metadata": {},
   "outputs": [],
   "source": [
    "# Define the input\n",
    "messages = [\n",
    "    HumanMessage(content=\"Add 11 and 53. Multiply the output by 2. Then divide it by 16\"),\n",
    "]\n",
    "\n",
    "# Run the graph\n",
    "react_output = react_graph.invoke(input={\"messages\": messages})"
   ]
  },
  {
   "cell_type": "code",
   "execution_count": 8,
   "id": "bb0f332d",
   "metadata": {},
   "outputs": [
    {
     "name": "stdout",
     "output_type": "stream",
     "text": [
      "================================\u001b[1m Human Message \u001b[0m=================================\n",
      "\n",
      "Add 11 and 53. Multiply the output by 2. Then divide it by 16\n",
      "==================================\u001b[1m Ai Message \u001b[0m==================================\n",
      "Tool Calls:\n",
      "  add (call_rSHI6ZW1ETy4YXFI7f3QRyjY)\n",
      " Call ID: call_rSHI6ZW1ETy4YXFI7f3QRyjY\n",
      "  Args:\n",
      "    a: 11\n",
      "    b: 53\n",
      "=================================\u001b[1m Tool Message \u001b[0m=================================\n",
      "Name: add\n",
      "\n",
      "Adding 11 and 53 gives 64\n",
      "\n",
      " --> Tool artifact: 64 (type: <class 'int'>)\n",
      "==================================\u001b[1m Ai Message \u001b[0m==================================\n",
      "Tool Calls:\n",
      "  multiply (call_MZtbJwdrNGcMMa1aku3Hc1Mn)\n",
      " Call ID: call_MZtbJwdrNGcMMa1aku3Hc1Mn\n",
      "  Args:\n",
      "    a: 64\n",
      "    b: 2\n",
      "=================================\u001b[1m Tool Message \u001b[0m=================================\n",
      "Name: multiply\n",
      "\n",
      "Multiplying 64 and 2 gives 128\n",
      "\n",
      " --> Tool artifact: 128 (type: <class 'int'>)\n",
      "==================================\u001b[1m Ai Message \u001b[0m==================================\n",
      "Tool Calls:\n",
      "  divide (call_CMMhyRUb11Vzy6ep5YdFesle)\n",
      " Call ID: call_CMMhyRUb11Vzy6ep5YdFesle\n",
      "  Args:\n",
      "    a: 128\n",
      "    b: 16\n",
      "=================================\u001b[1m Tool Message \u001b[0m=================================\n",
      "Name: divide\n",
      "\n",
      "Dividing 128 by 16 gives 8.0\n",
      "\n",
      " --> Tool artifact: 8.0 (type: <class 'float'>)\n",
      "==================================\u001b[1m Ai Message \u001b[0m==================================\n",
      "\n",
      "Here are the calculations step by step:\n",
      "\n",
      "1. 11 + 53 = 64\n",
      "2. 64 × 2 = 128\n",
      "3. 128 ÷ 16 = 8\n",
      "\n",
      "The final result is 8.\n"
     ]
    }
   ],
   "source": [
    "# get messages and tool outputs\n",
    "for m in react_output[\"messages\"]:\n",
    "    m.pretty_print()\n",
    "    if isinstance(m, ToolMessage):\n",
    "        print()\n",
    "        print(f\" --> Tool artifact: {m.artifact} (type: {type(m.artifact)})\")"
   ]
  },
  {
   "cell_type": "code",
   "execution_count": 9,
   "id": "ca6935a5",
   "metadata": {},
   "outputs": [
    {
     "data": {
      "text/plain": [
       "{'messages': [HumanMessage(content='Add 11 and 53. Multiply the output by 2. Then divide it by 16', additional_kwargs={}, response_metadata={}, id='cb48bba3-2b4a-48c9-ae48-d092bf5edf0b'),\n",
       "  AIMessage(content='', additional_kwargs={'tool_calls': [{'id': 'call_rSHI6ZW1ETy4YXFI7f3QRyjY', 'function': {'arguments': '{\"a\":11,\"b\":53}', 'name': 'add'}, 'type': 'function'}], 'refusal': None}, response_metadata={'token_usage': {'completion_tokens': 17, 'prompt_tokens': 145, 'total_tokens': 162, 'completion_tokens_details': {'accepted_prediction_tokens': 0, 'audio_tokens': 0, 'reasoning_tokens': 0, 'rejected_prediction_tokens': 0}, 'prompt_tokens_details': {'audio_tokens': 0, 'cached_tokens': 0}}, 'model_name': 'gpt-4.1-2025-04-14', 'system_fingerprint': 'fp_51e1070cf2', 'id': 'chatcmpl-BlkgfUlmJDSFL3BpoTJsiDkALMmNP', 'service_tier': 'default', 'finish_reason': 'tool_calls', 'logprobs': None}, id='run--60894b5d-67d2-4d00-a8e1-f63deb2229c1-0', tool_calls=[{'name': 'add', 'args': {'a': 11, 'b': 53}, 'id': 'call_rSHI6ZW1ETy4YXFI7f3QRyjY', 'type': 'tool_call'}], usage_metadata={'input_tokens': 145, 'output_tokens': 17, 'total_tokens': 162, 'input_token_details': {'audio': 0, 'cache_read': 0}, 'output_token_details': {'audio': 0, 'reasoning': 0}}),\n",
       "  ToolMessage(content='Adding 11 and 53 gives 64', name='add', id='07ab4455-8789-4942-b063-a8bcbacf7941', tool_call_id='call_rSHI6ZW1ETy4YXFI7f3QRyjY', artifact=64),\n",
       "  AIMessage(content='', additional_kwargs={'tool_calls': [{'id': 'call_MZtbJwdrNGcMMa1aku3Hc1Mn', 'function': {'arguments': '{\"a\":64,\"b\":2}', 'name': 'multiply'}, 'type': 'function'}], 'refusal': None}, response_metadata={'token_usage': {'completion_tokens': 17, 'prompt_tokens': 178, 'total_tokens': 195, 'completion_tokens_details': {'accepted_prediction_tokens': 0, 'audio_tokens': 0, 'reasoning_tokens': 0, 'rejected_prediction_tokens': 0}, 'prompt_tokens_details': {'audio_tokens': 0, 'cached_tokens': 0}}, 'model_name': 'gpt-4.1-2025-04-14', 'system_fingerprint': 'fp_51e1070cf2', 'id': 'chatcmpl-BlkggckXbX2sqKhcFpeWlo5CgDfAt', 'service_tier': 'default', 'finish_reason': 'tool_calls', 'logprobs': None}, id='run--d73ae3dd-27a4-4e1f-8d8c-e2478b8a53bd-0', tool_calls=[{'name': 'multiply', 'args': {'a': 64, 'b': 2}, 'id': 'call_MZtbJwdrNGcMMa1aku3Hc1Mn', 'type': 'tool_call'}], usage_metadata={'input_tokens': 178, 'output_tokens': 17, 'total_tokens': 195, 'input_token_details': {'audio': 0, 'cache_read': 0}, 'output_token_details': {'audio': 0, 'reasoning': 0}}),\n",
       "  ToolMessage(content='Multiplying 64 and 2 gives 128', name='multiply', id='0a0602cb-88fe-4969-a938-3aa39ead9d7f', tool_call_id='call_MZtbJwdrNGcMMa1aku3Hc1Mn', artifact=128),\n",
       "  AIMessage(content='', additional_kwargs={'tool_calls': [{'id': 'call_CMMhyRUb11Vzy6ep5YdFesle', 'function': {'arguments': '{\"a\":128,\"b\":16}', 'name': 'divide'}, 'type': 'function'}], 'refusal': None}, response_metadata={'token_usage': {'completion_tokens': 17, 'prompt_tokens': 212, 'total_tokens': 229, 'completion_tokens_details': {'accepted_prediction_tokens': 0, 'audio_tokens': 0, 'reasoning_tokens': 0, 'rejected_prediction_tokens': 0}, 'prompt_tokens_details': {'audio_tokens': 0, 'cached_tokens': 0}}, 'model_name': 'gpt-4.1-2025-04-14', 'system_fingerprint': 'fp_51e1070cf2', 'id': 'chatcmpl-BlkghlQhplvyWuGTlhsuWmEEWBT3u', 'service_tier': 'default', 'finish_reason': 'tool_calls', 'logprobs': None}, id='run--90532977-ddbc-4b10-9da1-bea7c622c653-0', tool_calls=[{'name': 'divide', 'args': {'a': 128, 'b': 16}, 'id': 'call_CMMhyRUb11Vzy6ep5YdFesle', 'type': 'tool_call'}], usage_metadata={'input_tokens': 212, 'output_tokens': 17, 'total_tokens': 229, 'input_token_details': {'audio': 0, 'cache_read': 0}, 'output_token_details': {'audio': 0, 'reasoning': 0}}),\n",
       "  ToolMessage(content='Dividing 128 by 16 gives 8.0', name='divide', id='1c6e4cff-c7b5-4eee-8017-1a68ddfe6491', tool_call_id='call_CMMhyRUb11Vzy6ep5YdFesle', artifact=8.0),\n",
       "  AIMessage(content='Here are the calculations step by step:\\n\\n1. 11 + 53 = 64\\n2. 64 × 2 = 128\\n3. 128 ÷ 16 = 8\\n\\nThe final result is 8.', additional_kwargs={'refusal': None}, response_metadata={'token_usage': {'completion_tokens': 50, 'prompt_tokens': 248, 'total_tokens': 298, 'completion_tokens_details': {'accepted_prediction_tokens': 0, 'audio_tokens': 0, 'reasoning_tokens': 0, 'rejected_prediction_tokens': 0}, 'prompt_tokens_details': {'audio_tokens': 0, 'cached_tokens': 0}}, 'model_name': 'gpt-4.1-2025-04-14', 'system_fingerprint': 'fp_51e1070cf2', 'id': 'chatcmpl-BlkgiWLPybGq933Hd1FM54AUw6nLv', 'service_tier': 'default', 'finish_reason': 'stop', 'logprobs': None}, id='run--27d6b022-731b-43cd-84a6-9528d015e0df-0', usage_metadata={'input_tokens': 248, 'output_tokens': 50, 'total_tokens': 298, 'input_token_details': {'audio': 0, 'cache_read': 0}, 'output_token_details': {'audio': 0, 'reasoning': 0}})]}"
      ]
     },
     "execution_count": 9,
     "metadata": {},
     "output_type": "execute_result"
    }
   ],
   "source": [
    "react_output"
   ]
  },
  {
   "cell_type": "code",
   "execution_count": 10,
   "id": "f3ee2b6e",
   "metadata": {},
   "outputs": [
    {
     "name": "stdout",
     "output_type": "stream",
     "text": [
      "Here are the calculations step by step:\n",
      "\n",
      "1. 11 + 53 = 64\n",
      "2. 64 × 2 = 128\n",
      "3. 128 ÷ 16 = 8\n",
      "\n",
      "The final result is 8.\n"
     ]
    }
   ],
   "source": [
    "final_message = react_output[\"messages\"][-1]\n",
    "print(final_message.content)"
   ]
  },
  {
   "cell_type": "markdown",
   "id": "5ff380f6",
   "metadata": {},
   "source": [
    "## Explore Further\n",
    "\n",
    "### Persistance\n",
    "\n",
    "Langchain agents can have [two types of memory](https://langchain-ai.github.io/langgraph/how-tos/persistence/):\n",
    "\n",
    "1. **Short-term (within-thread) memory (a.k.a. checkpointers)**: Chatbot can persist conversational history and / or allow interruptions in a chat session \n",
    "2. **Long-term (cross-thread) memory (a.k.a. stores)**: Chatbot can remember information about a specific user *across all chat sessions*"
   ]
  }
 ],
 "metadata": {
  "kernelspec": {
   "display_name": ".venv",
   "language": "python",
   "name": "python3"
  },
  "language_info": {
   "codemirror_mode": {
    "name": "ipython",
    "version": 3
   },
   "file_extension": ".py",
   "mimetype": "text/x-python",
   "name": "python",
   "nbconvert_exporter": "python",
   "pygments_lexer": "ipython3",
   "version": "3.12.9"
  }
 },
 "nbformat": 4,
 "nbformat_minor": 5
}
