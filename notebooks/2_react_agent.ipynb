{
 "cells": [
  {
   "cell_type": "markdown",
   "id": "b78efe2d",
   "metadata": {},
   "source": [
    "# ReAct Agent"
   ]
  },
  {
   "cell_type": "markdown",
   "id": "d1b10f58",
   "metadata": {},
   "source": [
    "In this notebook we will build a [ReAct](https://react-lm.github.io/) agent, a general tool-calling agent architecture that:\n",
    "- lets the model call specific tools\n",
    "- passes the tool output back to the model\n",
    "- lets the model reason about the tool output to decide what to do next (e.g., call another tool or just respond directly)\n",
    "\n",
    "This [general purpose architecture](https://blog.langchain.dev/planning-for-agents/) can be applied to many types of tools. \n",
    "\n",
    "![ReAct architecture](https://substackcdn.com/image/fetch/f_auto,q_auto:good,fl_progressive:steep/https%3A%2F%2Fsubstack-post-media.s3.amazonaws.com%2Fpublic%2Fimages%2F06f2cf46-df40-48f9-a798-931222b0f70a_590x592.png)\n",
    "\n",
    "The complete implementation of the ReAct agent can be found on `src/hackathon/agents/react/agent.py`"
   ]
  },
  {
   "cell_type": "markdown",
   "id": "fe6945fa",
   "metadata": {},
   "source": [
    "## Define LLM"
   ]
  },
  {
   "cell_type": "code",
   "execution_count": 1,
   "id": "1367c28c",
   "metadata": {},
   "outputs": [],
   "source": [
    "from langchain_ollama import ChatOllama\n",
    "from hackathon.config import OLLAMA_MODEL\n",
    "\n",
    "llm = ChatOllama(model=OLLAMA_MODEL)"
   ]
  },
  {
   "cell_type": "markdown",
   "id": "4f5a5f34",
   "metadata": {},
   "source": [
    "## Define State"
   ]
  },
  {
   "cell_type": "code",
   "execution_count": 2,
   "id": "34964478",
   "metadata": {},
   "outputs": [],
   "source": [
    "from typing_extensions import TypedDict\n",
    "from typing import Annotated, Any\n",
    "from operator import add\n",
    "from langchain_core.messages import AnyMessage\n",
    "from langgraph.graph.message import add_messages\n",
    "\n",
    "# define the state\n",
    "class ReActState(TypedDict):\n",
    "    messages: Annotated[list[AnyMessage], add_messages]  # same as in langgraph.graph.MessagesState\n",
    "    tool_outputs: Annotated[list[Any], add]\n",
    "    "
   ]
  },
  {
   "cell_type": "markdown",
   "id": "684f78b2",
   "metadata": {},
   "source": [
    "## Define Tools\n",
    "\n",
    "Here we define the tools using the `@tool` decorator. We set `response_format=\"content_and_artifact\"` to save the artifacts of a tool's execution that we want to make accessible to downstream components of the graph or backend APIs. \"For example if a tool returns a custom object, a dataframe or an image, we may want to pass some metadata about this output to the model without passing the actual output to the model. At the same time, we may want to be able to access this full output elsewhere, for example in downstream tools.\" ([see docs](https://python.langchain.com/docs/how_to/tool_artifacts/))\n",
    "\n",
    "This way, we distinguish between the parts of the tool output meant for the model (this is the ToolMessage.content) and those parts which are meant for use outside the model (ToolMessage.artifact)."
   ]
  },
  {
   "cell_type": "code",
   "execution_count": 7,
   "id": "ca9f8643",
   "metadata": {},
   "outputs": [],
   "source": [
    "from langchain_core.tools import tool\n",
    "\n",
    "@tool(response_format=\"content_and_artifact\", parse_docstring=True)\n",
    "def add(a: int, b: int) -> tuple[str, int]:\n",
    "    \"\"\"Adds a and b.\n",
    "\n",
    "    Args:\n",
    "        a: first int\n",
    "        b: second int\n",
    "    \"\"\"\n",
    "    result = a + b\n",
    "    message = f\"Adding {a} and {b} gives {result}\"\n",
    "    return message, result\n",
    "\n",
    "@tool(response_format=\"content_and_artifact\", parse_docstring=True)\n",
    "def multiply(a: int, b: int) -> tuple[str, int]:\n",
    "    \"\"\"Multiply a and b.\n",
    "\n",
    "    Args:\n",
    "        a: first int\n",
    "        b: second int\n",
    "    \"\"\"\n",
    "    result = a * b\n",
    "    message = f\"Multiplying {a} and {b} gives {result}\"\n",
    "    return message, result\n",
    "\n",
    "@tool(response_format=\"content_and_artifact\", parse_docstring=True)\n",
    "def divide(a: int, b: int) -> tuple[str, float]:\n",
    "    \"\"\"Divide a and b.\n",
    "\n",
    "    Args:\n",
    "        a: first int\n",
    "        b: second int\n",
    "    \"\"\"\n",
    "    if b == 0:\n",
    "        raise ValueError(\"Cannot divide by zero\")\n",
    "    result = a / b\n",
    "    message = f\"Dividing {a} by {b} gives {result}\"\n",
    "    return message, result\n",
    "\n",
    "tools = [add, multiply, divide]\n",
    "\n",
    "# Bind tools to the LLM\n",
    "llm_with_tools = llm.bind_tools(tools)"
   ]
  },
  {
   "cell_type": "markdown",
   "id": "89a18817",
   "metadata": {},
   "source": [
    "## Define ReAct agent"
   ]
  },
  {
   "cell_type": "markdown",
   "id": "81deb700",
   "metadata": {},
   "source": [
    "### Nodes\n",
    "\n",
    "[`ToolNode`](https://langchain-ai.github.io/langgraph/reference/agents/#langgraph.prebuilt.tool_node.ToolNode) is a useful shortcut if you want to create a node to execute tools.\n",
    "\n",
    "The `ToolNode` is roughly analogous to:\n",
    "\n",
    "```python\n",
    "tools_by_name = {tool.name: tool for tool in tools}\n",
    "def tool_node(state: dict):\n",
    "    result = []\n",
    "    for tool_call in state[\"messages\"][-1].tool_calls:\n",
    "        tool = tools_by_name[tool_call[\"name\"]]\n",
    "        observation = tool.invoke(tool_call[\"args\"])\n",
    "        result.append(ToolMessage(content=observation, tool_call_id=tool_call[\"id\"]))\n",
    "    return {\"messages\": result}\n",
    "```\n",
    "\n",
    "the [`tools_condition`](https://langchain-ai.github.io/langgraph/reference/agents/#langgraph.prebuilt.tool_node.tools_condition) is a simple router used to build the ReAct's conditional edge:\n",
    "- If the latest message from assistant is a tool call -> tools_condition routes to `\"tools\"` (we need to make sure to name the tool node as `\"tools\"`)\n",
    "- If the latest message from assistant is a not a tool call -> tools_condition routes to `END`"
   ]
  },
  {
   "cell_type": "markdown",
   "id": "56018a47",
   "metadata": {},
   "source": [
    "### Graph"
   ]
  },
  {
   "cell_type": "code",
   "execution_count": 8,
   "id": "ae9cfea9",
   "metadata": {},
   "outputs": [],
   "source": [
    "from langgraph.graph import START, END, StateGraph\n",
    "from langchain_core.messages import HumanMessage, SystemMessage, AIMessage, ToolMessage\n",
    "from langgraph.prebuilt import ToolNode, tools_condition\n",
    "from IPython.display import Image, display\n",
    "\n",
    "# System message\n",
    "sys_msg = SystemMessage(content=\"You are a helpful assistant tasked with performing arithmetic on a set of inputs.\")\n",
    "\n",
    "# Nodes\n",
    "def llm_node(state: ReActState):\n",
    "   return {\"messages\": [llm_with_tools.invoke([sys_msg] + state[\"messages\"])]}\n",
    "\n",
    "tool_node = ToolNode(tools)\n",
    "\n",
    "# Graph\n",
    "react_builder = StateGraph(ReActState)\n",
    "\n",
    "# Define nodes\n",
    "react_builder.add_node(\"llm\", llm_node)\n",
    "react_builder.add_node(\"tools\", tool_node)\n",
    "\n",
    "# Define edges\n",
    "react_builder.add_edge(START, \"llm\")\n",
    "react_builder.add_conditional_edges(\"llm\", tools_condition)  # routes to \"tools\" or \"__end__\"\n",
    "react_builder.add_edge(\"tools\", \"llm\")\n",
    "\n",
    "# Compile the graph\n",
    "react_graph = react_builder.compile()"
   ]
  },
  {
   "cell_type": "code",
   "execution_count": 9,
   "id": "08efc4f1",
   "metadata": {},
   "outputs": [
    {
     "data": {
      "image/png": "[encoded data removed]",
      "text/plain": [
       "<IPython.core.display.Image object>"
      ]
     },
     "metadata": {},
     "output_type": "display_data"
    }
   ],
   "source": [
    "# Show Graph\n",
    "display(Image(react_graph.get_graph(xray=True).draw_mermaid_png()))"
   ]
  },
  {
   "cell_type": "markdown",
   "id": "1b98c300",
   "metadata": {},
   "source": [
    "### Run ReAct Agent"
   ]
  },
  {
   "cell_type": "code",
   "execution_count": 13,
   "id": "9f2a9b64",
   "metadata": {},
   "outputs": [],
   "source": [
    "# Define the input\n",
    "messages = [\n",
    "    HumanMessage(content=\"Multiply 375 by 12897\"),\n",
    "]\n",
    "\n",
    "# Run the graph\n",
    "react_output = react_graph.invoke(input={\"messages\": messages})"
   ]
  },
  {
   "cell_type": "code",
   "execution_count": 14,
   "id": "bb0f332d",
   "metadata": {},
   "outputs": [
    {
     "name": "stdout",
     "output_type": "stream",
     "text": [
      "================================\u001b[1m Human Message \u001b[0m=================================\n",
      "\n",
      "Multiply 375 by 12897\n",
      "==================================\u001b[1m Ai Message \u001b[0m==================================\n",
      "\n",
      "<think>\n",
      "Okay, the user wants to multiply 375 by 12897. Let me check the available functions. There's a multiply function that takes two integers, a and b. So I need to call that function with a=375 and b=12897. I should make sure both numbers are integers, which they are. Alright, the tool call should be straightforward.\n",
      "</think>\n",
      "Tool Calls:\n",
      "  multiply (b24e2533-bd61-48fd-9eb9-a22db89eb665)\n",
      " Call ID: b24e2533-bd61-48fd-9eb9-a22db89eb665\n",
      "  Args:\n",
      "    a: 375\n",
      "    b: 12897\n",
      "=================================\u001b[1m Tool Message \u001b[0m=================================\n",
      "Name: multiply\n",
      "\n",
      "Multiplying 375 and 12897 gives 4836375\n",
      "\n",
      " --> Tool artifact: 4836375\n",
      " --> Tool artifact data type: <class 'int'>\n",
      "==================================\u001b[1m Ai Message \u001b[0m==================================\n",
      "\n",
      "<think>\n",
      "Okay, the user asked to multiply 375 by 12897. I used the multiply function with those numbers. The result came back as 4836375. Now I need to present this answer clearly. Let me check if the multiplication makes sense. 375 times 10,000 is 3,750,000. 375 times 2,000 is 750,000. Adding those gives 4,500,000. Then 375 times 897... Hmm, maybe breaking it down further would help, but the function already gave the correct result. So I'll just state the answer clearly.\n",
      "</think>\n",
      "\n",
      "The product of 375 and 12897 is **4,836,375**.\n"
     ]
    }
   ],
   "source": [
    "# get messages and tool outputs\n",
    "for m in react_output[\"messages\"]:\n",
    "    m.pretty_print()\n",
    "    if isinstance(m, ToolMessage):\n",
    "        print()\n",
    "        print(f\" --> Tool artifact: {m.artifact}\")\n",
    "        print(f\" --> Tool artifact data type: {type(m.artifact)}\")"
   ]
  },
  {
   "cell_type": "code",
   "execution_count": 17,
   "id": "ca6935a5",
   "metadata": {},
   "outputs": [
    {
     "data": {
      "text/plain": [
       "{'messages': [HumanMessage(content='Multiply 375 by 12897', additional_kwargs={}, response_metadata={}, id='8fbf3ad2-80ca-4d08-b836-0006d2af01f8'),\n",
       "  AIMessage(content=\"<think>\\nOkay, the user wants to multiply 375 by 12897. Let me check the available functions. There's a multiply function that takes two integers, a and b. So I need to call that function with a=375 and b=12897. I should make sure both numbers are integers, which they are. Alright, the tool call should be straightforward.\\n</think>\\n\\n\", additional_kwargs={}, response_metadata={'model': 'qwen3:14b', 'created_at': '2025-06-23T03:01:14.955332Z', 'done': True, 'done_reason': 'stop', 'total_duration': 14101777791, 'load_duration': 35025458, 'prompt_eval_count': 295, 'prompt_eval_duration': 5326089916, 'eval_count': 119, 'eval_duration': 8727744167, 'model_name': 'qwen3:14b'}, id='run--d2e0fd00-5a10-42f2-922d-2faf2820cba8-0', tool_calls=[{'name': 'multiply', 'args': {'a': 375, 'b': 12897}, 'id': 'b24e2533-bd61-48fd-9eb9-a22db89eb665', 'type': 'tool_call'}], usage_metadata={'input_tokens': 295, 'output_tokens': 119, 'total_tokens': 414}),\n",
       "  ToolMessage(content='Multiplying 375 and 12897 gives 4836375', name='multiply', id='2a93451c-9820-437a-83e2-5f8b5f924855', tool_call_id='b24e2533-bd61-48fd-9eb9-a22db89eb665', artifact=4836375),\n",
       "  AIMessage(content=\"<think>\\nOkay, the user asked to multiply 375 by 12897. I used the multiply function with those numbers. The result came back as 4836375. Now I need to present this answer clearly. Let me check if the multiplication makes sense. 375 times 10,000 is 3,750,000. 375 times 2,000 is 750,000. Adding those gives 4,500,000. Then 375 times 897... Hmm, maybe breaking it down further would help, but the function already gave the correct result. So I'll just state the answer clearly.\\n</think>\\n\\nThe product of 375 and 12897 is **4,836,375**.\", additional_kwargs={}, response_metadata={'model': 'qwen3:14b', 'created_at': '2025-06-23T03:01:36.488596Z', 'done': True, 'done_reason': 'stop', 'total_duration': 21496175000, 'load_duration': 42386917, 'prompt_eval_count': 419, 'prompt_eval_duration': 652214917, 'eval_count': 190, 'eval_duration': 20762526417, 'model_name': 'qwen3:14b'}, id='run--1fcb108c-892b-489c-9ba0-3daf51dddc5c-0', usage_metadata={'input_tokens': 419, 'output_tokens': 190, 'total_tokens': 609})],\n",
       " 'tool_outputs': []}"
      ]
     },
     "execution_count": 17,
     "metadata": {},
     "output_type": "execute_result"
    }
   ],
   "source": [
    "react_output"
   ]
  },
  {
   "cell_type": "markdown",
   "id": "6fe8c756",
   "metadata": {},
   "source": [
    "### Check agent's final answer"
   ]
  },
  {
   "cell_type": "code",
   "execution_count": 18,
   "id": "36d0a787",
   "metadata": {},
   "outputs": [
    {
     "name": "stdout",
     "output_type": "stream",
     "text": [
      "The product of 375 and 12897 is **4,836,375**.\n"
     ]
    }
   ],
   "source": [
    "from hackathon.utils import remove_thinking_tags\n",
    "\n",
    "final_answer = react_output[\"messages\"][-1].content\n",
    "print(remove_thinking_tags(final_answer))"
   ]
  },
  {
   "cell_type": "code",
   "execution_count": 16,
   "id": "e2f29c01",
   "metadata": {},
   "outputs": [
    {
     "name": "stdout",
     "output_type": "stream",
     "text": [
      "4,836,375\n"
     ]
    }
   ],
   "source": [
    "# check if the math is correct\n",
    "math_result = 375 * 12897\n",
    "print(f\"{math_result:,.0f}\")"
   ]
  },
  {
   "cell_type": "markdown",
   "id": "5ff380f6",
   "metadata": {},
   "source": [
    "## Explore Further\n",
    "\n",
    "### Persistance\n",
    "\n",
    "Langchain agents can have [two types of memory](https://langchain-ai.github.io/langgraph/how-tos/persistence/):\n",
    "\n",
    "1. **Short-term (within-thread) memory (a.k.a. checkpointers)**: Chatbot can persist conversational history and / or allow interruptions in a chat session \n",
    "2. **Long-term (cross-thread) memory (a.k.a. stores)**: Chatbot can remember information about a specific user *across all chat sessions*"
   ]
  }
 ],
 "metadata": {
  "kernelspec": {
   "display_name": ".venv",
   "language": "python",
   "name": "python3"
  },
  "language_info": {
   "codemirror_mode": {
    "name": "ipython",
    "version": 3
   },
   "file_extension": ".py",
   "mimetype": "text/x-python",
   "name": "python",
   "nbconvert_exporter": "python",
   "pygments_lexer": "ipython3",
   "version": "3.12.9"
  }
 },
 "nbformat": 4,
 "nbformat_minor": 5
}
